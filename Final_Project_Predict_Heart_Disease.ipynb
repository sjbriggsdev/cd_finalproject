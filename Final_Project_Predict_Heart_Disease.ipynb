{
  "cells": [
    {
      "cell_type": "markdown",
      "metadata": {
        "id": "view-in-github",
        "colab_type": "text"
      },
      "source": [
        "<a href=\"https://colab.research.google.com/github/sjbriggsdev/cd_finalproject/blob/master/Final_Project_Predict_Heart_Disease.ipynb\" target=\"_parent\"><img src=\"https://colab.research.google.com/assets/colab-badge.svg\" alt=\"Open In Colab\"/></a>"
      ]
    },
    {
      "cell_type": "markdown",
      "metadata": {
        "id": "JhVz1IxOp9eT"
      },
      "source": [
        "# Final Project - Predict Heart Disease\n",
        "- Steven Briggs\n",
        "- 03/29/22"
      ]
    },
    {
      "cell_type": "markdown",
      "metadata": {
        "id": "uCiT_Y1IAxH3"
      },
      "source": [
        "## IMPORTS"
      ]
    },
    {
      "cell_type": "code",
      "execution_count": 5,
      "metadata": {
        "colab": {
          "base_uri": "https://localhost:8080/"
        },
        "id": "zXXItb68_kwf",
        "outputId": "58420181-c431-40d3-c70f-36f9eba509b7"
      },
      "outputs": [
        {
          "output_type": "stream",
          "name": "stdout",
          "text": [
            "Drive already mounted at /content/drive; to attempt to forcibly remount, call drive.mount(\"/content/drive\", force_remount=True).\n"
          ]
        }
      ],
      "source": [
        "from google.colab import drive\n",
        "drive.mount('/content/drive')\n",
        "import pandas as pd"
      ]
    },
    {
      "cell_type": "code",
      "execution_count": 6,
      "metadata": {
        "id": "f-WQ01KvA0Ex"
      },
      "outputs": [],
      "source": [
        "# Basic imports\n",
        "import pandas as pd\n",
        "import numpy as np\n",
        "import matplotlib.pyplot as plt\n",
        "import seaborn as sns\n",
        "# Modeling imports\n",
        "from sklearn.model_selection import train_test_split\n",
        "from sklearn.preprocessing import StandardScaler\n",
        "from sklearn.compose import make_column_transformer, make_column_selector\n",
        "from sklearn.model_selection import train_test_split\n",
        "from sklearn.pipeline import make_pipeline\n",
        "from sklearn.impute import SimpleImputer\n",
        "from sklearn.neighbors import KNeighborsClassifier\n",
        "from sklearn.ensemble import RandomForestClassifier\n",
        "from sklearn.linear_model import LogisticRegression\n",
        "from sklearn import set_config\n",
        "set_config(display='diagram')\n",
        "# Scoring imports\n",
        "from sklearn import metrics\n",
        "from sklearn.metrics import accuracy_score, classification_report, confusion_matrix, ConfusionMatrixDisplay\n",
        "from sklearn.metrics import plot_confusion_matrix, recall_score, precision_score\n",
        "from sklearn.model_selection import GridSearchCV, RandomizedSearchCV\n",
        "# Clustering imports\n",
        "from sklearn.cluster import KMeans\n",
        "from sklearn.metrics import silhouette_score"
      ]
    },
    {
      "cell_type": "code",
      "execution_count": 3,
      "metadata": {
        "colab": {
          "base_uri": "https://localhost:8080/",
          "height": 206
        },
        "id": "K7gdCbVhA0LK",
        "outputId": "9f8a203a-2f5d-4698-b378-5ce954852919"
      },
      "outputs": [
        {
          "output_type": "execute_result",
          "data": {
            "text/plain": [
              "   sbp  tobacco   ldl  adiposity  famhist  typea  obesity  alcohol  age  chd\n",
              "0  160    12.00  5.73      23.11  Present     49    25.30    97.20   52    1\n",
              "1  144     0.01  4.41      28.61   Absent     55    28.87     2.06   63    1\n",
              "2  118     0.08  3.48      32.28  Present     52    29.14     3.81   46    0\n",
              "3  170     7.50  6.41      38.03  Present     51    31.99    24.26   58    1\n",
              "4  134    13.60  3.50      27.78  Present     60    25.99    57.34   49    1"
            ],
            "text/html": [
              "\n",
              "  <div id=\"df-3b1b15a8-2e12-494c-87c3-bf60e11a3b0f\">\n",
              "    <div class=\"colab-df-container\">\n",
              "      <div>\n",
              "<style scoped>\n",
              "    .dataframe tbody tr th:only-of-type {\n",
              "        vertical-align: middle;\n",
              "    }\n",
              "\n",
              "    .dataframe tbody tr th {\n",
              "        vertical-align: top;\n",
              "    }\n",
              "\n",
              "    .dataframe thead th {\n",
              "        text-align: right;\n",
              "    }\n",
              "</style>\n",
              "<table border=\"1\" class=\"dataframe\">\n",
              "  <thead>\n",
              "    <tr style=\"text-align: right;\">\n",
              "      <th></th>\n",
              "      <th>sbp</th>\n",
              "      <th>tobacco</th>\n",
              "      <th>ldl</th>\n",
              "      <th>adiposity</th>\n",
              "      <th>famhist</th>\n",
              "      <th>typea</th>\n",
              "      <th>obesity</th>\n",
              "      <th>alcohol</th>\n",
              "      <th>age</th>\n",
              "      <th>chd</th>\n",
              "    </tr>\n",
              "  </thead>\n",
              "  <tbody>\n",
              "    <tr>\n",
              "      <th>0</th>\n",
              "      <td>160</td>\n",
              "      <td>12.00</td>\n",
              "      <td>5.73</td>\n",
              "      <td>23.11</td>\n",
              "      <td>Present</td>\n",
              "      <td>49</td>\n",
              "      <td>25.30</td>\n",
              "      <td>97.20</td>\n",
              "      <td>52</td>\n",
              "      <td>1</td>\n",
              "    </tr>\n",
              "    <tr>\n",
              "      <th>1</th>\n",
              "      <td>144</td>\n",
              "      <td>0.01</td>\n",
              "      <td>4.41</td>\n",
              "      <td>28.61</td>\n",
              "      <td>Absent</td>\n",
              "      <td>55</td>\n",
              "      <td>28.87</td>\n",
              "      <td>2.06</td>\n",
              "      <td>63</td>\n",
              "      <td>1</td>\n",
              "    </tr>\n",
              "    <tr>\n",
              "      <th>2</th>\n",
              "      <td>118</td>\n",
              "      <td>0.08</td>\n",
              "      <td>3.48</td>\n",
              "      <td>32.28</td>\n",
              "      <td>Present</td>\n",
              "      <td>52</td>\n",
              "      <td>29.14</td>\n",
              "      <td>3.81</td>\n",
              "      <td>46</td>\n",
              "      <td>0</td>\n",
              "    </tr>\n",
              "    <tr>\n",
              "      <th>3</th>\n",
              "      <td>170</td>\n",
              "      <td>7.50</td>\n",
              "      <td>6.41</td>\n",
              "      <td>38.03</td>\n",
              "      <td>Present</td>\n",
              "      <td>51</td>\n",
              "      <td>31.99</td>\n",
              "      <td>24.26</td>\n",
              "      <td>58</td>\n",
              "      <td>1</td>\n",
              "    </tr>\n",
              "    <tr>\n",
              "      <th>4</th>\n",
              "      <td>134</td>\n",
              "      <td>13.60</td>\n",
              "      <td>3.50</td>\n",
              "      <td>27.78</td>\n",
              "      <td>Present</td>\n",
              "      <td>60</td>\n",
              "      <td>25.99</td>\n",
              "      <td>57.34</td>\n",
              "      <td>49</td>\n",
              "      <td>1</td>\n",
              "    </tr>\n",
              "  </tbody>\n",
              "</table>\n",
              "</div>\n",
              "      <button class=\"colab-df-convert\" onclick=\"convertToInteractive('df-3b1b15a8-2e12-494c-87c3-bf60e11a3b0f')\"\n",
              "              title=\"Convert this dataframe to an interactive table.\"\n",
              "              style=\"display:none;\">\n",
              "        \n",
              "  <svg xmlns=\"http://www.w3.org/2000/svg\" height=\"24px\"viewBox=\"0 0 24 24\"\n",
              "       width=\"24px\">\n",
              "    <path d=\"M0 0h24v24H0V0z\" fill=\"none\"/>\n",
              "    <path d=\"M18.56 5.44l.94 2.06.94-2.06 2.06-.94-2.06-.94-.94-2.06-.94 2.06-2.06.94zm-11 1L8.5 8.5l.94-2.06 2.06-.94-2.06-.94L8.5 2.5l-.94 2.06-2.06.94zm10 10l.94 2.06.94-2.06 2.06-.94-2.06-.94-.94-2.06-.94 2.06-2.06.94z\"/><path d=\"M17.41 7.96l-1.37-1.37c-.4-.4-.92-.59-1.43-.59-.52 0-1.04.2-1.43.59L10.3 9.45l-7.72 7.72c-.78.78-.78 2.05 0 2.83L4 21.41c.39.39.9.59 1.41.59.51 0 1.02-.2 1.41-.59l7.78-7.78 2.81-2.81c.8-.78.8-2.07 0-2.86zM5.41 20L4 18.59l7.72-7.72 1.47 1.35L5.41 20z\"/>\n",
              "  </svg>\n",
              "      </button>\n",
              "      \n",
              "  <style>\n",
              "    .colab-df-container {\n",
              "      display:flex;\n",
              "      flex-wrap:wrap;\n",
              "      gap: 12px;\n",
              "    }\n",
              "\n",
              "    .colab-df-convert {\n",
              "      background-color: #E8F0FE;\n",
              "      border: none;\n",
              "      border-radius: 50%;\n",
              "      cursor: pointer;\n",
              "      display: none;\n",
              "      fill: #1967D2;\n",
              "      height: 32px;\n",
              "      padding: 0 0 0 0;\n",
              "      width: 32px;\n",
              "    }\n",
              "\n",
              "    .colab-df-convert:hover {\n",
              "      background-color: #E2EBFA;\n",
              "      box-shadow: 0px 1px 2px rgba(60, 64, 67, 0.3), 0px 1px 3px 1px rgba(60, 64, 67, 0.15);\n",
              "      fill: #174EA6;\n",
              "    }\n",
              "\n",
              "    [theme=dark] .colab-df-convert {\n",
              "      background-color: #3B4455;\n",
              "      fill: #D2E3FC;\n",
              "    }\n",
              "\n",
              "    [theme=dark] .colab-df-convert:hover {\n",
              "      background-color: #434B5C;\n",
              "      box-shadow: 0px 1px 3px 1px rgba(0, 0, 0, 0.15);\n",
              "      filter: drop-shadow(0px 1px 2px rgba(0, 0, 0, 0.3));\n",
              "      fill: #FFFFFF;\n",
              "    }\n",
              "  </style>\n",
              "\n",
              "      <script>\n",
              "        const buttonEl =\n",
              "          document.querySelector('#df-3b1b15a8-2e12-494c-87c3-bf60e11a3b0f button.colab-df-convert');\n",
              "        buttonEl.style.display =\n",
              "          google.colab.kernel.accessAllowed ? 'block' : 'none';\n",
              "\n",
              "        async function convertToInteractive(key) {\n",
              "          const element = document.querySelector('#df-3b1b15a8-2e12-494c-87c3-bf60e11a3b0f');\n",
              "          const dataTable =\n",
              "            await google.colab.kernel.invokeFunction('convertToInteractive',\n",
              "                                                     [key], {});\n",
              "          if (!dataTable) return;\n",
              "\n",
              "          const docLinkHtml = 'Like what you see? Visit the ' +\n",
              "            '<a target=\"_blank\" href=https://colab.research.google.com/notebooks/data_table.ipynb>data table notebook</a>'\n",
              "            + ' to learn more about interactive tables.';\n",
              "          element.innerHTML = '';\n",
              "          dataTable['output_type'] = 'display_data';\n",
              "          await google.colab.output.renderOutput(dataTable, element);\n",
              "          const docLink = document.createElement('div');\n",
              "          docLink.innerHTML = docLinkHtml;\n",
              "          element.appendChild(docLink);\n",
              "        }\n",
              "      </script>\n",
              "    </div>\n",
              "  </div>\n",
              "  "
            ]
          },
          "metadata": {},
          "execution_count": 3
        }
      ],
      "source": [
        "df=pd.read_csv('/content/drive/MyDrive/DATA/chddata.csv')\n",
        "df.head()"
      ]
    },
    {
      "cell_type": "markdown",
      "metadata": {
        "id": "E2e-Tw2t03Q5"
      },
      "source": [
        "## DATA PREP AND CLEANUP"
      ]
    },
    {
      "cell_type": "code",
      "execution_count": 7,
      "metadata": {
        "colab": {
          "base_uri": "https://localhost:8080/"
        },
        "id": "rd8rij_Nshjp",
        "outputId": "0afb10c4-c327-4270-dfbc-0c3af9b9ce37"
      },
      "outputs": [
        {
          "output_type": "stream",
          "name": "stdout",
          "text": [
            "<class 'pandas.core.frame.DataFrame'>\n",
            "RangeIndex: 462 entries, 0 to 461\n",
            "Data columns (total 10 columns):\n",
            " #   Column     Non-Null Count  Dtype  \n",
            "---  ------     --------------  -----  \n",
            " 0   sbp        462 non-null    int64  \n",
            " 1   tobacco    462 non-null    float64\n",
            " 2   ldl        462 non-null    float64\n",
            " 3   adiposity  462 non-null    float64\n",
            " 4   famhist    462 non-null    object \n",
            " 5   typea      462 non-null    int64  \n",
            " 6   obesity    462 non-null    float64\n",
            " 7   alcohol    462 non-null    float64\n",
            " 8   age        462 non-null    int64  \n",
            " 9   chd        462 non-null    int64  \n",
            "dtypes: float64(5), int64(4), object(1)\n",
            "memory usage: 36.2+ KB\n"
          ]
        }
      ],
      "source": [
        "# using this command to compare to Data Dictionary dtypes.\n",
        "df.info()"
      ]
    },
    {
      "cell_type": "markdown",
      "metadata": {
        "id": "M3t_5UtpzeIS"
      },
      "source": [
        "---\n",
        "\n",
        "First attempt to convert Na_to_K Column failed because of a string so I replaced that string with a number and tried again.\n",
        "\n",
        "---"
      ]
    },
    {
      "cell_type": "code",
      "execution_count": 8,
      "metadata": {
        "colab": {
          "base_uri": "https://localhost:8080/"
        },
        "id": "FCZCMr8k3pK5",
        "outputId": "622c8913-9577-431e-b847-694c8c7e60f2"
      },
      "outputs": [
        {
          "output_type": "execute_result",
          "data": {
            "text/plain": [
              "sbp          0\n",
              "tobacco      0\n",
              "ldl          0\n",
              "adiposity    0\n",
              "famhist      0\n",
              "typea        0\n",
              "obesity      0\n",
              "alcohol      0\n",
              "age          0\n",
              "chd          0\n",
              "dtype: int64"
            ]
          },
          "metadata": {},
          "execution_count": 8
        }
      ],
      "source": [
        "# Checking for null values shows Age and BP Columns with missing\n",
        "df.isna().sum()"
      ]
    },
    {
      "cell_type": "code",
      "execution_count": 9,
      "metadata": {
        "colab": {
          "base_uri": "https://localhost:8080/",
          "height": 0
        },
        "id": "JzemxLqCs6jE",
        "outputId": "07806fad-f6c4-4052-fe6a-e64aae513a93"
      },
      "outputs": [
        {
          "output_type": "execute_result",
          "data": {
            "text/plain": [
              "Empty DataFrame\n",
              "Columns: [sbp, tobacco, ldl, adiposity, famhist, typea, obesity, alcohol, age, chd]\n",
              "Index: []"
            ],
            "text/html": [
              "\n",
              "  <div id=\"df-b262e5ee-1d04-4eb2-b0e9-6d4fcbe1d9d0\">\n",
              "    <div class=\"colab-df-container\">\n",
              "      <div>\n",
              "<style scoped>\n",
              "    .dataframe tbody tr th:only-of-type {\n",
              "        vertical-align: middle;\n",
              "    }\n",
              "\n",
              "    .dataframe tbody tr th {\n",
              "        vertical-align: top;\n",
              "    }\n",
              "\n",
              "    .dataframe thead th {\n",
              "        text-align: right;\n",
              "    }\n",
              "</style>\n",
              "<table border=\"1\" class=\"dataframe\">\n",
              "  <thead>\n",
              "    <tr style=\"text-align: right;\">\n",
              "      <th></th>\n",
              "      <th>sbp</th>\n",
              "      <th>tobacco</th>\n",
              "      <th>ldl</th>\n",
              "      <th>adiposity</th>\n",
              "      <th>famhist</th>\n",
              "      <th>typea</th>\n",
              "      <th>obesity</th>\n",
              "      <th>alcohol</th>\n",
              "      <th>age</th>\n",
              "      <th>chd</th>\n",
              "    </tr>\n",
              "  </thead>\n",
              "  <tbody>\n",
              "  </tbody>\n",
              "</table>\n",
              "</div>\n",
              "      <button class=\"colab-df-convert\" onclick=\"convertToInteractive('df-b262e5ee-1d04-4eb2-b0e9-6d4fcbe1d9d0')\"\n",
              "              title=\"Convert this dataframe to an interactive table.\"\n",
              "              style=\"display:none;\">\n",
              "        \n",
              "  <svg xmlns=\"http://www.w3.org/2000/svg\" height=\"24px\"viewBox=\"0 0 24 24\"\n",
              "       width=\"24px\">\n",
              "    <path d=\"M0 0h24v24H0V0z\" fill=\"none\"/>\n",
              "    <path d=\"M18.56 5.44l.94 2.06.94-2.06 2.06-.94-2.06-.94-.94-2.06-.94 2.06-2.06.94zm-11 1L8.5 8.5l.94-2.06 2.06-.94-2.06-.94L8.5 2.5l-.94 2.06-2.06.94zm10 10l.94 2.06.94-2.06 2.06-.94-2.06-.94-.94-2.06-.94 2.06-2.06.94z\"/><path d=\"M17.41 7.96l-1.37-1.37c-.4-.4-.92-.59-1.43-.59-.52 0-1.04.2-1.43.59L10.3 9.45l-7.72 7.72c-.78.78-.78 2.05 0 2.83L4 21.41c.39.39.9.59 1.41.59.51 0 1.02-.2 1.41-.59l7.78-7.78 2.81-2.81c.8-.78.8-2.07 0-2.86zM5.41 20L4 18.59l7.72-7.72 1.47 1.35L5.41 20z\"/>\n",
              "  </svg>\n",
              "      </button>\n",
              "      \n",
              "  <style>\n",
              "    .colab-df-container {\n",
              "      display:flex;\n",
              "      flex-wrap:wrap;\n",
              "      gap: 12px;\n",
              "    }\n",
              "\n",
              "    .colab-df-convert {\n",
              "      background-color: #E8F0FE;\n",
              "      border: none;\n",
              "      border-radius: 50%;\n",
              "      cursor: pointer;\n",
              "      display: none;\n",
              "      fill: #1967D2;\n",
              "      height: 32px;\n",
              "      padding: 0 0 0 0;\n",
              "      width: 32px;\n",
              "    }\n",
              "\n",
              "    .colab-df-convert:hover {\n",
              "      background-color: #E2EBFA;\n",
              "      box-shadow: 0px 1px 2px rgba(60, 64, 67, 0.3), 0px 1px 3px 1px rgba(60, 64, 67, 0.15);\n",
              "      fill: #174EA6;\n",
              "    }\n",
              "\n",
              "    [theme=dark] .colab-df-convert {\n",
              "      background-color: #3B4455;\n",
              "      fill: #D2E3FC;\n",
              "    }\n",
              "\n",
              "    [theme=dark] .colab-df-convert:hover {\n",
              "      background-color: #434B5C;\n",
              "      box-shadow: 0px 1px 3px 1px rgba(0, 0, 0, 0.15);\n",
              "      filter: drop-shadow(0px 1px 2px rgba(0, 0, 0, 0.3));\n",
              "      fill: #FFFFFF;\n",
              "    }\n",
              "  </style>\n",
              "\n",
              "      <script>\n",
              "        const buttonEl =\n",
              "          document.querySelector('#df-b262e5ee-1d04-4eb2-b0e9-6d4fcbe1d9d0 button.colab-df-convert');\n",
              "        buttonEl.style.display =\n",
              "          google.colab.kernel.accessAllowed ? 'block' : 'none';\n",
              "\n",
              "        async function convertToInteractive(key) {\n",
              "          const element = document.querySelector('#df-b262e5ee-1d04-4eb2-b0e9-6d4fcbe1d9d0');\n",
              "          const dataTable =\n",
              "            await google.colab.kernel.invokeFunction('convertToInteractive',\n",
              "                                                     [key], {});\n",
              "          if (!dataTable) return;\n",
              "\n",
              "          const docLinkHtml = 'Like what you see? Visit the ' +\n",
              "            '<a target=\"_blank\" href=https://colab.research.google.com/notebooks/data_table.ipynb>data table notebook</a>'\n",
              "            + ' to learn more about interactive tables.';\n",
              "          element.innerHTML = '';\n",
              "          dataTable['output_type'] = 'display_data';\n",
              "          await google.colab.output.renderOutput(dataTable, element);\n",
              "          const docLink = document.createElement('div');\n",
              "          docLink.innerHTML = docLinkHtml;\n",
              "          element.appendChild(docLink);\n",
              "        }\n",
              "      </script>\n",
              "    </div>\n",
              "  </div>\n",
              "  "
            ]
          },
          "metadata": {},
          "execution_count": 9
        }
      ],
      "source": [
        "# Checking for duplicated rows, found none.\n",
        "df[df.duplicated()]"
      ]
    },
    {
      "cell_type": "markdown",
      "metadata": {
        "id": "AdzDRKtr-iZF"
      },
      "source": [
        "---\n",
        "\n",
        "The function below looks for unique values in each column\n",
        "\n",
        "---"
      ]
    },
    {
      "cell_type": "code",
      "execution_count": 10,
      "metadata": {
        "colab": {
          "base_uri": "https://localhost:8080/"
        },
        "id": "m6z3Xm8w4eok",
        "outputId": "cc8e115a-fe8f-41a9-b99f-b88dfc40f6d5"
      },
      "outputs": [
        {
          "output_type": "stream",
          "name": "stdout",
          "text": [
            "- sbp:\n",
            "[101 102 103 106 108 109 110 112 114 116 117 118 120 121 122 123 124 126\n",
            " 127 128 129 130 132 134 136 137 138 140 142 143 144 145 146 148 150 152\n",
            " 153 154 156 158 160 161 162 164 166 168 170 174 176 178 180 182 188 190\n",
            " 194 198 200 206 208 214 216 218]\n",
            "- tobacco:\n",
            "[0.000e+00 1.000e-02 2.000e-02 3.000e-02 4.000e-02 5.000e-02 6.000e-02\n",
            " 7.000e-02 8.000e-02 9.000e-02 1.000e-01 1.200e-01 1.600e-01 1.800e-01\n",
            " 2.100e-01 2.800e-01 3.000e-01 3.100e-01 4.000e-01 4.100e-01 4.200e-01\n",
            " 4.500e-01 4.600e-01 4.800e-01 5.000e-01 5.200e-01 5.400e-01 5.600e-01\n",
            " 5.700e-01 6.000e-01 6.100e-01 6.400e-01 7.000e-01 7.200e-01 7.300e-01\n",
            " 7.500e-01 7.600e-01 8.000e-01 8.100e-01 8.700e-01 9.000e-01 9.200e-01\n",
            " 9.500e-01 9.600e-01 1.000e+00 1.020e+00 1.030e+00 1.040e+00 1.050e+00\n",
            " 1.080e+00 1.100e+00 1.150e+00 1.160e+00 1.200e+00 1.220e+00 1.250e+00\n",
            " 1.320e+00 1.350e+00 1.360e+00 1.400e+00 1.440e+00 1.500e+00 1.520e+00\n",
            " 1.530e+00 1.600e+00 1.610e+00 1.620e+00 1.680e+00 1.700e+00 1.720e+00\n",
            " 1.750e+00 1.800e+00 1.810e+00 1.910e+00 2.000e+00 2.020e+00 2.150e+00\n",
            " 2.160e+00 2.200e+00 2.240e+00 2.270e+00 2.350e+00 2.380e+00 2.400e+00\n",
            " 2.500e+00 2.520e+00 2.550e+00 2.600e+00 2.610e+00 2.700e+00 2.750e+00\n",
            " 2.780e+00 2.800e+00 2.920e+00 3.000e+00 3.020e+00 3.040e+00 3.100e+00\n",
            " 3.150e+00 3.200e+00 3.400e+00 3.460e+00 3.500e+00 3.570e+00 3.600e+00\n",
            " 3.700e+00 3.720e+00 3.800e+00 3.900e+00 3.960e+00 3.990e+00 4.000e+00\n",
            " 4.040e+00 4.050e+00 4.080e+00 4.090e+00 4.100e+00 4.180e+00 4.200e+00\n",
            " 4.250e+00 4.260e+00 4.280e+00 4.360e+00 4.400e+00 4.460e+00 4.480e+00\n",
            " 4.500e+00 4.600e+00 4.640e+00 4.650e+00 4.800e+00 4.820e+00 5.000e+00\n",
            " 5.040e+00 5.080e+00 5.100e+00 5.150e+00 5.160e+00 5.200e+00 5.300e+00\n",
            " 5.400e+00 5.500e+00 5.530e+00 5.600e+00 5.760e+00 5.800e+00 5.990e+00\n",
            " 6.000e+00 6.100e+00 6.170e+00 6.200e+00 6.300e+00 6.400e+00 6.600e+00\n",
            " 6.750e+00 6.800e+00 6.940e+00 7.000e+00 7.200e+00 7.280e+00 7.360e+00\n",
            " 7.400e+00 7.440e+00 7.500e+00 7.600e+00 7.770e+00 7.800e+00 7.900e+00\n",
            " 8.000e+00 8.080e+00 8.140e+00 8.200e+00 8.400e+00 8.600e+00 8.750e+00\n",
            " 8.800e+00 9.000e+00 9.100e+00 9.450e+00 9.600e+00 9.650e+00 9.900e+00\n",
            " 1.000e+01 1.010e+01 1.050e+01 1.120e+01 1.140e+01 1.179e+01 1.200e+01\n",
            " 1.216e+01 1.218e+01 1.220e+01 1.230e+01 1.250e+01 1.302e+01 1.320e+01\n",
            " 1.350e+01 1.360e+01 1.380e+01 1.400e+01 1.410e+01 1.440e+01 1.500e+01\n",
            " 1.550e+01 1.600e+01 1.800e+01 1.820e+01 1.920e+01 1.945e+01 1.960e+01\n",
            " 2.000e+01 2.501e+01 2.740e+01 3.120e+01]\n",
            "- ldl:\n",
            "[ 0.98  1.07  1.43  1.55  1.59  1.71  1.72  1.74  1.77  1.8   1.82  1.86\n",
            "  1.87  1.88  1.94  1.96  2.01  2.05  2.19  2.28  2.29  2.33  2.36  2.39\n",
            "  2.4   2.42  2.43  2.44  2.46  2.47  2.51  2.53  2.55  2.58  2.63  2.66\n",
            "  2.68  2.69  2.7   2.71  2.72  2.73  2.74  2.76  2.77  2.78  2.79  2.8\n",
            "  2.81  2.82  2.83  2.84  2.85  2.91  2.94  2.95  2.96  2.97  2.98  2.99\n",
            "  3.02  3.04  3.05  3.08  3.09  3.1   3.12  3.14  3.16  3.17  3.18  3.2\n",
            "  3.22  3.23  3.24  3.26  3.27  3.28  3.29  3.3   3.31  3.36  3.37  3.38\n",
            "  3.4   3.41  3.47  3.48  3.5   3.51  3.52  3.53  3.54  3.55  3.56  3.57\n",
            "  3.58  3.59  3.63  3.65  3.66  3.67  3.68  3.69  3.7   3.72  3.73  3.74\n",
            "  3.76  3.78  3.79  3.81  3.82  3.83  3.84  3.86  3.88  3.89  3.9   3.91\n",
            "  3.92  3.95  3.96  3.97  3.98  3.99  4.    4.01  4.02  4.03  4.04  4.11\n",
            "  4.12  4.13  4.14  4.15  4.16  4.17  4.18  4.19  4.21  4.22  4.23  4.24\n",
            "  4.26  4.3   4.31  4.32  4.33  4.34  4.37  4.39  4.41  4.42  4.43  4.44\n",
            "  4.49  4.51  4.55  4.59  4.6   4.61  4.63  4.64  4.65  4.66  4.67  4.68\n",
            "  4.69  4.71  4.75  4.77  4.79  4.8   4.81  4.82  4.86  4.87  4.89  4.9\n",
            "  4.91  4.92  4.93  4.94  4.96  4.97  4.98  4.99  5.    5.01  5.03  5.04\n",
            "  5.05  5.08  5.09  5.1   5.11  5.13  5.15  5.17  5.19  5.21  5.24  5.26\n",
            "  5.28  5.29  5.32  5.35  5.38  5.41  5.45  5.46  5.47  5.49  5.5   5.51\n",
            "  5.52  5.53  5.55  5.56  5.58  5.59  5.62  5.63  5.64  5.67  5.73  5.75\n",
            "  5.76  5.8   5.81  5.86  5.88  5.9   5.91  5.96  5.97  5.98  6.03  6.06\n",
            "  6.08  6.09  6.13  6.14  6.16  6.17  6.22  6.23  6.25  6.26  6.32  6.33\n",
            "  6.34  6.38  6.39  6.4   6.41  6.47  6.49  6.53  6.57  6.58  6.62  6.63\n",
            "  6.65  6.68  6.73  6.76  6.89  6.94  6.95  6.99  7.02  7.03  7.04  7.1\n",
            "  7.13  7.14  7.18  7.21  7.22  7.24  7.26  7.27  7.32  7.39  7.4   7.41\n",
            "  7.46  7.56  7.63  7.67  7.75  7.84  7.85  7.95  7.99  8.01  8.03  8.07\n",
            "  8.12  8.13  8.22  8.28  8.29  8.41  8.46  8.49  8.53  8.55  8.8   9.01\n",
            "  9.05  9.12  9.19  9.65  9.78 10.19 10.49 10.53 10.58 11.17 11.32 11.41\n",
            " 11.61 11.89 12.42 14.16 15.33]\n",
            "- adiposity:\n",
            "[ 6.74  7.12  8.66  9.28  9.37  9.39  9.64  9.69  9.74 10.05 10.29 10.35\n",
            " 10.38 10.45 10.73 10.85 11.02 11.17 11.59 11.61 11.82 11.87 12.   12.13\n",
            " 12.24 12.26 12.3  12.32 12.33 12.51 12.59 12.81 12.98 13.   13.04 13.15\n",
            " 13.19 13.27 13.35 13.39 13.52 13.65 13.68 13.69 13.92 14.29 14.4  14.6\n",
            " 14.69 14.9  14.97 14.99 15.11 15.16 15.23 15.7  15.89 15.96 16.02 16.1\n",
            " 16.17 16.2  16.3  16.38 16.42 16.48 16.64 16.66 16.67 17.04 17.15 17.16\n",
            " 17.2  17.21 17.22 17.26 17.33 17.42 17.5  17.53 17.78 17.91 18.01 18.04\n",
            " 18.14 18.35 18.44 18.53 18.72 18.84 18.86 18.95 18.96 19.06 19.39 19.4\n",
            " 19.48 19.52 19.54 19.56 19.59 19.63 19.71 19.75 19.85 19.97 19.99 20.13\n",
            " 20.22 20.25 20.31 20.37 20.41 20.47 20.57 20.66 20.69 20.71 21.03 21.06\n",
            " 21.1  21.11 21.13 21.18 21.31 21.36 21.39 21.53 21.57 21.61 21.64 21.7\n",
            " 21.73 21.93 21.97 22.   22.03 22.1  22.24 22.39 22.41 22.49 22.53 22.58\n",
            " 22.61 22.64 22.67 22.7  22.74 22.87 22.92 22.98 22.99 23.07 23.11 23.22\n",
            " 23.23 23.26 23.29 23.51 23.52 23.59 23.61 23.66 23.81 23.87 23.88 23.89\n",
            " 23.92 23.99 24.06 24.33 24.38 24.39 24.48 24.59 24.6  24.65 24.7  24.8\n",
            " 24.83 24.86 24.99 25.   25.02 25.05 25.1  25.22 25.31 25.39 25.42 25.43\n",
            " 25.55 25.63 25.68 25.69 25.71 25.72 25.73 25.76 25.78 25.84 25.93 25.98\n",
            " 26.01 26.08 26.1  26.13 26.17 26.25 26.26 26.35 26.45 26.47 26.48 26.5\n",
            " 26.51 26.52 26.54 26.55 26.57 26.63 26.66 26.68 26.71 26.72 26.75 26.84\n",
            " 26.97 27.14 27.33 27.41 27.43 27.55 27.57 27.58 27.59 27.64 27.68 27.73\n",
            " 27.78 27.86 27.87 27.89 27.95 28.02 28.04 28.11 28.17 28.25 28.28 28.34\n",
            " 28.45 28.47 28.56 28.61 28.66 28.69 28.81 28.82 28.83 28.95 29.01 29.06\n",
            " 29.07 29.12 29.13 29.18 29.26 29.27 29.29 29.3  29.35 29.38 29.45 29.54\n",
            " 29.58 29.63 29.74 29.79 29.81 29.87 29.89 29.98 30.09 30.11 30.12 30.23\n",
            " 30.28 30.31 30.46 30.53 30.74 30.75 30.77 30.79 30.84 30.86 30.9  30.96\n",
            " 30.98 31.04 31.29 31.33 31.35 31.4  31.58 31.72 31.79 31.81 31.85 31.9\n",
            " 31.99 32.03 32.1  32.16 32.23 32.25 32.27 32.28 32.38 32.44 32.48 32.57\n",
            " 32.72 32.74 32.79 32.88 32.97 33.02 33.05 33.15 33.23 33.27 33.36 33.39\n",
            " 33.41 33.55 33.58 33.67 33.7  33.88 33.91 33.97 33.99 34.02 34.03 34.04\n",
            " 34.07 34.15 34.21 34.27 34.3  34.34 34.46 34.53 34.65 34.71 34.72 34.8\n",
            " 34.81 34.99 35.04 35.1  35.28 35.36 35.39 35.4  35.45 35.54 35.61 35.66\n",
            " 35.95 35.96 36.07 36.1  36.16 36.21 36.35 36.55 36.57 36.59 36.85 36.94\n",
            " 37.05 37.12 37.15 37.25 37.42 37.43 37.83 37.89 37.99 38.02 38.03 38.11\n",
            " 39.35 39.43 39.64 39.66 39.68 39.71 39.97 40.6  41.05 42.06 42.17 42.49]\n",
            "- famhist:\n",
            "['Absent' 'Present']\n",
            "- typea:\n",
            "[13 20 25 26 28 29 30 31 32 33 34 35 36 37 38 39 40 41 42 43 44 45 46 47\n",
            " 48 49 50 51 52 53 54 55 56 57 58 59 60 61 62 63 64 65 66 67 68 69 70 71\n",
            " 72 73 74 75 77 78]\n",
            "- obesity:\n",
            "[14.7  17.75 17.81 17.89 18.36 18.46 18.5  18.75 19.15 19.3  19.37 19.38\n",
            " 19.4  19.44 19.48 19.49 19.57 19.61 19.82 20.   20.01 20.09 20.16 20.17\n",
            " 20.18 20.28 20.29 20.31 20.42 20.43 20.52 20.54 20.58 20.6  20.7  20.74\n",
            " 20.75 20.81 20.86 20.92 20.96 21.03 21.06 21.07 21.13 21.25 21.26 21.3\n",
            " 21.4  21.47 21.48 21.51 21.57 21.59 21.62 21.66 21.78 21.79 21.83 21.86\n",
            " 21.89 21.91 21.94 22.01 22.03 22.04 22.05 22.07 22.08 22.09 22.1  22.13\n",
            " 22.15 22.16 22.17 22.18 22.24 22.26 22.29 22.3  22.4  22.41 22.45 22.51\n",
            " 22.56 22.59 22.6  22.61 22.65 22.67 22.69 22.7  22.75 22.76 22.86 22.91\n",
            " 22.94 22.95 23.09 23.11 23.12 23.14 23.22 23.23 23.25 23.26 23.31 23.33\n",
            " 23.35 23.37 23.39 23.43 23.44 23.48 23.53 23.54 23.59 23.63 23.64 23.65\n",
            " 23.66 23.74 23.75 23.76 23.79 23.8  23.81 23.82 23.83 23.91 23.95 23.96\n",
            " 24.   24.05 24.07 24.08 24.13 24.15 24.18 24.2  24.25 24.32 24.34 24.36\n",
            " 24.37 24.38 24.46 24.49 24.5  24.54 24.58 24.64 24.69 24.7  24.72 24.73\n",
            " 24.78 24.79 24.8  24.81 24.82 24.86 24.92 24.94 24.96 24.97 24.98 25.\n",
            " 25.01 25.02 25.11 25.12 25.15 25.22 25.26 25.27 25.3  25.31 25.38 25.39\n",
            " 25.42 25.44 25.51 25.52 25.62 25.63 25.65 25.67 25.68 25.7  25.71 25.72\n",
            " 25.76 25.8  25.81 25.85 25.87 25.89 25.91 25.92 25.97 25.99 26.01 26.06\n",
            " 26.07 26.08 26.09 26.11 26.15 26.16 26.18 26.19 26.2  26.21 26.24 26.27\n",
            " 26.29 26.3  26.33 26.37 26.38 26.42 26.43 26.49 26.52 26.53 26.56 26.57\n",
            " 26.59 26.64 26.67 26.7  26.71 26.74 26.75 26.76 26.8  26.81 26.83 26.86\n",
            " 26.88 26.96 26.99 27.   27.02 27.03 27.04 27.07 27.09 27.14 27.16 27.19\n",
            " 27.2  27.23 27.25 27.26 27.29 27.3  27.35 27.36 27.38 27.39 27.44 27.45\n",
            " 27.52 27.55 27.59 27.62 27.66 27.68 27.78 27.8  27.81 27.83 27.84 27.86\n",
            " 27.87 27.92 27.95 27.96 28.02 28.07 28.08 28.11 28.25 28.33 28.34 28.37\n",
            " 28.4  28.41 28.45 28.49 28.5  28.51 28.61 28.63 28.64 28.67 28.69 28.7\n",
            " 28.71 28.73 28.75 28.84 28.85 28.87 28.88 28.92 28.94 28.99 29.   29.01\n",
            " 29.14 29.16 29.17 29.19 29.27 29.29 29.3  29.33 29.34 29.37 29.38 29.41\n",
            " 29.42 29.43 29.44 29.51 29.83 29.84 29.87 30.01 30.08 30.09 30.11 30.12\n",
            " 30.14 30.16 30.18 30.22 30.25 30.31 30.42 30.53 30.54 30.57 30.61 30.71\n",
            " 30.74 30.75 30.77 30.86 30.9  30.92 30.97 30.98 31.03 31.15 31.16 31.21\n",
            " 31.27 31.44 31.5  31.59 31.65 31.83 31.99 32.04 32.18 32.21 32.33 32.73\n",
            " 32.77 32.83 32.91 33.1  33.14 33.17 33.28 33.35 33.87 34.35 34.42 34.57\n",
            " 34.72 35.07 35.42 35.51 35.58 35.94 36.06 36.46 37.24 37.41 37.71 38.8\n",
            " 40.34 41.76 45.72 46.58]\n",
            "- alcohol:\n",
            "[  0.     0.19   0.26   0.37   0.51   0.6    0.68   0.69   0.74   0.86\n",
            "   0.88   0.95   0.97   1.03   1.25   1.37   1.42   1.46   1.47   1.54\n",
            "   1.75   2.02   2.06   2.34   2.42   2.49   2.57   2.61   2.62   2.72\n",
            "   2.78   2.88   2.93   3.09   3.13   3.18   3.22   3.29   3.41   3.5\n",
            "   3.52   3.6    3.81   3.87   3.89   3.91   4.03   4.11   4.17   4.53\n",
            "   4.55   4.63   4.66   4.8    5.19   5.25   5.55   5.66   5.86   6.04\n",
            "   6.17   6.27   6.43   6.51   6.53   6.54   6.69   6.72   7.3    7.41\n",
            "   7.61   7.71   7.85   7.92   7.97   8.13   8.23   8.26   8.33   8.36\n",
            "   8.42   8.51   9.26   9.59   9.65  10.08  10.33  10.46  10.49  10.8\n",
            "  11.1   11.11  11.52  11.55  11.6   11.73  11.83  12.24  12.34  12.55\n",
            "  12.86  13.27  13.37  13.89  14.02  14.14  14.21  14.4   14.5   14.66\n",
            "  14.71  14.77  15.12  15.22  15.43  15.77  15.94  16.3   16.35  16.46\n",
            "  16.71  17.02  17.14  17.47  17.74  18.    18.51  18.72  19.2   19.34\n",
            "  19.44  19.75  19.95  20.17  20.52  20.57  20.78  20.98  21.19  21.5\n",
            "  21.6   22.09  22.73  22.94  23.14  23.48  23.66  23.97  24.26  24.27\n",
            "  24.38  24.48  24.53  24.69  24.89  24.94  24.95  24.99  25.71  25.82\n",
            "  25.86  26.23  26.64  26.74  27.03  27.36  27.67  27.77  28.11  28.29\n",
            "  28.8   29.52  30.03  32.06  32.3   32.61  32.78  32.81  33.07  33.33\n",
            "  33.51  34.35  34.49  34.97  36.    36.17  36.77  37.03  37.65  38.06\n",
            "  38.88  38.98  39.36  39.91  40.32  40.63  40.94  41.66  42.79  42.99\n",
            "  43.2   43.71  45.    47.16  47.42  47.52  48.99  49.06  49.37  51.87\n",
            "  53.28  54.    55.89  56.06  57.34  58.11  58.32  59.14  59.79  61.71\n",
            "  62.43  62.54  64.8   65.31  66.27  66.65  66.86  72.    72.93  74.91\n",
            "  75.77  77.76  78.99  79.82  82.85  85.06  88.66  90.    90.31  90.93\n",
            "  92.62  97.2  100.32 108.   109.8  120.03 144.   145.29 147.19]\n",
            "- age:\n",
            "[15 16 17 18 19 20 21 23 24 25 26 27 28 29 30 31 32 33 34 35 36 37 38 39\n",
            " 40 41 42 43 44 45 46 47 48 49 50 51 52 53 54 55 56 57 58 59 60 61 62 63\n",
            " 64]\n",
            "- chd:\n",
            "[0 1]\n"
          ]
        }
      ],
      "source": [
        "for col in df:\n",
        "  isunique = df[col].unique()\n",
        "  isunique.sort()\n",
        "  print(f'- {col}:')\n",
        "  print(isunique)"
      ]
    },
    {
      "cell_type": "markdown",
      "metadata": {
        "id": "wIThWL-LvWwL"
      },
      "source": [
        "---\n",
        "\n",
        "Looking at the object columns, I found famhist has two entries \"Absent\" or \"Present\" so I set them to numeric.\n",
        "\n",
        "---"
      ]
    },
    {
      "cell_type": "code",
      "execution_count": 11,
      "metadata": {
        "id": "2_f6iVgNv2nf"
      },
      "outputs": [],
      "source": [
        "df['famhist'].replace({\"Absent\": 0,\"Present\": 1}, inplace=True)"
      ]
    },
    {
      "cell_type": "code",
      "execution_count": 12,
      "metadata": {
        "colab": {
          "base_uri": "https://localhost:8080/",
          "height": 0
        },
        "id": "Kgm3jxMQuoWK",
        "outputId": "51aa3553-2889-41ad-985f-a01450d86699"
      },
      "outputs": [
        {
          "output_type": "execute_result",
          "data": {
            "text/plain": [
              "   sbp  tobacco   ldl  adiposity  famhist  typea  obesity  alcohol  age  chd\n",
              "0  160    12.00  5.73      23.11        1     49    25.30    97.20   52    1\n",
              "1  144     0.01  4.41      28.61        0     55    28.87     2.06   63    1\n",
              "2  118     0.08  3.48      32.28        1     52    29.14     3.81   46    0\n",
              "3  170     7.50  6.41      38.03        1     51    31.99    24.26   58    1\n",
              "4  134    13.60  3.50      27.78        1     60    25.99    57.34   49    1"
            ],
            "text/html": [
              "\n",
              "  <div id=\"df-c714dd54-b6d1-44b2-8fb6-5f5a1d8424fa\">\n",
              "    <div class=\"colab-df-container\">\n",
              "      <div>\n",
              "<style scoped>\n",
              "    .dataframe tbody tr th:only-of-type {\n",
              "        vertical-align: middle;\n",
              "    }\n",
              "\n",
              "    .dataframe tbody tr th {\n",
              "        vertical-align: top;\n",
              "    }\n",
              "\n",
              "    .dataframe thead th {\n",
              "        text-align: right;\n",
              "    }\n",
              "</style>\n",
              "<table border=\"1\" class=\"dataframe\">\n",
              "  <thead>\n",
              "    <tr style=\"text-align: right;\">\n",
              "      <th></th>\n",
              "      <th>sbp</th>\n",
              "      <th>tobacco</th>\n",
              "      <th>ldl</th>\n",
              "      <th>adiposity</th>\n",
              "      <th>famhist</th>\n",
              "      <th>typea</th>\n",
              "      <th>obesity</th>\n",
              "      <th>alcohol</th>\n",
              "      <th>age</th>\n",
              "      <th>chd</th>\n",
              "    </tr>\n",
              "  </thead>\n",
              "  <tbody>\n",
              "    <tr>\n",
              "      <th>0</th>\n",
              "      <td>160</td>\n",
              "      <td>12.00</td>\n",
              "      <td>5.73</td>\n",
              "      <td>23.11</td>\n",
              "      <td>1</td>\n",
              "      <td>49</td>\n",
              "      <td>25.30</td>\n",
              "      <td>97.20</td>\n",
              "      <td>52</td>\n",
              "      <td>1</td>\n",
              "    </tr>\n",
              "    <tr>\n",
              "      <th>1</th>\n",
              "      <td>144</td>\n",
              "      <td>0.01</td>\n",
              "      <td>4.41</td>\n",
              "      <td>28.61</td>\n",
              "      <td>0</td>\n",
              "      <td>55</td>\n",
              "      <td>28.87</td>\n",
              "      <td>2.06</td>\n",
              "      <td>63</td>\n",
              "      <td>1</td>\n",
              "    </tr>\n",
              "    <tr>\n",
              "      <th>2</th>\n",
              "      <td>118</td>\n",
              "      <td>0.08</td>\n",
              "      <td>3.48</td>\n",
              "      <td>32.28</td>\n",
              "      <td>1</td>\n",
              "      <td>52</td>\n",
              "      <td>29.14</td>\n",
              "      <td>3.81</td>\n",
              "      <td>46</td>\n",
              "      <td>0</td>\n",
              "    </tr>\n",
              "    <tr>\n",
              "      <th>3</th>\n",
              "      <td>170</td>\n",
              "      <td>7.50</td>\n",
              "      <td>6.41</td>\n",
              "      <td>38.03</td>\n",
              "      <td>1</td>\n",
              "      <td>51</td>\n",
              "      <td>31.99</td>\n",
              "      <td>24.26</td>\n",
              "      <td>58</td>\n",
              "      <td>1</td>\n",
              "    </tr>\n",
              "    <tr>\n",
              "      <th>4</th>\n",
              "      <td>134</td>\n",
              "      <td>13.60</td>\n",
              "      <td>3.50</td>\n",
              "      <td>27.78</td>\n",
              "      <td>1</td>\n",
              "      <td>60</td>\n",
              "      <td>25.99</td>\n",
              "      <td>57.34</td>\n",
              "      <td>49</td>\n",
              "      <td>1</td>\n",
              "    </tr>\n",
              "  </tbody>\n",
              "</table>\n",
              "</div>\n",
              "      <button class=\"colab-df-convert\" onclick=\"convertToInteractive('df-c714dd54-b6d1-44b2-8fb6-5f5a1d8424fa')\"\n",
              "              title=\"Convert this dataframe to an interactive table.\"\n",
              "              style=\"display:none;\">\n",
              "        \n",
              "  <svg xmlns=\"http://www.w3.org/2000/svg\" height=\"24px\"viewBox=\"0 0 24 24\"\n",
              "       width=\"24px\">\n",
              "    <path d=\"M0 0h24v24H0V0z\" fill=\"none\"/>\n",
              "    <path d=\"M18.56 5.44l.94 2.06.94-2.06 2.06-.94-2.06-.94-.94-2.06-.94 2.06-2.06.94zm-11 1L8.5 8.5l.94-2.06 2.06-.94-2.06-.94L8.5 2.5l-.94 2.06-2.06.94zm10 10l.94 2.06.94-2.06 2.06-.94-2.06-.94-.94-2.06-.94 2.06-2.06.94z\"/><path d=\"M17.41 7.96l-1.37-1.37c-.4-.4-.92-.59-1.43-.59-.52 0-1.04.2-1.43.59L10.3 9.45l-7.72 7.72c-.78.78-.78 2.05 0 2.83L4 21.41c.39.39.9.59 1.41.59.51 0 1.02-.2 1.41-.59l7.78-7.78 2.81-2.81c.8-.78.8-2.07 0-2.86zM5.41 20L4 18.59l7.72-7.72 1.47 1.35L5.41 20z\"/>\n",
              "  </svg>\n",
              "      </button>\n",
              "      \n",
              "  <style>\n",
              "    .colab-df-container {\n",
              "      display:flex;\n",
              "      flex-wrap:wrap;\n",
              "      gap: 12px;\n",
              "    }\n",
              "\n",
              "    .colab-df-convert {\n",
              "      background-color: #E8F0FE;\n",
              "      border: none;\n",
              "      border-radius: 50%;\n",
              "      cursor: pointer;\n",
              "      display: none;\n",
              "      fill: #1967D2;\n",
              "      height: 32px;\n",
              "      padding: 0 0 0 0;\n",
              "      width: 32px;\n",
              "    }\n",
              "\n",
              "    .colab-df-convert:hover {\n",
              "      background-color: #E2EBFA;\n",
              "      box-shadow: 0px 1px 2px rgba(60, 64, 67, 0.3), 0px 1px 3px 1px rgba(60, 64, 67, 0.15);\n",
              "      fill: #174EA6;\n",
              "    }\n",
              "\n",
              "    [theme=dark] .colab-df-convert {\n",
              "      background-color: #3B4455;\n",
              "      fill: #D2E3FC;\n",
              "    }\n",
              "\n",
              "    [theme=dark] .colab-df-convert:hover {\n",
              "      background-color: #434B5C;\n",
              "      box-shadow: 0px 1px 3px 1px rgba(0, 0, 0, 0.15);\n",
              "      filter: drop-shadow(0px 1px 2px rgba(0, 0, 0, 0.3));\n",
              "      fill: #FFFFFF;\n",
              "    }\n",
              "  </style>\n",
              "\n",
              "      <script>\n",
              "        const buttonEl =\n",
              "          document.querySelector('#df-c714dd54-b6d1-44b2-8fb6-5f5a1d8424fa button.colab-df-convert');\n",
              "        buttonEl.style.display =\n",
              "          google.colab.kernel.accessAllowed ? 'block' : 'none';\n",
              "\n",
              "        async function convertToInteractive(key) {\n",
              "          const element = document.querySelector('#df-c714dd54-b6d1-44b2-8fb6-5f5a1d8424fa');\n",
              "          const dataTable =\n",
              "            await google.colab.kernel.invokeFunction('convertToInteractive',\n",
              "                                                     [key], {});\n",
              "          if (!dataTable) return;\n",
              "\n",
              "          const docLinkHtml = 'Like what you see? Visit the ' +\n",
              "            '<a target=\"_blank\" href=https://colab.research.google.com/notebooks/data_table.ipynb>data table notebook</a>'\n",
              "            + ' to learn more about interactive tables.';\n",
              "          element.innerHTML = '';\n",
              "          dataTable['output_type'] = 'display_data';\n",
              "          await google.colab.output.renderOutput(dataTable, element);\n",
              "          const docLink = document.createElement('div');\n",
              "          docLink.innerHTML = docLinkHtml;\n",
              "          element.appendChild(docLink);\n",
              "        }\n",
              "      </script>\n",
              "    </div>\n",
              "  </div>\n",
              "  "
            ]
          },
          "metadata": {},
          "execution_count": 12
        }
      ],
      "source": [
        "# Checking the DF after changes\n",
        "df.head()"
      ]
    },
    {
      "cell_type": "code",
      "execution_count": 13,
      "metadata": {
        "colab": {
          "base_uri": "https://localhost:8080/"
        },
        "id": "psnXq3a2uoQj",
        "outputId": "773009d3-12de-490d-a5ee-ef673f957573"
      },
      "outputs": [
        {
          "output_type": "stream",
          "name": "stdout",
          "text": [
            "<class 'pandas.core.frame.DataFrame'>\n",
            "RangeIndex: 462 entries, 0 to 461\n",
            "Data columns (total 10 columns):\n",
            " #   Column     Non-Null Count  Dtype  \n",
            "---  ------     --------------  -----  \n",
            " 0   sbp        462 non-null    int64  \n",
            " 1   tobacco    462 non-null    float64\n",
            " 2   ldl        462 non-null    float64\n",
            " 3   adiposity  462 non-null    float64\n",
            " 4   famhist    462 non-null    int64  \n",
            " 5   typea      462 non-null    int64  \n",
            " 6   obesity    462 non-null    float64\n",
            " 7   alcohol    462 non-null    float64\n",
            " 8   age        462 non-null    int64  \n",
            " 9   chd        462 non-null    int64  \n",
            "dtypes: float64(5), int64(5)\n",
            "memory usage: 36.2 KB\n"
          ]
        }
      ],
      "source": [
        "# Checking the object types after changes\n",
        "df.info()"
      ]
    },
    {
      "cell_type": "code",
      "execution_count": 14,
      "metadata": {
        "colab": {
          "base_uri": "https://localhost:8080/",
          "height": 0
        },
        "id": "JHhZjZAhrMlg",
        "outputId": "c2a561eb-b131-464e-e2c4-cf8a2db88a3c"
      },
      "outputs": [
        {
          "output_type": "execute_result",
          "data": {
            "text/plain": [
              "              sbp     tobacco         ldl   adiposity     famhist       typea  \\\n",
              "count  462.000000  462.000000  462.000000  462.000000  462.000000  462.000000   \n",
              "mean   138.326840    3.635649    4.740325   25.406732    0.415584   53.103896   \n",
              "std     20.496317    4.593024    2.070909    7.780699    0.493357    9.817534   \n",
              "min    101.000000    0.000000    0.980000    6.740000    0.000000   13.000000   \n",
              "25%    124.000000    0.052500    3.282500   19.775000    0.000000   47.000000   \n",
              "50%    134.000000    2.000000    4.340000   26.115000    0.000000   53.000000   \n",
              "75%    148.000000    5.500000    5.790000   31.227500    1.000000   60.000000   \n",
              "max    218.000000   31.200000   15.330000   42.490000    1.000000   78.000000   \n",
              "\n",
              "          obesity     alcohol         age         chd  \n",
              "count  462.000000  462.000000  462.000000  462.000000  \n",
              "mean    26.044113   17.044394   42.816017    0.346320  \n",
              "std      4.213680   24.481059   14.608956    0.476313  \n",
              "min     14.700000    0.000000   15.000000    0.000000  \n",
              "25%     22.985000    0.510000   31.000000    0.000000  \n",
              "50%     25.805000    7.510000   45.000000    0.000000  \n",
              "75%     28.497500   23.892500   55.000000    1.000000  \n",
              "max     46.580000  147.190000   64.000000    1.000000  "
            ],
            "text/html": [
              "\n",
              "  <div id=\"df-e452c96f-fbf1-47b5-b8a3-2b42847006c3\">\n",
              "    <div class=\"colab-df-container\">\n",
              "      <div>\n",
              "<style scoped>\n",
              "    .dataframe tbody tr th:only-of-type {\n",
              "        vertical-align: middle;\n",
              "    }\n",
              "\n",
              "    .dataframe tbody tr th {\n",
              "        vertical-align: top;\n",
              "    }\n",
              "\n",
              "    .dataframe thead th {\n",
              "        text-align: right;\n",
              "    }\n",
              "</style>\n",
              "<table border=\"1\" class=\"dataframe\">\n",
              "  <thead>\n",
              "    <tr style=\"text-align: right;\">\n",
              "      <th></th>\n",
              "      <th>sbp</th>\n",
              "      <th>tobacco</th>\n",
              "      <th>ldl</th>\n",
              "      <th>adiposity</th>\n",
              "      <th>famhist</th>\n",
              "      <th>typea</th>\n",
              "      <th>obesity</th>\n",
              "      <th>alcohol</th>\n",
              "      <th>age</th>\n",
              "      <th>chd</th>\n",
              "    </tr>\n",
              "  </thead>\n",
              "  <tbody>\n",
              "    <tr>\n",
              "      <th>count</th>\n",
              "      <td>462.000000</td>\n",
              "      <td>462.000000</td>\n",
              "      <td>462.000000</td>\n",
              "      <td>462.000000</td>\n",
              "      <td>462.000000</td>\n",
              "      <td>462.000000</td>\n",
              "      <td>462.000000</td>\n",
              "      <td>462.000000</td>\n",
              "      <td>462.000000</td>\n",
              "      <td>462.000000</td>\n",
              "    </tr>\n",
              "    <tr>\n",
              "      <th>mean</th>\n",
              "      <td>138.326840</td>\n",
              "      <td>3.635649</td>\n",
              "      <td>4.740325</td>\n",
              "      <td>25.406732</td>\n",
              "      <td>0.415584</td>\n",
              "      <td>53.103896</td>\n",
              "      <td>26.044113</td>\n",
              "      <td>17.044394</td>\n",
              "      <td>42.816017</td>\n",
              "      <td>0.346320</td>\n",
              "    </tr>\n",
              "    <tr>\n",
              "      <th>std</th>\n",
              "      <td>20.496317</td>\n",
              "      <td>4.593024</td>\n",
              "      <td>2.070909</td>\n",
              "      <td>7.780699</td>\n",
              "      <td>0.493357</td>\n",
              "      <td>9.817534</td>\n",
              "      <td>4.213680</td>\n",
              "      <td>24.481059</td>\n",
              "      <td>14.608956</td>\n",
              "      <td>0.476313</td>\n",
              "    </tr>\n",
              "    <tr>\n",
              "      <th>min</th>\n",
              "      <td>101.000000</td>\n",
              "      <td>0.000000</td>\n",
              "      <td>0.980000</td>\n",
              "      <td>6.740000</td>\n",
              "      <td>0.000000</td>\n",
              "      <td>13.000000</td>\n",
              "      <td>14.700000</td>\n",
              "      <td>0.000000</td>\n",
              "      <td>15.000000</td>\n",
              "      <td>0.000000</td>\n",
              "    </tr>\n",
              "    <tr>\n",
              "      <th>25%</th>\n",
              "      <td>124.000000</td>\n",
              "      <td>0.052500</td>\n",
              "      <td>3.282500</td>\n",
              "      <td>19.775000</td>\n",
              "      <td>0.000000</td>\n",
              "      <td>47.000000</td>\n",
              "      <td>22.985000</td>\n",
              "      <td>0.510000</td>\n",
              "      <td>31.000000</td>\n",
              "      <td>0.000000</td>\n",
              "    </tr>\n",
              "    <tr>\n",
              "      <th>50%</th>\n",
              "      <td>134.000000</td>\n",
              "      <td>2.000000</td>\n",
              "      <td>4.340000</td>\n",
              "      <td>26.115000</td>\n",
              "      <td>0.000000</td>\n",
              "      <td>53.000000</td>\n",
              "      <td>25.805000</td>\n",
              "      <td>7.510000</td>\n",
              "      <td>45.000000</td>\n",
              "      <td>0.000000</td>\n",
              "    </tr>\n",
              "    <tr>\n",
              "      <th>75%</th>\n",
              "      <td>148.000000</td>\n",
              "      <td>5.500000</td>\n",
              "      <td>5.790000</td>\n",
              "      <td>31.227500</td>\n",
              "      <td>1.000000</td>\n",
              "      <td>60.000000</td>\n",
              "      <td>28.497500</td>\n",
              "      <td>23.892500</td>\n",
              "      <td>55.000000</td>\n",
              "      <td>1.000000</td>\n",
              "    </tr>\n",
              "    <tr>\n",
              "      <th>max</th>\n",
              "      <td>218.000000</td>\n",
              "      <td>31.200000</td>\n",
              "      <td>15.330000</td>\n",
              "      <td>42.490000</td>\n",
              "      <td>1.000000</td>\n",
              "      <td>78.000000</td>\n",
              "      <td>46.580000</td>\n",
              "      <td>147.190000</td>\n",
              "      <td>64.000000</td>\n",
              "      <td>1.000000</td>\n",
              "    </tr>\n",
              "  </tbody>\n",
              "</table>\n",
              "</div>\n",
              "      <button class=\"colab-df-convert\" onclick=\"convertToInteractive('df-e452c96f-fbf1-47b5-b8a3-2b42847006c3')\"\n",
              "              title=\"Convert this dataframe to an interactive table.\"\n",
              "              style=\"display:none;\">\n",
              "        \n",
              "  <svg xmlns=\"http://www.w3.org/2000/svg\" height=\"24px\"viewBox=\"0 0 24 24\"\n",
              "       width=\"24px\">\n",
              "    <path d=\"M0 0h24v24H0V0z\" fill=\"none\"/>\n",
              "    <path d=\"M18.56 5.44l.94 2.06.94-2.06 2.06-.94-2.06-.94-.94-2.06-.94 2.06-2.06.94zm-11 1L8.5 8.5l.94-2.06 2.06-.94-2.06-.94L8.5 2.5l-.94 2.06-2.06.94zm10 10l.94 2.06.94-2.06 2.06-.94-2.06-.94-.94-2.06-.94 2.06-2.06.94z\"/><path d=\"M17.41 7.96l-1.37-1.37c-.4-.4-.92-.59-1.43-.59-.52 0-1.04.2-1.43.59L10.3 9.45l-7.72 7.72c-.78.78-.78 2.05 0 2.83L4 21.41c.39.39.9.59 1.41.59.51 0 1.02-.2 1.41-.59l7.78-7.78 2.81-2.81c.8-.78.8-2.07 0-2.86zM5.41 20L4 18.59l7.72-7.72 1.47 1.35L5.41 20z\"/>\n",
              "  </svg>\n",
              "      </button>\n",
              "      \n",
              "  <style>\n",
              "    .colab-df-container {\n",
              "      display:flex;\n",
              "      flex-wrap:wrap;\n",
              "      gap: 12px;\n",
              "    }\n",
              "\n",
              "    .colab-df-convert {\n",
              "      background-color: #E8F0FE;\n",
              "      border: none;\n",
              "      border-radius: 50%;\n",
              "      cursor: pointer;\n",
              "      display: none;\n",
              "      fill: #1967D2;\n",
              "      height: 32px;\n",
              "      padding: 0 0 0 0;\n",
              "      width: 32px;\n",
              "    }\n",
              "\n",
              "    .colab-df-convert:hover {\n",
              "      background-color: #E2EBFA;\n",
              "      box-shadow: 0px 1px 2px rgba(60, 64, 67, 0.3), 0px 1px 3px 1px rgba(60, 64, 67, 0.15);\n",
              "      fill: #174EA6;\n",
              "    }\n",
              "\n",
              "    [theme=dark] .colab-df-convert {\n",
              "      background-color: #3B4455;\n",
              "      fill: #D2E3FC;\n",
              "    }\n",
              "\n",
              "    [theme=dark] .colab-df-convert:hover {\n",
              "      background-color: #434B5C;\n",
              "      box-shadow: 0px 1px 3px 1px rgba(0, 0, 0, 0.15);\n",
              "      filter: drop-shadow(0px 1px 2px rgba(0, 0, 0, 0.3));\n",
              "      fill: #FFFFFF;\n",
              "    }\n",
              "  </style>\n",
              "\n",
              "      <script>\n",
              "        const buttonEl =\n",
              "          document.querySelector('#df-e452c96f-fbf1-47b5-b8a3-2b42847006c3 button.colab-df-convert');\n",
              "        buttonEl.style.display =\n",
              "          google.colab.kernel.accessAllowed ? 'block' : 'none';\n",
              "\n",
              "        async function convertToInteractive(key) {\n",
              "          const element = document.querySelector('#df-e452c96f-fbf1-47b5-b8a3-2b42847006c3');\n",
              "          const dataTable =\n",
              "            await google.colab.kernel.invokeFunction('convertToInteractive',\n",
              "                                                     [key], {});\n",
              "          if (!dataTable) return;\n",
              "\n",
              "          const docLinkHtml = 'Like what you see? Visit the ' +\n",
              "            '<a target=\"_blank\" href=https://colab.research.google.com/notebooks/data_table.ipynb>data table notebook</a>'\n",
              "            + ' to learn more about interactive tables.';\n",
              "          element.innerHTML = '';\n",
              "          dataTable['output_type'] = 'display_data';\n",
              "          await google.colab.output.renderOutput(dataTable, element);\n",
              "          const docLink = document.createElement('div');\n",
              "          docLink.innerHTML = docLinkHtml;\n",
              "          element.appendChild(docLink);\n",
              "        }\n",
              "      </script>\n",
              "    </div>\n",
              "  </div>\n",
              "  "
            ]
          },
          "metadata": {},
          "execution_count": 14
        }
      ],
      "source": [
        "df.describe()"
      ]
    },
    {
      "cell_type": "markdown",
      "metadata": {
        "id": "WliyEmFOJQOL"
      },
      "source": [
        "## VISUALIZATION"
      ]
    },
    {
      "cell_type": "code",
      "execution_count": null,
      "metadata": {
        "colab": {
          "base_uri": "https://localhost:8080/",
          "height": 722
        },
        "id": "4cg7TYAaradZ",
        "outputId": "1bd5f01d-c061-43e7-ab6f-fc72adefbc4e"
      },
      "outputs": [
        {
          "data": {
            "text/plain": [
              "<matplotlib.axes._subplots.AxesSubplot at 0x7f3b56c94090>"
            ]
          },
          "execution_count": 12,
          "metadata": {},
          "output_type": "execute_result"
        },
        {
          "data": {
            "image/png": "[encoded data removed]",
            "text/plain": [
              "<Figure size 864x864 with 2 Axes>"
            ]
          },
          "metadata": {},
          "output_type": "display_data"
        }
      ],
      "source": [
        "# plot a heatmap of all numeric data with annotation\n",
        "corr = df.corr()\n",
        "\n",
        "plt.figure(figsize=(12,12))\n",
        "sns.heatmap(corr,annot=True,cmap='coolwarm')"
      ]
    },
    {
      "cell_type": "markdown",
      "metadata": {
        "id": "xZYYk4kROFHV"
      },
      "source": [
        "---\n",
        "\n",
        "There appear to be strong correlations between Age, Obesity, and Adiposity (fatty tissue in the body).  Not as high but decent correlations between tobacco use and Age, as well as Adiposity and LDL (cholesterol).\n",
        "\n",
        "---\n"
      ]
    },
    {
      "cell_type": "code",
      "execution_count": null,
      "metadata": {
        "colab": {
          "base_uri": "https://localhost:8080/",
          "height": 1000
        },
        "id": "iQ3aAD42ZGCF",
        "outputId": "ad7554df-7aff-4355-ae01-bb108a6226da"
      },
      "outputs": [
        {
          "data": {
            "text/plain": [
              "<seaborn.axisgrid.FacetGrid at 0x7f3b4dfb7a10>"
            ]
          },
          "execution_count": 13,
          "metadata": {},
          "output_type": "execute_result"
        },
        {
          "data": {
            "image/png": "[encoded data removed]",
            "text/plain": [
              "<Figure size 432x216 with 2 Axes>"
            ]
          },
          "metadata": {},
          "output_type": "display_data"
        },
        {
          "data": {
            "image/png": "[encoded data removed]",
            "text/plain": [
              "<Figure size 432x216 with 2 Axes>"
            ]
          },
          "metadata": {},
          "output_type": "display_data"
        },
        {
          "data": {
            "image/png": "[encoded data removed]",
            "text/plain": [
              "<Figure size 432x216 with 2 Axes>"
            ]
          },
          "metadata": {},
          "output_type": "display_data"
        },
        {
          "data": {
            "image/png": "[encoded data removed]",
            "text/plain": [
              "<Figure size 432x216 with 2 Axes>"
            ]
          },
          "metadata": {},
          "output_type": "display_data"
        },
        {
          "data": {
            "image/png": "[encoded data removed]",
            "text/plain": [
              "<Figure size 432x216 with 2 Axes>"
            ]
          },
          "metadata": {},
          "output_type": "display_data"
        },
        {
          "data": {
            "image/png": "[encoded data removed]",
            "text/plain": [
              "<Figure size 432x216 with 2 Axes>"
            ]
          },
          "metadata": {},
          "output_type": "display_data"
        },
        {
          "data": {
            "image/png": "[encoded data removed]",
            "text/plain": [
              "<Figure size 432x216 with 2 Axes>"
            ]
          },
          "metadata": {},
          "output_type": "display_data"
        },
        {
          "data": {
            "image/png": "[encoded data removed]",
            "text/plain": [
              "<Figure size 432x216 with 2 Axes>"
            ]
          },
          "metadata": {},
          "output_type": "display_data"
        },
        {
          "data": {
            "image/png": "[encoded data removed]",
            "text/plain": [
              "<Figure size 432x216 with 2 Axes>"
            ]
          },
          "metadata": {},
          "output_type": "display_data"
        }
      ],
      "source": [
        "# I found a visualization called FacetGrid that allows me to compare\n",
        "# a one feature against the others in a meaningful way\n",
        "\n",
        "fig = sns.FacetGrid(df, col=\"chd\")\n",
        "fig.map_dataframe(sns.histplot, x=\"sbp\", kde=True)\n",
        "  \n",
        "fig = sns.FacetGrid(df, col=\"chd\")\n",
        "fig.map_dataframe(sns.histplot, x=\"tobacco\", kde=True)\n",
        "\n",
        "fig = sns.FacetGrid(df, col=\"chd\")\n",
        "fig.map_dataframe(sns.histplot, x=\"ldl\", kde=True)\n",
        "  \n",
        "fig = sns.FacetGrid(df, col=\"chd\")\n",
        "fig.map_dataframe(sns.histplot, x=\"adiposity\", kde=True)\n",
        "\n",
        "fig = sns.FacetGrid(df, col=\"chd\")\n",
        "fig.map_dataframe(sns.histplot, x=\"famhist\", kde=True)\n",
        "  \n",
        "fig = sns.FacetGrid(df, col=\"chd\")\n",
        "fig.map_dataframe(sns.histplot, x=\"typea\", kde=True)\n",
        "\n",
        "fig = sns.FacetGrid(df, col=\"chd\")\n",
        "fig.map_dataframe(sns.histplot, x=\"obesity\", kde=True)\n",
        "  \n",
        "fig = sns.FacetGrid(df, col=\"chd\")\n",
        "fig.map_dataframe(sns.histplot, x=\"alcohol\", kde=True)\n",
        "\n",
        "fig = sns.FacetGrid(df, col=\"chd\")\n",
        "fig.map_dataframe(sns.histplot, x=\"age\", kde=True)\n",
        "  "
      ]
    },
    {
      "cell_type": "markdown",
      "metadata": {
        "id": "As3Ic7QulS_3"
      },
      "source": [
        "---\n",
        "\n",
        "The chart above is a histogram showing the diagnosis of Coronary Heart Disease (CHD 0 is negative, CHD 1 is positive) against each feature in the dataframe\n",
        "which allows me to directly compare each feature.\n",
        "\n",
        "---"
      ]
    },
    {
      "cell_type": "code",
      "execution_count": null,
      "metadata": {
        "colab": {
          "base_uri": "https://localhost:8080/",
          "height": 206
        },
        "id": "tv7a8HAGDsdC",
        "outputId": "9c3fa334-4f0e-4089-cd41-8ab4cd89d02d"
      },
      "outputs": [
        {
          "data": {
            "text/html": [
              "\n",
              "  <div id=\"df-a9590266-d634-4d70-9db2-9b2f9bb1e97d\">\n",
              "    <div class=\"colab-df-container\">\n",
              "      <div>\n",
              "<style scoped>\n",
              "    .dataframe tbody tr th:only-of-type {\n",
              "        vertical-align: middle;\n",
              "    }\n",
              "\n",
              "    .dataframe tbody tr th {\n",
              "        vertical-align: top;\n",
              "    }\n",
              "\n",
              "    .dataframe thead th {\n",
              "        text-align: right;\n",
              "    }\n",
              "</style>\n",
              "<table border=\"1\" class=\"dataframe\">\n",
              "  <thead>\n",
              "    <tr style=\"text-align: right;\">\n",
              "      <th></th>\n",
              "      <th>sbp</th>\n",
              "      <th>tobacco</th>\n",
              "      <th>ldl</th>\n",
              "      <th>adiposity</th>\n",
              "      <th>famhist</th>\n",
              "      <th>typea</th>\n",
              "      <th>obesity</th>\n",
              "      <th>alcohol</th>\n",
              "      <th>age</th>\n",
              "      <th>chd</th>\n",
              "      <th>cluster</th>\n",
              "    </tr>\n",
              "  </thead>\n",
              "  <tbody>\n",
              "    <tr>\n",
              "      <th>0</th>\n",
              "      <td>160</td>\n",
              "      <td>12.00</td>\n",
              "      <td>5.73</td>\n",
              "      <td>23.11</td>\n",
              "      <td>1</td>\n",
              "      <td>49</td>\n",
              "      <td>25.30</td>\n",
              "      <td>97.20</td>\n",
              "      <td>52</td>\n",
              "      <td>1</td>\n",
              "      <td>1</td>\n",
              "    </tr>\n",
              "    <tr>\n",
              "      <th>1</th>\n",
              "      <td>144</td>\n",
              "      <td>0.01</td>\n",
              "      <td>4.41</td>\n",
              "      <td>28.61</td>\n",
              "      <td>0</td>\n",
              "      <td>55</td>\n",
              "      <td>28.87</td>\n",
              "      <td>2.06</td>\n",
              "      <td>63</td>\n",
              "      <td>1</td>\n",
              "      <td>3</td>\n",
              "    </tr>\n",
              "    <tr>\n",
              "      <th>2</th>\n",
              "      <td>118</td>\n",
              "      <td>0.08</td>\n",
              "      <td>3.48</td>\n",
              "      <td>32.28</td>\n",
              "      <td>1</td>\n",
              "      <td>52</td>\n",
              "      <td>29.14</td>\n",
              "      <td>3.81</td>\n",
              "      <td>46</td>\n",
              "      <td>0</td>\n",
              "      <td>0</td>\n",
              "    </tr>\n",
              "    <tr>\n",
              "      <th>3</th>\n",
              "      <td>170</td>\n",
              "      <td>7.50</td>\n",
              "      <td>6.41</td>\n",
              "      <td>38.03</td>\n",
              "      <td>1</td>\n",
              "      <td>51</td>\n",
              "      <td>31.99</td>\n",
              "      <td>24.26</td>\n",
              "      <td>58</td>\n",
              "      <td>1</td>\n",
              "      <td>3</td>\n",
              "    </tr>\n",
              "    <tr>\n",
              "      <th>4</th>\n",
              "      <td>134</td>\n",
              "      <td>13.60</td>\n",
              "      <td>3.50</td>\n",
              "      <td>27.78</td>\n",
              "      <td>1</td>\n",
              "      <td>60</td>\n",
              "      <td>25.99</td>\n",
              "      <td>57.34</td>\n",
              "      <td>49</td>\n",
              "      <td>1</td>\n",
              "      <td>1</td>\n",
              "    </tr>\n",
              "  </tbody>\n",
              "</table>\n",
              "</div>\n",
              "      <button class=\"colab-df-convert\" onclick=\"convertToInteractive('df-a9590266-d634-4d70-9db2-9b2f9bb1e97d')\"\n",
              "              title=\"Convert this dataframe to an interactive table.\"\n",
              "              style=\"display:none;\">\n",
              "        \n",
              "  <svg xmlns=\"http://www.w3.org/2000/svg\" height=\"24px\"viewBox=\"0 0 24 24\"\n",
              "       width=\"24px\">\n",
              "    <path d=\"M0 0h24v24H0V0z\" fill=\"none\"/>\n",
              "    <path d=\"M18.56 5.44l.94 2.06.94-2.06 2.06-.94-2.06-.94-.94-2.06-.94 2.06-2.06.94zm-11 1L8.5 8.5l.94-2.06 2.06-.94-2.06-.94L8.5 2.5l-.94 2.06-2.06.94zm10 10l.94 2.06.94-2.06 2.06-.94-2.06-.94-.94-2.06-.94 2.06-2.06.94z\"/><path d=\"M17.41 7.96l-1.37-1.37c-.4-.4-.92-.59-1.43-.59-.52 0-1.04.2-1.43.59L10.3 9.45l-7.72 7.72c-.78.78-.78 2.05 0 2.83L4 21.41c.39.39.9.59 1.41.59.51 0 1.02-.2 1.41-.59l7.78-7.78 2.81-2.81c.8-.78.8-2.07 0-2.86zM5.41 20L4 18.59l7.72-7.72 1.47 1.35L5.41 20z\"/>\n",
              "  </svg>\n",
              "      </button>\n",
              "      \n",
              "  <style>\n",
              "    .colab-df-container {\n",
              "      display:flex;\n",
              "      flex-wrap:wrap;\n",
              "      gap: 12px;\n",
              "    }\n",
              "\n",
              "    .colab-df-convert {\n",
              "      background-color: #E8F0FE;\n",
              "      border: none;\n",
              "      border-radius: 50%;\n",
              "      cursor: pointer;\n",
              "      display: none;\n",
              "      fill: #1967D2;\n",
              "      height: 32px;\n",
              "      padding: 0 0 0 0;\n",
              "      width: 32px;\n",
              "    }\n",
              "\n",
              "    .colab-df-convert:hover {\n",
              "      background-color: #E2EBFA;\n",
              "      box-shadow: 0px 1px 2px rgba(60, 64, 67, 0.3), 0px 1px 3px 1px rgba(60, 64, 67, 0.15);\n",
              "      fill: #174EA6;\n",
              "    }\n",
              "\n",
              "    [theme=dark] .colab-df-convert {\n",
              "      background-color: #3B4455;\n",
              "      fill: #D2E3FC;\n",
              "    }\n",
              "\n",
              "    [theme=dark] .colab-df-convert:hover {\n",
              "      background-color: #434B5C;\n",
              "      box-shadow: 0px 1px 3px 1px rgba(0, 0, 0, 0.15);\n",
              "      filter: drop-shadow(0px 1px 2px rgba(0, 0, 0, 0.3));\n",
              "      fill: #FFFFFF;\n",
              "    }\n",
              "  </style>\n",
              "\n",
              "      <script>\n",
              "        const buttonEl =\n",
              "          document.querySelector('#df-a9590266-d634-4d70-9db2-9b2f9bb1e97d button.colab-df-convert');\n",
              "        buttonEl.style.display =\n",
              "          google.colab.kernel.accessAllowed ? 'block' : 'none';\n",
              "\n",
              "        async function convertToInteractive(key) {\n",
              "          const element = document.querySelector('#df-a9590266-d634-4d70-9db2-9b2f9bb1e97d');\n",
              "          const dataTable =\n",
              "            await google.colab.kernel.invokeFunction('convertToInteractive',\n",
              "                                                     [key], {});\n",
              "          if (!dataTable) return;\n",
              "\n",
              "          const docLinkHtml = 'Like what you see? Visit the ' +\n",
              "            '<a target=\"_blank\" href=https://colab.research.google.com/notebooks/data_table.ipynb>data table notebook</a>'\n",
              "            + ' to learn more about interactive tables.';\n",
              "          element.innerHTML = '';\n",
              "          dataTable['output_type'] = 'display_data';\n",
              "          await google.colab.output.renderOutput(dataTable, element);\n",
              "          const docLink = document.createElement('div');\n",
              "          docLink.innerHTML = docLinkHtml;\n",
              "          element.appendChild(docLink);\n",
              "        }\n",
              "      </script>\n",
              "    </div>\n",
              "  </div>\n",
              "  "
            ],
            "text/plain": [
              "   sbp  tobacco   ldl  adiposity  famhist  typea  obesity  alcohol  age  chd  \\\n",
              "0  160    12.00  5.73      23.11        1     49    25.30    97.20   52    1   \n",
              "1  144     0.01  4.41      28.61        0     55    28.87     2.06   63    1   \n",
              "2  118     0.08  3.48      32.28        1     52    29.14     3.81   46    0   \n",
              "3  170     7.50  6.41      38.03        1     51    31.99    24.26   58    1   \n",
              "4  134    13.60  3.50      27.78        1     60    25.99    57.34   49    1   \n",
              "\n",
              "   cluster  \n",
              "0        1  \n",
              "1        3  \n",
              "2        0  \n",
              "3        3  \n",
              "4        1  "
            ]
          },
          "execution_count": 46,
          "metadata": {},
          "output_type": "execute_result"
        }
      ],
      "source": [
        "df.head()"
      ]
    },
    {
      "cell_type": "code",
      "source": [
        "#chd = sns.load_dataset(\"df\")\n",
        "g = df.groupby('chd')\n",
        "survival_rates = g['alcohol'].mean()\n",
        "n = g.size()\n",
        "\n",
        "plot = plt.scatter(n.index, n, c=survival_rates, cmap='Reds')\n",
        "plt.clf()\n",
        "plt.colorbar(plot)\n",
        "ax = sns.barplot(x=n.index, y=n, hue=survival_rates, palette='Reds', dodge=False)\n",
        "ax.set_ylabel('n passengers')\n",
        "ax.legend_.remove()"
      ],
      "metadata": {
        "colab": {
          "base_uri": "https://localhost:8080/",
          "height": 370
        },
        "id": "YOc-wz53c8zH",
        "outputId": "ccf7d5f4-9e89-4afb-e33d-c69990252c53"
      },
      "execution_count": 116,
      "outputs": [
        {
          "output_type": "display_data",
          "data": {
            "text/plain": [
              "<Figure size 576x396 with 2 Axes>"
            ],
            "image/png": "[encoded data removed]"
          },
          "metadata": {}
        }
      ]
    },
    {
      "cell_type": "code",
      "source": [
        "chd_positive = df.loc[df['chd']==1,'age']\n",
        "chd_negative = df.loc[df['chd']==0,'age']\n",
        "fig, axes = plt.subplots(nrows = 1, ncols = 1, figsize = (8,5))\n",
        "boxplots = axes.boxplot([chd_positive,chd_negative],\n",
        "           notch = True,\n",
        "           labels=['YES', 'NO'],\n",
        "           widths = .7,\n",
        "           patch_artist=True,\n",
        "           medianprops = dict(linestyle='-', linewidth=2, color='Yellow'),\n",
        "           boxprops = dict(linestyle='--', linewidth=2, color='Black', facecolor = 'blue', alpha = .4)\n",
        "          );\n",
        "# The more you understand any library, the more you can do\n",
        "boxplot1 = boxplots['boxes'][0]\n",
        "boxplot1.set_facecolor('red')\n",
        "plt.xlabel('CHD', fontsize = 20);\n",
        "plt.ylabel('AGE', fontsize = 20);\n",
        "plt.xticks(fontsize = 16);\n",
        "plt.yticks(fontsize = 16);"
      ],
      "metadata": {
        "colab": {
          "base_uri": "https://localhost:8080/",
          "height": 409
        },
        "id": "-ExM2O8ZDV5q",
        "outputId": "ba020e40-647b-4065-8920-c70a2e3a40d2"
      },
      "execution_count": 48,
      "outputs": [
        {
          "output_type": "stream",
          "name": "stderr",
          "text": [
            "/usr/local/lib/python3.7/dist-packages/matplotlib/cbook/__init__.py:1376: VisibleDeprecationWarning: Creating an ndarray from ragged nested sequences (which is a list-or-tuple of lists-or-tuples-or ndarrays with different lengths or shapes) is deprecated. If you meant to do this, you must specify 'dtype=object' when creating the ndarray.\n",
            "  X = np.atleast_1d(X.T if isinstance(X, np.ndarray) else np.asarray(X))\n"
          ]
        },
        {
          "output_type": "display_data",
          "data": {
            "text/plain": [
              "<Figure size 576x360 with 1 Axes>"
            ],
            "image/png": "[encoded data removed]"
          },
          "metadata": {}
        }
      ]
    },
    {
      "cell_type": "code",
      "source": [
        "chd_positive = df.loc[df['chd']==1,'age'].sort_values(ascending=True)\n",
        "chd_negative = df.loc[df['chd']==0,'age'].sort_values(ascending=True)\n",
        "diagnosis = df.groupby(['chd'])['sbp'].count()\n"
      ],
      "metadata": {
        "id": "VYpsJ_dkRn08"
      },
      "execution_count": 75,
      "outputs": []
    },
    {
      "cell_type": "code",
      "source": [
        "plt.plot(df.loc[df['chd']==1,'sbp'],linewidth=1.0)\n",
        "plt.plot(df.loc[df['chd']==0,'sbp'],linewidth=1.0)\n",
        "plt.show()"
      ],
      "metadata": {
        "colab": {
          "base_uri": "https://localhost:8080/",
          "height": 353
        },
        "id": "IjkOXeGFQ2T9",
        "outputId": "b779b83d-5459-4e30-f696-9dc3450d0d12"
      },
      "execution_count": 89,
      "outputs": [
        {
          "output_type": "display_data",
          "data": {
            "text/plain": [
              "<Figure size 576x396 with 1 Axes>"
            ],
            "image/png": "[encoded data removed]"
          },
          "metadata": {}
        }
      ]
    },
    {
      "cell_type": "markdown",
      "metadata": {
        "id": "HJHxYVM8psrt"
      },
      "source": [
        "## MODELING AND PROCESSING"
      ]
    },
    {
      "cell_type": "code",
      "execution_count": null,
      "metadata": {
        "id": "mqPuqPEIpCO5"
      },
      "outputs": [],
      "source": [
        "X = df.drop(columns = 'chd')\n",
        "y = df['chd']"
      ]
    },
    {
      "cell_type": "code",
      "execution_count": null,
      "metadata": {
        "id": "U1or_6L-pMf6"
      },
      "outputs": [],
      "source": [
        "X_train, X_test, y_train, y_test = train_test_split(X, y, random_state=42)"
      ]
    },
    {
      "cell_type": "code",
      "execution_count": null,
      "metadata": {
        "colab": {
          "base_uri": "https://localhost:8080/",
          "height": 423
        },
        "id": "Amhg6tfhe_To",
        "outputId": "3cdc8ee1-836e-4770-c581-410618d9cdc6"
      },
      "outputs": [
        {
          "data": {
            "text/html": [
              "\n",
              "  <div id=\"df-d18800c8-3f39-4fdf-bcca-24a6f11d7fd1\">\n",
              "    <div class=\"colab-df-container\">\n",
              "      <div>\n",
              "<style scoped>\n",
              "    .dataframe tbody tr th:only-of-type {\n",
              "        vertical-align: middle;\n",
              "    }\n",
              "\n",
              "    .dataframe tbody tr th {\n",
              "        vertical-align: top;\n",
              "    }\n",
              "\n",
              "    .dataframe thead th {\n",
              "        text-align: right;\n",
              "    }\n",
              "</style>\n",
              "<table border=\"1\" class=\"dataframe\">\n",
              "  <thead>\n",
              "    <tr style=\"text-align: right;\">\n",
              "      <th></th>\n",
              "      <th>sbp</th>\n",
              "      <th>tobacco</th>\n",
              "      <th>ldl</th>\n",
              "      <th>adiposity</th>\n",
              "      <th>famhist</th>\n",
              "      <th>typea</th>\n",
              "      <th>obesity</th>\n",
              "      <th>alcohol</th>\n",
              "      <th>age</th>\n",
              "      <th>chd</th>\n",
              "    </tr>\n",
              "  </thead>\n",
              "  <tbody>\n",
              "    <tr>\n",
              "      <th>0</th>\n",
              "      <td>1.058564</td>\n",
              "      <td>1.823073</td>\n",
              "      <td>0.478412</td>\n",
              "      <td>-0.295503</td>\n",
              "      <td>1.185854</td>\n",
              "      <td>-0.418470</td>\n",
              "      <td>-0.176786</td>\n",
              "      <td>3.277738</td>\n",
              "      <td>0.629336</td>\n",
              "      <td>1.373863</td>\n",
              "    </tr>\n",
              "    <tr>\n",
              "      <th>1</th>\n",
              "      <td>0.277089</td>\n",
              "      <td>-0.790237</td>\n",
              "      <td>-0.159680</td>\n",
              "      <td>0.412140</td>\n",
              "      <td>-0.843274</td>\n",
              "      <td>0.193344</td>\n",
              "      <td>0.671373</td>\n",
              "      <td>-0.612745</td>\n",
              "      <td>1.383115</td>\n",
              "      <td>1.373863</td>\n",
              "    </tr>\n",
              "    <tr>\n",
              "      <th>2</th>\n",
              "      <td>-0.992806</td>\n",
              "      <td>-0.774980</td>\n",
              "      <td>-0.609245</td>\n",
              "      <td>0.884332</td>\n",
              "      <td>1.185854</td>\n",
              "      <td>-0.112563</td>\n",
              "      <td>0.735519</td>\n",
              "      <td>-0.541183</td>\n",
              "      <td>0.218184</td>\n",
              "      <td>-0.727875</td>\n",
              "    </tr>\n",
              "    <tr>\n",
              "      <th>3</th>\n",
              "      <td>1.546985</td>\n",
              "      <td>0.842264</td>\n",
              "      <td>0.807126</td>\n",
              "      <td>1.624141</td>\n",
              "      <td>1.185854</td>\n",
              "      <td>-0.214532</td>\n",
              "      <td>1.412621</td>\n",
              "      <td>0.295062</td>\n",
              "      <td>1.040488</td>\n",
              "      <td>1.373863</td>\n",
              "    </tr>\n",
              "    <tr>\n",
              "      <th>4</th>\n",
              "      <td>-0.211332</td>\n",
              "      <td>2.171805</td>\n",
              "      <td>-0.599577</td>\n",
              "      <td>0.305351</td>\n",
              "      <td>1.185854</td>\n",
              "      <td>0.703189</td>\n",
              "      <td>-0.012856</td>\n",
              "      <td>1.647775</td>\n",
              "      <td>0.423760</td>\n",
              "      <td>1.373863</td>\n",
              "    </tr>\n",
              "    <tr>\n",
              "      <th>...</th>\n",
              "      <td>...</td>\n",
              "      <td>...</td>\n",
              "      <td>...</td>\n",
              "      <td>...</td>\n",
              "      <td>...</td>\n",
              "      <td>...</td>\n",
              "      <td>...</td>\n",
              "      <td>...</td>\n",
              "      <td>...</td>\n",
              "      <td>...</td>\n",
              "    </tr>\n",
              "    <tr>\n",
              "      <th>457</th>\n",
              "      <td>3.696039</td>\n",
              "      <td>-0.705234</td>\n",
              "      <td>0.599263</td>\n",
              "      <td>0.812281</td>\n",
              "      <td>-0.843274</td>\n",
              "      <td>1.111065</td>\n",
              "      <td>0.571590</td>\n",
              "      <td>-0.696983</td>\n",
              "      <td>1.040488</td>\n",
              "      <td>-0.727875</td>\n",
              "    </tr>\n",
              "    <tr>\n",
              "      <th>458</th>\n",
              "      <td>2.133091</td>\n",
              "      <td>0.123004</td>\n",
              "      <td>-0.159680</td>\n",
              "      <td>0.861173</td>\n",
              "      <td>-0.843274</td>\n",
              "      <td>-0.112563</td>\n",
              "      <td>0.609602</td>\n",
              "      <td>0.068519</td>\n",
              "      <td>0.629336</td>\n",
              "      <td>1.373863</td>\n",
              "    </tr>\n",
              "    <tr>\n",
              "      <th>459</th>\n",
              "      <td>-1.481228</td>\n",
              "      <td>-0.138545</td>\n",
              "      <td>-1.522877</td>\n",
              "      <td>-1.309364</td>\n",
              "      <td>-0.843274</td>\n",
              "      <td>-1.336191</td>\n",
              "      <td>-1.414575</td>\n",
              "      <td>0.392385</td>\n",
              "      <td>0.834912</td>\n",
              "      <td>-0.727875</td>\n",
              "    </tr>\n",
              "    <tr>\n",
              "      <th>460</th>\n",
              "      <td>-0.992806</td>\n",
              "      <td>0.384553</td>\n",
              "      <td>3.320823</td>\n",
              "      <td>0.692625</td>\n",
              "      <td>-0.843274</td>\n",
              "      <td>1.111065</td>\n",
              "      <td>0.310252</td>\n",
              "      <td>0.283203</td>\n",
              "      <td>-0.192969</td>\n",
              "      <td>-0.727875</td>\n",
              "    </tr>\n",
              "    <tr>\n",
              "      <th>461</th>\n",
              "      <td>-0.309016</td>\n",
              "      <td>-0.792417</td>\n",
              "      <td>0.038515</td>\n",
              "      <td>1.029720</td>\n",
              "      <td>1.185854</td>\n",
              "      <td>0.907127</td>\n",
              "      <td>-2.695129</td>\n",
              "      <td>-0.696983</td>\n",
              "      <td>0.218184</td>\n",
              "      <td>1.373863</td>\n",
              "    </tr>\n",
              "  </tbody>\n",
              "</table>\n",
              "<p>462 rows × 10 columns</p>\n",
              "</div>\n",
              "      <button class=\"colab-df-convert\" onclick=\"convertToInteractive('df-d18800c8-3f39-4fdf-bcca-24a6f11d7fd1')\"\n",
              "              title=\"Convert this dataframe to an interactive table.\"\n",
              "              style=\"display:none;\">\n",
              "        \n",
              "  <svg xmlns=\"http://www.w3.org/2000/svg\" height=\"24px\"viewBox=\"0 0 24 24\"\n",
              "       width=\"24px\">\n",
              "    <path d=\"M0 0h24v24H0V0z\" fill=\"none\"/>\n",
              "    <path d=\"M18.56 5.44l.94 2.06.94-2.06 2.06-.94-2.06-.94-.94-2.06-.94 2.06-2.06.94zm-11 1L8.5 8.5l.94-2.06 2.06-.94-2.06-.94L8.5 2.5l-.94 2.06-2.06.94zm10 10l.94 2.06.94-2.06 2.06-.94-2.06-.94-.94-2.06-.94 2.06-2.06.94z\"/><path d=\"M17.41 7.96l-1.37-1.37c-.4-.4-.92-.59-1.43-.59-.52 0-1.04.2-1.43.59L10.3 9.45l-7.72 7.72c-.78.78-.78 2.05 0 2.83L4 21.41c.39.39.9.59 1.41.59.51 0 1.02-.2 1.41-.59l7.78-7.78 2.81-2.81c.8-.78.8-2.07 0-2.86zM5.41 20L4 18.59l7.72-7.72 1.47 1.35L5.41 20z\"/>\n",
              "  </svg>\n",
              "      </button>\n",
              "      \n",
              "  <style>\n",
              "    .colab-df-container {\n",
              "      display:flex;\n",
              "      flex-wrap:wrap;\n",
              "      gap: 12px;\n",
              "    }\n",
              "\n",
              "    .colab-df-convert {\n",
              "      background-color: #E8F0FE;\n",
              "      border: none;\n",
              "      border-radius: 50%;\n",
              "      cursor: pointer;\n",
              "      display: none;\n",
              "      fill: #1967D2;\n",
              "      height: 32px;\n",
              "      padding: 0 0 0 0;\n",
              "      width: 32px;\n",
              "    }\n",
              "\n",
              "    .colab-df-convert:hover {\n",
              "      background-color: #E2EBFA;\n",
              "      box-shadow: 0px 1px 2px rgba(60, 64, 67, 0.3), 0px 1px 3px 1px rgba(60, 64, 67, 0.15);\n",
              "      fill: #174EA6;\n",
              "    }\n",
              "\n",
              "    [theme=dark] .colab-df-convert {\n",
              "      background-color: #3B4455;\n",
              "      fill: #D2E3FC;\n",
              "    }\n",
              "\n",
              "    [theme=dark] .colab-df-convert:hover {\n",
              "      background-color: #434B5C;\n",
              "      box-shadow: 0px 1px 3px 1px rgba(0, 0, 0, 0.15);\n",
              "      filter: drop-shadow(0px 1px 2px rgba(0, 0, 0, 0.3));\n",
              "      fill: #FFFFFF;\n",
              "    }\n",
              "  </style>\n",
              "\n",
              "      <script>\n",
              "        const buttonEl =\n",
              "          document.querySelector('#df-d18800c8-3f39-4fdf-bcca-24a6f11d7fd1 button.colab-df-convert');\n",
              "        buttonEl.style.display =\n",
              "          google.colab.kernel.accessAllowed ? 'block' : 'none';\n",
              "\n",
              "        async function convertToInteractive(key) {\n",
              "          const element = document.querySelector('#df-d18800c8-3f39-4fdf-bcca-24a6f11d7fd1');\n",
              "          const dataTable =\n",
              "            await google.colab.kernel.invokeFunction('convertToInteractive',\n",
              "                                                     [key], {});\n",
              "          if (!dataTable) return;\n",
              "\n",
              "          const docLinkHtml = 'Like what you see? Visit the ' +\n",
              "            '<a target=\"_blank\" href=https://colab.research.google.com/notebooks/data_table.ipynb>data table notebook</a>'\n",
              "            + ' to learn more about interactive tables.';\n",
              "          element.innerHTML = '';\n",
              "          dataTable['output_type'] = 'display_data';\n",
              "          await google.colab.output.renderOutput(dataTable, element);\n",
              "          const docLink = document.createElement('div');\n",
              "          docLink.innerHTML = docLinkHtml;\n",
              "          element.appendChild(docLink);\n",
              "        }\n",
              "      </script>\n",
              "    </div>\n",
              "  </div>\n",
              "  "
            ],
            "text/plain": [
              "          sbp   tobacco       ldl  adiposity   famhist     typea   obesity  \\\n",
              "0    1.058564  1.823073  0.478412  -0.295503  1.185854 -0.418470 -0.176786   \n",
              "1    0.277089 -0.790237 -0.159680   0.412140 -0.843274  0.193344  0.671373   \n",
              "2   -0.992806 -0.774980 -0.609245   0.884332  1.185854 -0.112563  0.735519   \n",
              "3    1.546985  0.842264  0.807126   1.624141  1.185854 -0.214532  1.412621   \n",
              "4   -0.211332  2.171805 -0.599577   0.305351  1.185854  0.703189 -0.012856   \n",
              "..        ...       ...       ...        ...       ...       ...       ...   \n",
              "457  3.696039 -0.705234  0.599263   0.812281 -0.843274  1.111065  0.571590   \n",
              "458  2.133091  0.123004 -0.159680   0.861173 -0.843274 -0.112563  0.609602   \n",
              "459 -1.481228 -0.138545 -1.522877  -1.309364 -0.843274 -1.336191 -1.414575   \n",
              "460 -0.992806  0.384553  3.320823   0.692625 -0.843274  1.111065  0.310252   \n",
              "461 -0.309016 -0.792417  0.038515   1.029720  1.185854  0.907127 -2.695129   \n",
              "\n",
              "      alcohol       age       chd  \n",
              "0    3.277738  0.629336  1.373863  \n",
              "1   -0.612745  1.383115  1.373863  \n",
              "2   -0.541183  0.218184 -0.727875  \n",
              "3    0.295062  1.040488  1.373863  \n",
              "4    1.647775  0.423760  1.373863  \n",
              "..        ...       ...       ...  \n",
              "457 -0.696983  1.040488 -0.727875  \n",
              "458  0.068519  0.629336  1.373863  \n",
              "459  0.392385  0.834912 -0.727875  \n",
              "460  0.283203 -0.192969 -0.727875  \n",
              "461 -0.696983  0.218184  1.373863  \n",
              "\n",
              "[462 rows x 10 columns]"
            ]
          },
          "execution_count": 16,
          "metadata": {},
          "output_type": "execute_result"
        }
      ],
      "source": [
        "# Instantiate Standard Scaler\n",
        "scaler = StandardScaler()\n",
        "# Fit & transform data.\n",
        "scaled_df = pd.DataFrame(scaler.fit_transform(df),columns=df.columns)\n",
        "scaled_df\n"
      ]
    },
    {
      "cell_type": "code",
      "execution_count": null,
      "metadata": {
        "id": "trJJgZYxg_H_"
      },
      "outputs": [],
      "source": [
        "# This will identify all of the quantitative features (columns)\n",
        "quant_feat = make_column_selector(dtype_include = 'number')\n",
        "\n",
        "# Create Scaler\n",
        "scaler = StandardScaler()\n",
        "\n",
        "# Create a mean imputer\n",
        "mean_imputer = SimpleImputer(strategy='mean')"
      ]
    },
    {
      "cell_type": "code",
      "execution_count": null,
      "metadata": {
        "id": "lbqq-jZghExu"
      },
      "outputs": [],
      "source": [
        "# Create the num processing pipeline and column transformer\n",
        "num_processor = make_pipeline(mean_imputer, scaler)\n",
        "num_tuple = (num_processor, quant_feat)\n",
        "column_transformer = make_column_transformer(num_tuple, remainder='passthrough')"
      ]
    },
    {
      "cell_type": "markdown",
      "metadata": {
        "id": "fwENwitkQY1E"
      },
      "source": [
        "## Logistic Regression  -- CHOICE FOR FINAL PRODUCTION MODEL "
      ]
    },
    {
      "cell_type": "code",
      "execution_count": null,
      "metadata": {
        "colab": {
          "base_uri": "https://localhost:8080/"
        },
        "id": "70W67FRrPAy9",
        "outputId": "a57cdfa1-ae40-4441-efba-b22dd7bdcd61"
      },
      "outputs": [
        {
          "name": "stdout",
          "output_type": "stream",
          "text": [
            "Logistic regression Train score: 0.7312138728323699\n",
            "Logistic regression Test score: 0.75\n"
          ]
        }
      ],
      "source": [
        "# Logistic Regression with default paramters\n",
        "lr = LogisticRegression()\n",
        "\n",
        "# Create pipeline\n",
        "lr_pipe = make_pipeline(column_transformer, lr)\n",
        "\n",
        "# Fit model\n",
        "lr_pipe.fit(X_train, y_train)\n",
        "\n",
        "# Evaluate default model and print scores\n",
        "lr_train_preds = lr_pipe.predict(X_train)\n",
        "lr_test_preds = lr_pipe.predict(X_test)\n",
        "\n",
        "print('Logistic regression Train score:', accuracy_score(y_train, lr_train_preds))\n",
        "print('Logistic regression Test score:', accuracy_score(y_test, lr_test_preds))"
      ]
    },
    {
      "cell_type": "code",
      "execution_count": null,
      "metadata": {
        "id": "IMDgczeZPmvw"
      },
      "outputs": [],
      "source": [
        "# Set ranges of parameters to find best\n",
        "params = {'logisticregression__penalty':['l2','l1'], \n",
        "          'logisticregression__C':[.001, .01, .1, 1], \n",
        "          'logisticregression__class_weight':[None, 'balanced'],\n",
        "          'logisticregression__solver': ['liblinear']}"
      ]
    },
    {
      "cell_type": "code",
      "execution_count": null,
      "metadata": {
        "colab": {
          "base_uri": "https://localhost:8080/",
          "height": 228
        },
        "id": "QgtNe51dPyt5",
        "outputId": "9d0ff140-fa22-4a19-feb7-9ea8249e13db"
      },
      "outputs": [
        {
          "data": {
            "text/html": [
              "<style>#sk-77833cc3-9017-4c5e-b51c-3b00e85b4c5f {color: black;background-color: white;}#sk-77833cc3-9017-4c5e-b51c-3b00e85b4c5f pre{padding: 0;}#sk-77833cc3-9017-4c5e-b51c-3b00e85b4c5f div.sk-toggleable {background-color: white;}#sk-77833cc3-9017-4c5e-b51c-3b00e85b4c5f label.sk-toggleable__label {cursor: pointer;display: block;width: 100%;margin-bottom: 0;padding: 0.3em;box-sizing: border-box;text-align: center;}#sk-77833cc3-9017-4c5e-b51c-3b00e85b4c5f label.sk-toggleable__label-arrow:before {content: \"▸\";float: left;margin-right: 0.25em;color: #696969;}#sk-77833cc3-9017-4c5e-b51c-3b00e85b4c5f label.sk-toggleable__label-arrow:hover:before {color: black;}#sk-77833cc3-9017-4c5e-b51c-3b00e85b4c5f div.sk-estimator:hover label.sk-toggleable__label-arrow:before {color: black;}#sk-77833cc3-9017-4c5e-b51c-3b00e85b4c5f div.sk-toggleable__content {max-height: 0;max-width: 0;overflow: hidden;text-align: left;background-color: #f0f8ff;}#sk-77833cc3-9017-4c5e-b51c-3b00e85b4c5f div.sk-toggleable__content pre {margin: 0.2em;color: black;border-radius: 0.25em;background-color: #f0f8ff;}#sk-77833cc3-9017-4c5e-b51c-3b00e85b4c5f input.sk-toggleable__control:checked~div.sk-toggleable__content {max-height: 200px;max-width: 100%;overflow: auto;}#sk-77833cc3-9017-4c5e-b51c-3b00e85b4c5f input.sk-toggleable__control:checked~label.sk-toggleable__label-arrow:before {content: \"▾\";}#sk-77833cc3-9017-4c5e-b51c-3b00e85b4c5f div.sk-estimator input.sk-toggleable__control:checked~label.sk-toggleable__label {background-color: #d4ebff;}#sk-77833cc3-9017-4c5e-b51c-3b00e85b4c5f div.sk-label input.sk-toggleable__control:checked~label.sk-toggleable__label {background-color: #d4ebff;}#sk-77833cc3-9017-4c5e-b51c-3b00e85b4c5f input.sk-hidden--visually {border: 0;clip: rect(1px 1px 1px 1px);clip: rect(1px, 1px, 1px, 1px);height: 1px;margin: -1px;overflow: hidden;padding: 0;position: absolute;width: 1px;}#sk-77833cc3-9017-4c5e-b51c-3b00e85b4c5f div.sk-estimator {font-family: monospace;background-color: #f0f8ff;border: 1px dotted black;border-radius: 0.25em;box-sizing: border-box;margin-bottom: 0.5em;}#sk-77833cc3-9017-4c5e-b51c-3b00e85b4c5f div.sk-estimator:hover {background-color: #d4ebff;}#sk-77833cc3-9017-4c5e-b51c-3b00e85b4c5f div.sk-parallel-item::after {content: \"\";width: 100%;border-bottom: 1px solid gray;flex-grow: 1;}#sk-77833cc3-9017-4c5e-b51c-3b00e85b4c5f div.sk-label:hover label.sk-toggleable__label {background-color: #d4ebff;}#sk-77833cc3-9017-4c5e-b51c-3b00e85b4c5f div.sk-serial::before {content: \"\";position: absolute;border-left: 1px solid gray;box-sizing: border-box;top: 2em;bottom: 0;left: 50%;}#sk-77833cc3-9017-4c5e-b51c-3b00e85b4c5f div.sk-serial {display: flex;flex-direction: column;align-items: center;background-color: white;padding-right: 0.2em;padding-left: 0.2em;}#sk-77833cc3-9017-4c5e-b51c-3b00e85b4c5f div.sk-item {z-index: 1;}#sk-77833cc3-9017-4c5e-b51c-3b00e85b4c5f div.sk-parallel {display: flex;align-items: stretch;justify-content: center;background-color: white;}#sk-77833cc3-9017-4c5e-b51c-3b00e85b4c5f div.sk-parallel::before {content: \"\";position: absolute;border-left: 1px solid gray;box-sizing: border-box;top: 2em;bottom: 0;left: 50%;}#sk-77833cc3-9017-4c5e-b51c-3b00e85b4c5f div.sk-parallel-item {display: flex;flex-direction: column;position: relative;background-color: white;}#sk-77833cc3-9017-4c5e-b51c-3b00e85b4c5f div.sk-parallel-item:first-child::after {align-self: flex-end;width: 50%;}#sk-77833cc3-9017-4c5e-b51c-3b00e85b4c5f div.sk-parallel-item:last-child::after {align-self: flex-start;width: 50%;}#sk-77833cc3-9017-4c5e-b51c-3b00e85b4c5f div.sk-parallel-item:only-child::after {width: 0;}#sk-77833cc3-9017-4c5e-b51c-3b00e85b4c5f div.sk-dashed-wrapped {border: 1px dashed gray;margin: 0 0.4em 0.5em 0.4em;box-sizing: border-box;padding-bottom: 0.4em;background-color: white;position: relative;}#sk-77833cc3-9017-4c5e-b51c-3b00e85b4c5f div.sk-label label {font-family: monospace;font-weight: bold;background-color: white;display: inline-block;line-height: 1.2em;}#sk-77833cc3-9017-4c5e-b51c-3b00e85b4c5f div.sk-label-container {position: relative;z-index: 2;text-align: center;}#sk-77833cc3-9017-4c5e-b51c-3b00e85b4c5f div.sk-container {/* jupyter's `normalize.less` sets `[hidden] { display: none; }` but bootstrap.min.css set `[hidden] { display: none !important; }` so we also need the `!important` here to be able to override the default hidden behavior on the sphinx rendered scikit-learn.org. See: https://github.com/scikit-learn/scikit-learn/issues/21755 */display: inline-block !important;position: relative;}#sk-77833cc3-9017-4c5e-b51c-3b00e85b4c5f div.sk-text-repr-fallback {display: none;}</style><div id=\"sk-77833cc3-9017-4c5e-b51c-3b00e85b4c5f\" class=\"sk-top-container\"><div class=\"sk-text-repr-fallback\"><pre>GridSearchCV(estimator=Pipeline(steps=[(&#x27;columntransformer&#x27;,\n",
              "                                        ColumnTransformer(remainder=&#x27;passthrough&#x27;,\n",
              "                                                          transformers=[(&#x27;pipeline&#x27;,\n",
              "                                                                         Pipeline(steps=[(&#x27;simpleimputer&#x27;,\n",
              "                                                                                          SimpleImputer()),\n",
              "                                                                                         (&#x27;standardscaler&#x27;,\n",
              "                                                                                          StandardScaler())]),\n",
              "                                                                         &lt;sklearn.compose._column_transformer.make_column_selector object at 0x7f3b4d8bd910&gt;)])),\n",
              "                                       (&#x27;logisticregression&#x27;,\n",
              "                                        LogisticRegression())]),\n",
              "             param_grid={&#x27;logisticregression__C&#x27;: [0.001, 0.01, 0.1, 1],\n",
              "                         &#x27;logisticregression__class_weight&#x27;: [None, &#x27;balanced&#x27;],\n",
              "                         &#x27;logisticregression__penalty&#x27;: [&#x27;l2&#x27;, &#x27;l1&#x27;],\n",
              "                         &#x27;logisticregression__solver&#x27;: [&#x27;liblinear&#x27;]})</pre><b>Please rerun this cell to show the HTML repr or trust the notebook.</b></div><div class=\"sk-container\" hidden><div class=\"sk-item sk-dashed-wrapped\"><div class=\"sk-label-container\"><div class=\"sk-label sk-toggleable\"><input class=\"sk-toggleable__control sk-hidden--visually\" id=\"5174b2b0-0a87-4fec-88ca-7935d03df5ee\" type=\"checkbox\" ><label for=\"5174b2b0-0a87-4fec-88ca-7935d03df5ee\" class=\"sk-toggleable__label sk-toggleable__label-arrow\">GridSearchCV</label><div class=\"sk-toggleable__content\"><pre>GridSearchCV(estimator=Pipeline(steps=[(&#x27;columntransformer&#x27;,\n",
              "                                        ColumnTransformer(remainder=&#x27;passthrough&#x27;,\n",
              "                                                          transformers=[(&#x27;pipeline&#x27;,\n",
              "                                                                         Pipeline(steps=[(&#x27;simpleimputer&#x27;,\n",
              "                                                                                          SimpleImputer()),\n",
              "                                                                                         (&#x27;standardscaler&#x27;,\n",
              "                                                                                          StandardScaler())]),\n",
              "                                                                         &lt;sklearn.compose._column_transformer.make_column_selector object at 0x7f3b4d8bd910&gt;)])),\n",
              "                                       (&#x27;logisticregression&#x27;,\n",
              "                                        LogisticRegression())]),\n",
              "             param_grid={&#x27;logisticregression__C&#x27;: [0.001, 0.01, 0.1, 1],\n",
              "                         &#x27;logisticregression__class_weight&#x27;: [None, &#x27;balanced&#x27;],\n",
              "                         &#x27;logisticregression__penalty&#x27;: [&#x27;l2&#x27;, &#x27;l1&#x27;],\n",
              "                         &#x27;logisticregression__solver&#x27;: [&#x27;liblinear&#x27;]})</pre></div></div></div><div class=\"sk-parallel\"><div class=\"sk-parallel-item\"><div class=\"sk-item\"><div class=\"sk-serial\"><div class=\"sk-item\"><div class=\"sk-serial\"><div class=\"sk-item sk-dashed-wrapped\"><div class=\"sk-label-container\"><div class=\"sk-label sk-toggleable\"><input class=\"sk-toggleable__control sk-hidden--visually\" id=\"25d29cd3-3055-47fb-b30c-5b4ddb56d4da\" type=\"checkbox\" ><label for=\"25d29cd3-3055-47fb-b30c-5b4ddb56d4da\" class=\"sk-toggleable__label sk-toggleable__label-arrow\">columntransformer: ColumnTransformer</label><div class=\"sk-toggleable__content\"><pre>ColumnTransformer(remainder=&#x27;passthrough&#x27;,\n",
              "                  transformers=[(&#x27;pipeline&#x27;,\n",
              "                                 Pipeline(steps=[(&#x27;simpleimputer&#x27;,\n",
              "                                                  SimpleImputer()),\n",
              "                                                 (&#x27;standardscaler&#x27;,\n",
              "                                                  StandardScaler())]),\n",
              "                                 &lt;sklearn.compose._column_transformer.make_column_selector object at 0x7f3b4d8bd910&gt;)])</pre></div></div></div><div class=\"sk-parallel\"><div class=\"sk-parallel-item\"><div class=\"sk-item\"><div class=\"sk-label-container\"><div class=\"sk-label sk-toggleable\"><input class=\"sk-toggleable__control sk-hidden--visually\" id=\"d153f7d9-543f-4214-b87e-650d14a01b84\" type=\"checkbox\" ><label for=\"d153f7d9-543f-4214-b87e-650d14a01b84\" class=\"sk-toggleable__label sk-toggleable__label-arrow\">pipeline</label><div class=\"sk-toggleable__content\"><pre>&lt;sklearn.compose._column_transformer.make_column_selector object at 0x7f3b4d8bd910&gt;</pre></div></div></div><div class=\"sk-serial\"><div class=\"sk-item\"><div class=\"sk-serial\"><div class=\"sk-item\"><div class=\"sk-estimator sk-toggleable\"><input class=\"sk-toggleable__control sk-hidden--visually\" id=\"a47bbb65-527f-4ab6-83db-d62fc0a7f738\" type=\"checkbox\" ><label for=\"a47bbb65-527f-4ab6-83db-d62fc0a7f738\" class=\"sk-toggleable__label sk-toggleable__label-arrow\">SimpleImputer</label><div class=\"sk-toggleable__content\"><pre>SimpleImputer()</pre></div></div></div><div class=\"sk-item\"><div class=\"sk-estimator sk-toggleable\"><input class=\"sk-toggleable__control sk-hidden--visually\" id=\"0ad04d5b-bd6a-4992-84dc-36fd73dd0a00\" type=\"checkbox\" ><label for=\"0ad04d5b-bd6a-4992-84dc-36fd73dd0a00\" class=\"sk-toggleable__label sk-toggleable__label-arrow\">StandardScaler</label><div class=\"sk-toggleable__content\"><pre>StandardScaler()</pre></div></div></div></div></div></div></div></div><div class=\"sk-parallel-item\"><div class=\"sk-item\"><div class=\"sk-label-container\"><div class=\"sk-label sk-toggleable\"><input class=\"sk-toggleable__control sk-hidden--visually\" id=\"64bc0c2b-a9f1-4504-8b3b-522dd0f207c0\" type=\"checkbox\" ><label for=\"64bc0c2b-a9f1-4504-8b3b-522dd0f207c0\" class=\"sk-toggleable__label sk-toggleable__label-arrow\">remainder</label><div class=\"sk-toggleable__content\"><pre>[]</pre></div></div></div><div class=\"sk-serial\"><div class=\"sk-item\"><div class=\"sk-estimator sk-toggleable\"><input class=\"sk-toggleable__control sk-hidden--visually\" id=\"19cfd6ab-e7db-4c19-b8ad-fc107735b7d1\" type=\"checkbox\" ><label for=\"19cfd6ab-e7db-4c19-b8ad-fc107735b7d1\" class=\"sk-toggleable__label sk-toggleable__label-arrow\">passthrough</label><div class=\"sk-toggleable__content\"><pre>passthrough</pre></div></div></div></div></div></div></div></div><div class=\"sk-item\"><div class=\"sk-estimator sk-toggleable\"><input class=\"sk-toggleable__control sk-hidden--visually\" id=\"0baae95d-754c-44b6-a150-bde1cde6235b\" type=\"checkbox\" ><label for=\"0baae95d-754c-44b6-a150-bde1cde6235b\" class=\"sk-toggleable__label sk-toggleable__label-arrow\">LogisticRegression</label><div class=\"sk-toggleable__content\"><pre>LogisticRegression()</pre></div></div></div></div></div></div></div></div></div></div></div></div>"
            ],
            "text/plain": [
              "GridSearchCV(estimator=Pipeline(steps=[('columntransformer',\n",
              "                                        ColumnTransformer(remainder='passthrough',\n",
              "                                                          transformers=[('pipeline',\n",
              "                                                                         Pipeline(steps=[('simpleimputer',\n",
              "                                                                                          SimpleImputer()),\n",
              "                                                                                         ('standardscaler',\n",
              "                                                                                          StandardScaler())]),\n",
              "                                                                         <sklearn.compose._column_transformer.make_column_selector object at 0x7f3b4d8bd910>)])),\n",
              "                                       ('logisticregression',\n",
              "                                        LogisticRegression())]),\n",
              "             param_grid={'logisticregression__C': [0.001, 0.01, 0.1, 1],\n",
              "                         'logisticregression__class_weight': [None, 'balanced'],\n",
              "                         'logisticregression__penalty': ['l2', 'l1'],\n",
              "                         'logisticregression__solver': ['liblinear']})"
            ]
          },
          "execution_count": 21,
          "metadata": {},
          "output_type": "execute_result"
        }
      ],
      "source": [
        "# Use Gridsearch to finde best parameters\n",
        "lr_grid = GridSearchCV(lr_pipe, params)\n",
        "lr_grid.fit(X_train, y_train)"
      ]
    },
    {
      "cell_type": "code",
      "execution_count": null,
      "metadata": {
        "colab": {
          "base_uri": "https://localhost:8080/"
        },
        "id": "l0vFwfkKP62e",
        "outputId": "8da4d7b9-6913-42bf-c3fd-af24f66d9275"
      },
      "outputs": [
        {
          "data": {
            "text/plain": [
              "{'logisticregression__C': 0.1,\n",
              " 'logisticregression__class_weight': None,\n",
              " 'logisticregression__penalty': 'l2',\n",
              " 'logisticregression__solver': 'liblinear'}"
            ]
          },
          "execution_count": 22,
          "metadata": {},
          "output_type": "execute_result"
        }
      ],
      "source": [
        "# View best parameters\n",
        "lr_grid.best_params_"
      ]
    },
    {
      "cell_type": "code",
      "execution_count": null,
      "metadata": {
        "id": "-2_1igmHP8aU"
      },
      "outputs": [],
      "source": [
        "# Create variable with the best parameters\n",
        "best_lr = lr_grid.best_estimator_"
      ]
    },
    {
      "cell_type": "code",
      "execution_count": null,
      "metadata": {
        "colab": {
          "base_uri": "https://localhost:8080/"
        },
        "id": "mSTIon6vP_5s",
        "outputId": "cec6692d-284d-428d-90d3-38a939383a37"
      },
      "outputs": [
        {
          "name": "stdout",
          "output_type": "stream",
          "text": [
            "Logistic Regression Best Model Training Metrics\n",
            "              precision    recall  f1-score   support\n",
            "\n",
            "           0       0.78      0.85      0.81       227\n",
            "           1       0.65      0.53      0.58       119\n",
            "\n",
            "    accuracy                           0.74       346\n",
            "   macro avg       0.71      0.69      0.70       346\n",
            "weighted avg       0.73      0.74      0.73       346\n",
            "\n",
            "\n",
            " Logistion Regression Best Model Testing Metrics\n",
            "              precision    recall  f1-score   support\n",
            "\n",
            "           0       0.78      0.81      0.80        75\n",
            "           1       0.63      0.59      0.61        41\n",
            "\n",
            "    accuracy                           0.73       116\n",
            "   macro avg       0.71      0.70      0.70       116\n",
            "weighted avg       0.73      0.73      0.73       116\n",
            "\n"
          ]
        }
      ],
      "source": [
        "# Run a classification report on both train and test datasets for the best model\n",
        "\n",
        "lr_train_preds = best_lr.predict(X_train)\n",
        "lr_test_preds = best_lr.predict(X_test)\n",
        "\n",
        "print('Logistic Regression Best Model Training Metrics')\n",
        "print(classification_report(y_train, lr_train_preds))\n",
        "print('\\n Logistion Regression Best Model Testing Metrics')\n",
        "print(classification_report(y_test, lr_test_preds))"
      ]
    },
    {
      "cell_type": "markdown",
      "metadata": {
        "id": "RUeqoTJy0XJU"
      },
      "source": [
        "## KNN"
      ]
    },
    {
      "cell_type": "code",
      "execution_count": null,
      "metadata": {
        "colab": {
          "base_uri": "https://localhost:8080/",
          "height": 227
        },
        "id": "zdzOUFi4hPFA",
        "outputId": "aa088e78-a501-4e7c-c6b8-fb6ed4ccb859"
      },
      "outputs": [
        {
          "data": {
            "text/html": [
              "<style>#sk-0b83308b-cb84-495c-8fb3-32eaf785b71b {color: black;background-color: white;}#sk-0b83308b-cb84-495c-8fb3-32eaf785b71b pre{padding: 0;}#sk-0b83308b-cb84-495c-8fb3-32eaf785b71b div.sk-toggleable {background-color: white;}#sk-0b83308b-cb84-495c-8fb3-32eaf785b71b label.sk-toggleable__label {cursor: pointer;display: block;width: 100%;margin-bottom: 0;padding: 0.3em;box-sizing: border-box;text-align: center;}#sk-0b83308b-cb84-495c-8fb3-32eaf785b71b label.sk-toggleable__label-arrow:before {content: \"▸\";float: left;margin-right: 0.25em;color: #696969;}#sk-0b83308b-cb84-495c-8fb3-32eaf785b71b label.sk-toggleable__label-arrow:hover:before {color: black;}#sk-0b83308b-cb84-495c-8fb3-32eaf785b71b div.sk-estimator:hover label.sk-toggleable__label-arrow:before {color: black;}#sk-0b83308b-cb84-495c-8fb3-32eaf785b71b div.sk-toggleable__content {max-height: 0;max-width: 0;overflow: hidden;text-align: left;background-color: #f0f8ff;}#sk-0b83308b-cb84-495c-8fb3-32eaf785b71b div.sk-toggleable__content pre {margin: 0.2em;color: black;border-radius: 0.25em;background-color: #f0f8ff;}#sk-0b83308b-cb84-495c-8fb3-32eaf785b71b input.sk-toggleable__control:checked~div.sk-toggleable__content {max-height: 200px;max-width: 100%;overflow: auto;}#sk-0b83308b-cb84-495c-8fb3-32eaf785b71b input.sk-toggleable__control:checked~label.sk-toggleable__label-arrow:before {content: \"▾\";}#sk-0b83308b-cb84-495c-8fb3-32eaf785b71b div.sk-estimator input.sk-toggleable__control:checked~label.sk-toggleable__label {background-color: #d4ebff;}#sk-0b83308b-cb84-495c-8fb3-32eaf785b71b div.sk-label input.sk-toggleable__control:checked~label.sk-toggleable__label {background-color: #d4ebff;}#sk-0b83308b-cb84-495c-8fb3-32eaf785b71b input.sk-hidden--visually {border: 0;clip: rect(1px 1px 1px 1px);clip: rect(1px, 1px, 1px, 1px);height: 1px;margin: -1px;overflow: hidden;padding: 0;position: absolute;width: 1px;}#sk-0b83308b-cb84-495c-8fb3-32eaf785b71b div.sk-estimator {font-family: monospace;background-color: #f0f8ff;border: 1px dotted black;border-radius: 0.25em;box-sizing: border-box;margin-bottom: 0.5em;}#sk-0b83308b-cb84-495c-8fb3-32eaf785b71b div.sk-estimator:hover {background-color: #d4ebff;}#sk-0b83308b-cb84-495c-8fb3-32eaf785b71b div.sk-parallel-item::after {content: \"\";width: 100%;border-bottom: 1px solid gray;flex-grow: 1;}#sk-0b83308b-cb84-495c-8fb3-32eaf785b71b div.sk-label:hover label.sk-toggleable__label {background-color: #d4ebff;}#sk-0b83308b-cb84-495c-8fb3-32eaf785b71b div.sk-serial::before {content: \"\";position: absolute;border-left: 1px solid gray;box-sizing: border-box;top: 2em;bottom: 0;left: 50%;}#sk-0b83308b-cb84-495c-8fb3-32eaf785b71b div.sk-serial {display: flex;flex-direction: column;align-items: center;background-color: white;padding-right: 0.2em;padding-left: 0.2em;}#sk-0b83308b-cb84-495c-8fb3-32eaf785b71b div.sk-item {z-index: 1;}#sk-0b83308b-cb84-495c-8fb3-32eaf785b71b div.sk-parallel {display: flex;align-items: stretch;justify-content: center;background-color: white;}#sk-0b83308b-cb84-495c-8fb3-32eaf785b71b div.sk-parallel::before {content: \"\";position: absolute;border-left: 1px solid gray;box-sizing: border-box;top: 2em;bottom: 0;left: 50%;}#sk-0b83308b-cb84-495c-8fb3-32eaf785b71b div.sk-parallel-item {display: flex;flex-direction: column;position: relative;background-color: white;}#sk-0b83308b-cb84-495c-8fb3-32eaf785b71b div.sk-parallel-item:first-child::after {align-self: flex-end;width: 50%;}#sk-0b83308b-cb84-495c-8fb3-32eaf785b71b div.sk-parallel-item:last-child::after {align-self: flex-start;width: 50%;}#sk-0b83308b-cb84-495c-8fb3-32eaf785b71b div.sk-parallel-item:only-child::after {width: 0;}#sk-0b83308b-cb84-495c-8fb3-32eaf785b71b div.sk-dashed-wrapped {border: 1px dashed gray;margin: 0 0.4em 0.5em 0.4em;box-sizing: border-box;padding-bottom: 0.4em;background-color: white;position: relative;}#sk-0b83308b-cb84-495c-8fb3-32eaf785b71b div.sk-label label {font-family: monospace;font-weight: bold;background-color: white;display: inline-block;line-height: 1.2em;}#sk-0b83308b-cb84-495c-8fb3-32eaf785b71b div.sk-label-container {position: relative;z-index: 2;text-align: center;}#sk-0b83308b-cb84-495c-8fb3-32eaf785b71b div.sk-container {/* jupyter's `normalize.less` sets `[hidden] { display: none; }` but bootstrap.min.css set `[hidden] { display: none !important; }` so we also need the `!important` here to be able to override the default hidden behavior on the sphinx rendered scikit-learn.org. See: https://github.com/scikit-learn/scikit-learn/issues/21755 */display: inline-block !important;position: relative;}#sk-0b83308b-cb84-495c-8fb3-32eaf785b71b div.sk-text-repr-fallback {display: none;}</style><div id=\"sk-0b83308b-cb84-495c-8fb3-32eaf785b71b\" class=\"sk-top-container\"><div class=\"sk-text-repr-fallback\"><pre>Pipeline(steps=[(&#x27;columntransformer&#x27;,\n",
              "                 ColumnTransformer(remainder=&#x27;passthrough&#x27;,\n",
              "                                   transformers=[(&#x27;pipeline&#x27;,\n",
              "                                                  Pipeline(steps=[(&#x27;simpleimputer&#x27;,\n",
              "                                                                   SimpleImputer()),\n",
              "                                                                  (&#x27;standardscaler&#x27;,\n",
              "                                                                   StandardScaler())]),\n",
              "                                                  &lt;sklearn.compose._column_transformer.make_column_selector object at 0x7f3b4d8bd910&gt;)])),\n",
              "                (&#x27;kneighborsclassifier&#x27;, KNeighborsClassifier())])</pre><b>Please rerun this cell to show the HTML repr or trust the notebook.</b></div><div class=\"sk-container\" hidden><div class=\"sk-item sk-dashed-wrapped\"><div class=\"sk-label-container\"><div class=\"sk-label sk-toggleable\"><input class=\"sk-toggleable__control sk-hidden--visually\" id=\"3da83660-92e2-4d4f-baf3-58adc6093eff\" type=\"checkbox\" ><label for=\"3da83660-92e2-4d4f-baf3-58adc6093eff\" class=\"sk-toggleable__label sk-toggleable__label-arrow\">Pipeline</label><div class=\"sk-toggleable__content\"><pre>Pipeline(steps=[(&#x27;columntransformer&#x27;,\n",
              "                 ColumnTransformer(remainder=&#x27;passthrough&#x27;,\n",
              "                                   transformers=[(&#x27;pipeline&#x27;,\n",
              "                                                  Pipeline(steps=[(&#x27;simpleimputer&#x27;,\n",
              "                                                                   SimpleImputer()),\n",
              "                                                                  (&#x27;standardscaler&#x27;,\n",
              "                                                                   StandardScaler())]),\n",
              "                                                  &lt;sklearn.compose._column_transformer.make_column_selector object at 0x7f3b4d8bd910&gt;)])),\n",
              "                (&#x27;kneighborsclassifier&#x27;, KNeighborsClassifier())])</pre></div></div></div><div class=\"sk-serial\"><div class=\"sk-item sk-dashed-wrapped\"><div class=\"sk-label-container\"><div class=\"sk-label sk-toggleable\"><input class=\"sk-toggleable__control sk-hidden--visually\" id=\"23d2ae05-9788-4512-9cbb-a402bb142d1c\" type=\"checkbox\" ><label for=\"23d2ae05-9788-4512-9cbb-a402bb142d1c\" class=\"sk-toggleable__label sk-toggleable__label-arrow\">columntransformer: ColumnTransformer</label><div class=\"sk-toggleable__content\"><pre>ColumnTransformer(remainder=&#x27;passthrough&#x27;,\n",
              "                  transformers=[(&#x27;pipeline&#x27;,\n",
              "                                 Pipeline(steps=[(&#x27;simpleimputer&#x27;,\n",
              "                                                  SimpleImputer()),\n",
              "                                                 (&#x27;standardscaler&#x27;,\n",
              "                                                  StandardScaler())]),\n",
              "                                 &lt;sklearn.compose._column_transformer.make_column_selector object at 0x7f3b4d8bd910&gt;)])</pre></div></div></div><div class=\"sk-parallel\"><div class=\"sk-parallel-item\"><div class=\"sk-item\"><div class=\"sk-label-container\"><div class=\"sk-label sk-toggleable\"><input class=\"sk-toggleable__control sk-hidden--visually\" id=\"ff3c67e7-fbbf-4324-ac88-a8b3fc33818a\" type=\"checkbox\" ><label for=\"ff3c67e7-fbbf-4324-ac88-a8b3fc33818a\" class=\"sk-toggleable__label sk-toggleable__label-arrow\">pipeline</label><div class=\"sk-toggleable__content\"><pre>&lt;sklearn.compose._column_transformer.make_column_selector object at 0x7f3b4d8bd910&gt;</pre></div></div></div><div class=\"sk-serial\"><div class=\"sk-item\"><div class=\"sk-serial\"><div class=\"sk-item\"><div class=\"sk-estimator sk-toggleable\"><input class=\"sk-toggleable__control sk-hidden--visually\" id=\"f92e14f9-1d74-4a24-9709-15117fc61850\" type=\"checkbox\" ><label for=\"f92e14f9-1d74-4a24-9709-15117fc61850\" class=\"sk-toggleable__label sk-toggleable__label-arrow\">SimpleImputer</label><div class=\"sk-toggleable__content\"><pre>SimpleImputer()</pre></div></div></div><div class=\"sk-item\"><div class=\"sk-estimator sk-toggleable\"><input class=\"sk-toggleable__control sk-hidden--visually\" id=\"5e1bf637-5f59-4a5e-ac04-f012fcb34595\" type=\"checkbox\" ><label for=\"5e1bf637-5f59-4a5e-ac04-f012fcb34595\" class=\"sk-toggleable__label sk-toggleable__label-arrow\">StandardScaler</label><div class=\"sk-toggleable__content\"><pre>StandardScaler()</pre></div></div></div></div></div></div></div></div><div class=\"sk-parallel-item\"><div class=\"sk-item\"><div class=\"sk-label-container\"><div class=\"sk-label sk-toggleable\"><input class=\"sk-toggleable__control sk-hidden--visually\" id=\"989ea32a-3767-4efe-af11-7286338a81ea\" type=\"checkbox\" ><label for=\"989ea32a-3767-4efe-af11-7286338a81ea\" class=\"sk-toggleable__label sk-toggleable__label-arrow\">remainder</label><div class=\"sk-toggleable__content\"><pre>[]</pre></div></div></div><div class=\"sk-serial\"><div class=\"sk-item\"><div class=\"sk-estimator sk-toggleable\"><input class=\"sk-toggleable__control sk-hidden--visually\" id=\"b5905f93-7f1d-44e0-bee9-a524b1a9ceaf\" type=\"checkbox\" ><label for=\"b5905f93-7f1d-44e0-bee9-a524b1a9ceaf\" class=\"sk-toggleable__label sk-toggleable__label-arrow\">passthrough</label><div class=\"sk-toggleable__content\"><pre>passthrough</pre></div></div></div></div></div></div></div></div><div class=\"sk-item\"><div class=\"sk-estimator sk-toggleable\"><input class=\"sk-toggleable__control sk-hidden--visually\" id=\"880c1c9c-e32a-48a1-97a3-27f7ddb838f1\" type=\"checkbox\" ><label for=\"880c1c9c-e32a-48a1-97a3-27f7ddb838f1\" class=\"sk-toggleable__label sk-toggleable__label-arrow\">KNeighborsClassifier</label><div class=\"sk-toggleable__content\"><pre>KNeighborsClassifier()</pre></div></div></div></div></div></div></div>"
            ],
            "text/plain": [
              "Pipeline(steps=[('columntransformer',\n",
              "                 ColumnTransformer(remainder='passthrough',\n",
              "                                   transformers=[('pipeline',\n",
              "                                                  Pipeline(steps=[('simpleimputer',\n",
              "                                                                   SimpleImputer()),\n",
              "                                                                  ('standardscaler',\n",
              "                                                                   StandardScaler())]),\n",
              "                                                  <sklearn.compose._column_transformer.make_column_selector object at 0x7f3b4d8bd910>)])),\n",
              "                ('kneighborsclassifier', KNeighborsClassifier())])"
            ]
          },
          "execution_count": 25,
          "metadata": {},
          "output_type": "execute_result"
        }
      ],
      "source": [
        "# KNN Model with default parameters\n",
        "knn = KNeighborsClassifier()\n",
        "\n",
        "# Create pipeline\n",
        "knn_pipe = make_pipeline(column_transformer, knn)\n",
        "\n",
        "# Fit model\n",
        "knn_pipe.fit(X_train, y_train)"
      ]
    },
    {
      "cell_type": "code",
      "execution_count": null,
      "metadata": {
        "colab": {
          "base_uri": "https://localhost:8080/"
        },
        "id": "8ecIF1g5nK9d",
        "outputId": "50191c7d-d91a-4db9-bbb8-ac92d80a0611"
      },
      "outputs": [
        {
          "name": "stdout",
          "output_type": "stream",
          "text": [
            "KNN Training accuracy: 0.7803468208092486\n",
            "KNN Testing accuracy: 0.6810344827586207\n"
          ]
        }
      ],
      "source": [
        "knn_train_preds = knn_pipe.predict(X_train)\n",
        "knn_test_preds = knn_pipe.predict(X_test)\n",
        "\n",
        "print('KNN Training accuracy:', accuracy_score(y_train, knn_train_preds))\n",
        "print('KNN Testing accuracy:', accuracy_score(y_test, knn_test_preds))"
      ]
    },
    {
      "cell_type": "code",
      "execution_count": null,
      "metadata": {
        "id": "LIpqeJ2ChXat"
      },
      "outputs": [],
      "source": [
        "# Define range of hyperparameters to find best\n",
        "knn_params = {'kneighborsclassifier__n_neighbors' : range(1, 20),\n",
        "              'kneighborsclassifier__leaf_size' : [5, 10, 15],\n",
        "              'kneighborsclassifier__weights': ['uniform', 'distance'],\n",
        "              'kneighborsclassifier__p': [4, 5, 6]}"
      ]
    },
    {
      "cell_type": "code",
      "execution_count": null,
      "metadata": {
        "colab": {
          "base_uri": "https://localhost:8080/",
          "height": 228
        },
        "id": "ZJNqANtJhb3t",
        "outputId": "9b08f5fb-1539-4b31-c7c8-c1454430596e"
      },
      "outputs": [
        {
          "data": {
            "text/html": [
              "<style>#sk-22a5903a-0ec2-4ca6-837f-c31188d90531 {color: black;background-color: white;}#sk-22a5903a-0ec2-4ca6-837f-c31188d90531 pre{padding: 0;}#sk-22a5903a-0ec2-4ca6-837f-c31188d90531 div.sk-toggleable {background-color: white;}#sk-22a5903a-0ec2-4ca6-837f-c31188d90531 label.sk-toggleable__label {cursor: pointer;display: block;width: 100%;margin-bottom: 0;padding: 0.3em;box-sizing: border-box;text-align: center;}#sk-22a5903a-0ec2-4ca6-837f-c31188d90531 label.sk-toggleable__label-arrow:before {content: \"▸\";float: left;margin-right: 0.25em;color: #696969;}#sk-22a5903a-0ec2-4ca6-837f-c31188d90531 label.sk-toggleable__label-arrow:hover:before {color: black;}#sk-22a5903a-0ec2-4ca6-837f-c31188d90531 div.sk-estimator:hover label.sk-toggleable__label-arrow:before {color: black;}#sk-22a5903a-0ec2-4ca6-837f-c31188d90531 div.sk-toggleable__content {max-height: 0;max-width: 0;overflow: hidden;text-align: left;background-color: #f0f8ff;}#sk-22a5903a-0ec2-4ca6-837f-c31188d90531 div.sk-toggleable__content pre {margin: 0.2em;color: black;border-radius: 0.25em;background-color: #f0f8ff;}#sk-22a5903a-0ec2-4ca6-837f-c31188d90531 input.sk-toggleable__control:checked~div.sk-toggleable__content {max-height: 200px;max-width: 100%;overflow: auto;}#sk-22a5903a-0ec2-4ca6-837f-c31188d90531 input.sk-toggleable__control:checked~label.sk-toggleable__label-arrow:before {content: \"▾\";}#sk-22a5903a-0ec2-4ca6-837f-c31188d90531 div.sk-estimator input.sk-toggleable__control:checked~label.sk-toggleable__label {background-color: #d4ebff;}#sk-22a5903a-0ec2-4ca6-837f-c31188d90531 div.sk-label input.sk-toggleable__control:checked~label.sk-toggleable__label {background-color: #d4ebff;}#sk-22a5903a-0ec2-4ca6-837f-c31188d90531 input.sk-hidden--visually {border: 0;clip: rect(1px 1px 1px 1px);clip: rect(1px, 1px, 1px, 1px);height: 1px;margin: -1px;overflow: hidden;padding: 0;position: absolute;width: 1px;}#sk-22a5903a-0ec2-4ca6-837f-c31188d90531 div.sk-estimator {font-family: monospace;background-color: #f0f8ff;border: 1px dotted black;border-radius: 0.25em;box-sizing: border-box;margin-bottom: 0.5em;}#sk-22a5903a-0ec2-4ca6-837f-c31188d90531 div.sk-estimator:hover {background-color: #d4ebff;}#sk-22a5903a-0ec2-4ca6-837f-c31188d90531 div.sk-parallel-item::after {content: \"\";width: 100%;border-bottom: 1px solid gray;flex-grow: 1;}#sk-22a5903a-0ec2-4ca6-837f-c31188d90531 div.sk-label:hover label.sk-toggleable__label {background-color: #d4ebff;}#sk-22a5903a-0ec2-4ca6-837f-c31188d90531 div.sk-serial::before {content: \"\";position: absolute;border-left: 1px solid gray;box-sizing: border-box;top: 2em;bottom: 0;left: 50%;}#sk-22a5903a-0ec2-4ca6-837f-c31188d90531 div.sk-serial {display: flex;flex-direction: column;align-items: center;background-color: white;padding-right: 0.2em;padding-left: 0.2em;}#sk-22a5903a-0ec2-4ca6-837f-c31188d90531 div.sk-item {z-index: 1;}#sk-22a5903a-0ec2-4ca6-837f-c31188d90531 div.sk-parallel {display: flex;align-items: stretch;justify-content: center;background-color: white;}#sk-22a5903a-0ec2-4ca6-837f-c31188d90531 div.sk-parallel::before {content: \"\";position: absolute;border-left: 1px solid gray;box-sizing: border-box;top: 2em;bottom: 0;left: 50%;}#sk-22a5903a-0ec2-4ca6-837f-c31188d90531 div.sk-parallel-item {display: flex;flex-direction: column;position: relative;background-color: white;}#sk-22a5903a-0ec2-4ca6-837f-c31188d90531 div.sk-parallel-item:first-child::after {align-self: flex-end;width: 50%;}#sk-22a5903a-0ec2-4ca6-837f-c31188d90531 div.sk-parallel-item:last-child::after {align-self: flex-start;width: 50%;}#sk-22a5903a-0ec2-4ca6-837f-c31188d90531 div.sk-parallel-item:only-child::after {width: 0;}#sk-22a5903a-0ec2-4ca6-837f-c31188d90531 div.sk-dashed-wrapped {border: 1px dashed gray;margin: 0 0.4em 0.5em 0.4em;box-sizing: border-box;padding-bottom: 0.4em;background-color: white;position: relative;}#sk-22a5903a-0ec2-4ca6-837f-c31188d90531 div.sk-label label {font-family: monospace;font-weight: bold;background-color: white;display: inline-block;line-height: 1.2em;}#sk-22a5903a-0ec2-4ca6-837f-c31188d90531 div.sk-label-container {position: relative;z-index: 2;text-align: center;}#sk-22a5903a-0ec2-4ca6-837f-c31188d90531 div.sk-container {/* jupyter's `normalize.less` sets `[hidden] { display: none; }` but bootstrap.min.css set `[hidden] { display: none !important; }` so we also need the `!important` here to be able to override the default hidden behavior on the sphinx rendered scikit-learn.org. See: https://github.com/scikit-learn/scikit-learn/issues/21755 */display: inline-block !important;position: relative;}#sk-22a5903a-0ec2-4ca6-837f-c31188d90531 div.sk-text-repr-fallback {display: none;}</style><div id=\"sk-22a5903a-0ec2-4ca6-837f-c31188d90531\" class=\"sk-top-container\"><div class=\"sk-text-repr-fallback\"><pre>GridSearchCV(estimator=Pipeline(steps=[(&#x27;columntransformer&#x27;,\n",
              "                                        ColumnTransformer(remainder=&#x27;passthrough&#x27;,\n",
              "                                                          transformers=[(&#x27;pipeline&#x27;,\n",
              "                                                                         Pipeline(steps=[(&#x27;simpleimputer&#x27;,\n",
              "                                                                                          SimpleImputer()),\n",
              "                                                                                         (&#x27;standardscaler&#x27;,\n",
              "                                                                                          StandardScaler())]),\n",
              "                                                                         &lt;sklearn.compose._column_transformer.make_column_selector object at 0x7f3b4d8bd910&gt;)])),\n",
              "                                       (&#x27;kneighborsclassifier&#x27;,\n",
              "                                        KNeighborsClassifier())]),\n",
              "             param_grid={&#x27;kneighborsclassifier__leaf_size&#x27;: [5, 10, 15],\n",
              "                         &#x27;kneighborsclassifier__n_neighbors&#x27;: range(1, 20),\n",
              "                         &#x27;kneighborsclassifier__p&#x27;: [4, 5, 6],\n",
              "                         &#x27;kneighborsclassifier__weights&#x27;: [&#x27;uniform&#x27;,\n",
              "                                                           &#x27;distance&#x27;]})</pre><b>Please rerun this cell to show the HTML repr or trust the notebook.</b></div><div class=\"sk-container\" hidden><div class=\"sk-item sk-dashed-wrapped\"><div class=\"sk-label-container\"><div class=\"sk-label sk-toggleable\"><input class=\"sk-toggleable__control sk-hidden--visually\" id=\"9d7e6695-2ff9-4da2-86c2-d11d0cced827\" type=\"checkbox\" ><label for=\"9d7e6695-2ff9-4da2-86c2-d11d0cced827\" class=\"sk-toggleable__label sk-toggleable__label-arrow\">GridSearchCV</label><div class=\"sk-toggleable__content\"><pre>GridSearchCV(estimator=Pipeline(steps=[(&#x27;columntransformer&#x27;,\n",
              "                                        ColumnTransformer(remainder=&#x27;passthrough&#x27;,\n",
              "                                                          transformers=[(&#x27;pipeline&#x27;,\n",
              "                                                                         Pipeline(steps=[(&#x27;simpleimputer&#x27;,\n",
              "                                                                                          SimpleImputer()),\n",
              "                                                                                         (&#x27;standardscaler&#x27;,\n",
              "                                                                                          StandardScaler())]),\n",
              "                                                                         &lt;sklearn.compose._column_transformer.make_column_selector object at 0x7f3b4d8bd910&gt;)])),\n",
              "                                       (&#x27;kneighborsclassifier&#x27;,\n",
              "                                        KNeighborsClassifier())]),\n",
              "             param_grid={&#x27;kneighborsclassifier__leaf_size&#x27;: [5, 10, 15],\n",
              "                         &#x27;kneighborsclassifier__n_neighbors&#x27;: range(1, 20),\n",
              "                         &#x27;kneighborsclassifier__p&#x27;: [4, 5, 6],\n",
              "                         &#x27;kneighborsclassifier__weights&#x27;: [&#x27;uniform&#x27;,\n",
              "                                                           &#x27;distance&#x27;]})</pre></div></div></div><div class=\"sk-parallel\"><div class=\"sk-parallel-item\"><div class=\"sk-item\"><div class=\"sk-serial\"><div class=\"sk-item\"><div class=\"sk-serial\"><div class=\"sk-item sk-dashed-wrapped\"><div class=\"sk-label-container\"><div class=\"sk-label sk-toggleable\"><input class=\"sk-toggleable__control sk-hidden--visually\" id=\"c2653151-afd2-424a-a81e-fef41840ad7f\" type=\"checkbox\" ><label for=\"c2653151-afd2-424a-a81e-fef41840ad7f\" class=\"sk-toggleable__label sk-toggleable__label-arrow\">columntransformer: ColumnTransformer</label><div class=\"sk-toggleable__content\"><pre>ColumnTransformer(remainder=&#x27;passthrough&#x27;,\n",
              "                  transformers=[(&#x27;pipeline&#x27;,\n",
              "                                 Pipeline(steps=[(&#x27;simpleimputer&#x27;,\n",
              "                                                  SimpleImputer()),\n",
              "                                                 (&#x27;standardscaler&#x27;,\n",
              "                                                  StandardScaler())]),\n",
              "                                 &lt;sklearn.compose._column_transformer.make_column_selector object at 0x7f3b4d8bd910&gt;)])</pre></div></div></div><div class=\"sk-parallel\"><div class=\"sk-parallel-item\"><div class=\"sk-item\"><div class=\"sk-label-container\"><div class=\"sk-label sk-toggleable\"><input class=\"sk-toggleable__control sk-hidden--visually\" id=\"7608af02-2e98-4dd7-a2aa-8a54372620ba\" type=\"checkbox\" ><label for=\"7608af02-2e98-4dd7-a2aa-8a54372620ba\" class=\"sk-toggleable__label sk-toggleable__label-arrow\">pipeline</label><div class=\"sk-toggleable__content\"><pre>&lt;sklearn.compose._column_transformer.make_column_selector object at 0x7f3b4d8bd910&gt;</pre></div></div></div><div class=\"sk-serial\"><div class=\"sk-item\"><div class=\"sk-serial\"><div class=\"sk-item\"><div class=\"sk-estimator sk-toggleable\"><input class=\"sk-toggleable__control sk-hidden--visually\" id=\"b94187f4-1bd8-42ed-9d13-ca10c4144912\" type=\"checkbox\" ><label for=\"b94187f4-1bd8-42ed-9d13-ca10c4144912\" class=\"sk-toggleable__label sk-toggleable__label-arrow\">SimpleImputer</label><div class=\"sk-toggleable__content\"><pre>SimpleImputer()</pre></div></div></div><div class=\"sk-item\"><div class=\"sk-estimator sk-toggleable\"><input class=\"sk-toggleable__control sk-hidden--visually\" id=\"7d0425d2-7953-4da7-8b54-07badb72b357\" type=\"checkbox\" ><label for=\"7d0425d2-7953-4da7-8b54-07badb72b357\" class=\"sk-toggleable__label sk-toggleable__label-arrow\">StandardScaler</label><div class=\"sk-toggleable__content\"><pre>StandardScaler()</pre></div></div></div></div></div></div></div></div><div class=\"sk-parallel-item\"><div class=\"sk-item\"><div class=\"sk-label-container\"><div class=\"sk-label sk-toggleable\"><input class=\"sk-toggleable__control sk-hidden--visually\" id=\"fd3d333a-770a-42cb-a64b-848952fbc65c\" type=\"checkbox\" ><label for=\"fd3d333a-770a-42cb-a64b-848952fbc65c\" class=\"sk-toggleable__label sk-toggleable__label-arrow\">remainder</label><div class=\"sk-toggleable__content\"><pre>[]</pre></div></div></div><div class=\"sk-serial\"><div class=\"sk-item\"><div class=\"sk-estimator sk-toggleable\"><input class=\"sk-toggleable__control sk-hidden--visually\" id=\"8ecb4a55-a50f-4f6e-856c-1380dfae3d63\" type=\"checkbox\" ><label for=\"8ecb4a55-a50f-4f6e-856c-1380dfae3d63\" class=\"sk-toggleable__label sk-toggleable__label-arrow\">passthrough</label><div class=\"sk-toggleable__content\"><pre>passthrough</pre></div></div></div></div></div></div></div></div><div class=\"sk-item\"><div class=\"sk-estimator sk-toggleable\"><input class=\"sk-toggleable__control sk-hidden--visually\" id=\"94af426e-97c5-4dfd-b5e4-bde6e6b55d13\" type=\"checkbox\" ><label for=\"94af426e-97c5-4dfd-b5e4-bde6e6b55d13\" class=\"sk-toggleable__label sk-toggleable__label-arrow\">KNeighborsClassifier</label><div class=\"sk-toggleable__content\"><pre>KNeighborsClassifier()</pre></div></div></div></div></div></div></div></div></div></div></div></div>"
            ],
            "text/plain": [
              "GridSearchCV(estimator=Pipeline(steps=[('columntransformer',\n",
              "                                        ColumnTransformer(remainder='passthrough',\n",
              "                                                          transformers=[('pipeline',\n",
              "                                                                         Pipeline(steps=[('simpleimputer',\n",
              "                                                                                          SimpleImputer()),\n",
              "                                                                                         ('standardscaler',\n",
              "                                                                                          StandardScaler())]),\n",
              "                                                                         <sklearn.compose._column_transformer.make_column_selector object at 0x7f3b4d8bd910>)])),\n",
              "                                       ('kneighborsclassifier',\n",
              "                                        KNeighborsClassifier())]),\n",
              "             param_grid={'kneighborsclassifier__leaf_size': [5, 10, 15],\n",
              "                         'kneighborsclassifier__n_neighbors': range(1, 20),\n",
              "                         'kneighborsclassifier__p': [4, 5, 6],\n",
              "                         'kneighborsclassifier__weights': ['uniform',\n",
              "                                                           'distance']})"
            ]
          },
          "execution_count": 28,
          "metadata": {},
          "output_type": "execute_result"
        }
      ],
      "source": [
        "# Use Gridsearch to find best parameters\n",
        "knn_grid = GridSearchCV(knn_pipe, knn_params)\n",
        "knn_grid.fit(X_train, y_train)"
      ]
    },
    {
      "cell_type": "code",
      "execution_count": null,
      "metadata": {
        "colab": {
          "base_uri": "https://localhost:8080/"
        },
        "id": "Ncj-9qInhgUn",
        "outputId": "94000639-6f50-4455-9ca9-aca602935094"
      },
      "outputs": [
        {
          "data": {
            "text/plain": [
              "{'kneighborsclassifier__leaf_size': 5,\n",
              " 'kneighborsclassifier__n_neighbors': 13,\n",
              " 'kneighborsclassifier__p': 5,\n",
              " 'kneighborsclassifier__weights': 'uniform'}"
            ]
          },
          "execution_count": 29,
          "metadata": {},
          "output_type": "execute_result"
        }
      ],
      "source": [
        "# View the best parameters\n",
        "knn_grid.best_params_"
      ]
    },
    {
      "cell_type": "code",
      "execution_count": null,
      "metadata": {
        "id": "7l93uL8gmGO_"
      },
      "outputs": [],
      "source": [
        "# Create variable with the best parameters\n",
        "best_knn = knn_grid.best_estimator_"
      ]
    },
    {
      "cell_type": "code",
      "execution_count": null,
      "metadata": {
        "colab": {
          "base_uri": "https://localhost:8080/"
        },
        "id": "Dd0gFwI6hjkk",
        "outputId": "18ababe5-0ecf-473a-ae67-0e061e09e8df"
      },
      "outputs": [
        {
          "name": "stdout",
          "output_type": "stream",
          "text": [
            "KNN Best Model Training Metrics\n",
            "              precision    recall  f1-score   support\n",
            "\n",
            "           0       0.75      0.92      0.82       227\n",
            "           1       0.73      0.40      0.52       119\n",
            "\n",
            "    accuracy                           0.74       346\n",
            "   macro avg       0.74      0.66      0.67       346\n",
            "weighted avg       0.74      0.74      0.72       346\n",
            "\n",
            "\n",
            "KNN Best Model Testing Metrics\n",
            "              precision    recall  f1-score   support\n",
            "\n",
            "           0       0.70      0.93      0.80        75\n",
            "           1       0.69      0.27      0.39        41\n",
            "\n",
            "    accuracy                           0.70       116\n",
            "   macro avg       0.69      0.60      0.59       116\n",
            "weighted avg       0.70      0.70      0.65       116\n",
            "\n"
          ]
        }
      ],
      "source": [
        "# Run a classification report on both train and test datasets for the best model. \n",
        "\n",
        "knn_train_preds = best_knn.predict(X_train)\n",
        "knn_test_preds = best_knn.predict(X_test)\n",
        "\n",
        "print('KNN Best Model Training Metrics')\n",
        "print(classification_report(y_train, knn_train_preds))\n",
        "print('\\nKNN Best Model Testing Metrics')\n",
        "print(classification_report(y_test, knn_test_preds))"
      ]
    },
    {
      "cell_type": "markdown",
      "metadata": {
        "id": "sviGgSGgm0M3"
      },
      "source": [
        "## Random Forest"
      ]
    },
    {
      "cell_type": "code",
      "execution_count": null,
      "metadata": {
        "colab": {
          "base_uri": "https://localhost:8080/",
          "height": 227
        },
        "id": "3TdKGyn3hmwD",
        "outputId": "cebb3ef1-aaf6-4080-b318-7aa5e505686f"
      },
      "outputs": [
        {
          "data": {
            "text/html": [
              "<style>#sk-8ace9a61-e026-490b-ba54-39fd719e78f1 {color: black;background-color: white;}#sk-8ace9a61-e026-490b-ba54-39fd719e78f1 pre{padding: 0;}#sk-8ace9a61-e026-490b-ba54-39fd719e78f1 div.sk-toggleable {background-color: white;}#sk-8ace9a61-e026-490b-ba54-39fd719e78f1 label.sk-toggleable__label {cursor: pointer;display: block;width: 100%;margin-bottom: 0;padding: 0.3em;box-sizing: border-box;text-align: center;}#sk-8ace9a61-e026-490b-ba54-39fd719e78f1 label.sk-toggleable__label-arrow:before {content: \"▸\";float: left;margin-right: 0.25em;color: #696969;}#sk-8ace9a61-e026-490b-ba54-39fd719e78f1 label.sk-toggleable__label-arrow:hover:before {color: black;}#sk-8ace9a61-e026-490b-ba54-39fd719e78f1 div.sk-estimator:hover label.sk-toggleable__label-arrow:before {color: black;}#sk-8ace9a61-e026-490b-ba54-39fd719e78f1 div.sk-toggleable__content {max-height: 0;max-width: 0;overflow: hidden;text-align: left;background-color: #f0f8ff;}#sk-8ace9a61-e026-490b-ba54-39fd719e78f1 div.sk-toggleable__content pre {margin: 0.2em;color: black;border-radius: 0.25em;background-color: #f0f8ff;}#sk-8ace9a61-e026-490b-ba54-39fd719e78f1 input.sk-toggleable__control:checked~div.sk-toggleable__content {max-height: 200px;max-width: 100%;overflow: auto;}#sk-8ace9a61-e026-490b-ba54-39fd719e78f1 input.sk-toggleable__control:checked~label.sk-toggleable__label-arrow:before {content: \"▾\";}#sk-8ace9a61-e026-490b-ba54-39fd719e78f1 div.sk-estimator input.sk-toggleable__control:checked~label.sk-toggleable__label {background-color: #d4ebff;}#sk-8ace9a61-e026-490b-ba54-39fd719e78f1 div.sk-label input.sk-toggleable__control:checked~label.sk-toggleable__label {background-color: #d4ebff;}#sk-8ace9a61-e026-490b-ba54-39fd719e78f1 input.sk-hidden--visually {border: 0;clip: rect(1px 1px 1px 1px);clip: rect(1px, 1px, 1px, 1px);height: 1px;margin: -1px;overflow: hidden;padding: 0;position: absolute;width: 1px;}#sk-8ace9a61-e026-490b-ba54-39fd719e78f1 div.sk-estimator {font-family: monospace;background-color: #f0f8ff;border: 1px dotted black;border-radius: 0.25em;box-sizing: border-box;margin-bottom: 0.5em;}#sk-8ace9a61-e026-490b-ba54-39fd719e78f1 div.sk-estimator:hover {background-color: #d4ebff;}#sk-8ace9a61-e026-490b-ba54-39fd719e78f1 div.sk-parallel-item::after {content: \"\";width: 100%;border-bottom: 1px solid gray;flex-grow: 1;}#sk-8ace9a61-e026-490b-ba54-39fd719e78f1 div.sk-label:hover label.sk-toggleable__label {background-color: #d4ebff;}#sk-8ace9a61-e026-490b-ba54-39fd719e78f1 div.sk-serial::before {content: \"\";position: absolute;border-left: 1px solid gray;box-sizing: border-box;top: 2em;bottom: 0;left: 50%;}#sk-8ace9a61-e026-490b-ba54-39fd719e78f1 div.sk-serial {display: flex;flex-direction: column;align-items: center;background-color: white;padding-right: 0.2em;padding-left: 0.2em;}#sk-8ace9a61-e026-490b-ba54-39fd719e78f1 div.sk-item {z-index: 1;}#sk-8ace9a61-e026-490b-ba54-39fd719e78f1 div.sk-parallel {display: flex;align-items: stretch;justify-content: center;background-color: white;}#sk-8ace9a61-e026-490b-ba54-39fd719e78f1 div.sk-parallel::before {content: \"\";position: absolute;border-left: 1px solid gray;box-sizing: border-box;top: 2em;bottom: 0;left: 50%;}#sk-8ace9a61-e026-490b-ba54-39fd719e78f1 div.sk-parallel-item {display: flex;flex-direction: column;position: relative;background-color: white;}#sk-8ace9a61-e026-490b-ba54-39fd719e78f1 div.sk-parallel-item:first-child::after {align-self: flex-end;width: 50%;}#sk-8ace9a61-e026-490b-ba54-39fd719e78f1 div.sk-parallel-item:last-child::after {align-self: flex-start;width: 50%;}#sk-8ace9a61-e026-490b-ba54-39fd719e78f1 div.sk-parallel-item:only-child::after {width: 0;}#sk-8ace9a61-e026-490b-ba54-39fd719e78f1 div.sk-dashed-wrapped {border: 1px dashed gray;margin: 0 0.4em 0.5em 0.4em;box-sizing: border-box;padding-bottom: 0.4em;background-color: white;position: relative;}#sk-8ace9a61-e026-490b-ba54-39fd719e78f1 div.sk-label label {font-family: monospace;font-weight: bold;background-color: white;display: inline-block;line-height: 1.2em;}#sk-8ace9a61-e026-490b-ba54-39fd719e78f1 div.sk-label-container {position: relative;z-index: 2;text-align: center;}#sk-8ace9a61-e026-490b-ba54-39fd719e78f1 div.sk-container {/* jupyter's `normalize.less` sets `[hidden] { display: none; }` but bootstrap.min.css set `[hidden] { display: none !important; }` so we also need the `!important` here to be able to override the default hidden behavior on the sphinx rendered scikit-learn.org. See: https://github.com/scikit-learn/scikit-learn/issues/21755 */display: inline-block !important;position: relative;}#sk-8ace9a61-e026-490b-ba54-39fd719e78f1 div.sk-text-repr-fallback {display: none;}</style><div id=\"sk-8ace9a61-e026-490b-ba54-39fd719e78f1\" class=\"sk-top-container\"><div class=\"sk-text-repr-fallback\"><pre>Pipeline(steps=[(&#x27;columntransformer&#x27;,\n",
              "                 ColumnTransformer(remainder=&#x27;passthrough&#x27;,\n",
              "                                   transformers=[(&#x27;pipeline&#x27;,\n",
              "                                                  Pipeline(steps=[(&#x27;simpleimputer&#x27;,\n",
              "                                                                   SimpleImputer()),\n",
              "                                                                  (&#x27;standardscaler&#x27;,\n",
              "                                                                   StandardScaler())]),\n",
              "                                                  &lt;sklearn.compose._column_transformer.make_column_selector object at 0x7f3b4d8bd910&gt;)])),\n",
              "                (&#x27;randomforestclassifier&#x27;,\n",
              "                 RandomForestClassifier(random_state=42))])</pre><b>Please rerun this cell to show the HTML repr or trust the notebook.</b></div><div class=\"sk-container\" hidden><div class=\"sk-item sk-dashed-wrapped\"><div class=\"sk-label-container\"><div class=\"sk-label sk-toggleable\"><input class=\"sk-toggleable__control sk-hidden--visually\" id=\"cdc676ad-ee80-4680-a7bd-1fd6c4a87814\" type=\"checkbox\" ><label for=\"cdc676ad-ee80-4680-a7bd-1fd6c4a87814\" class=\"sk-toggleable__label sk-toggleable__label-arrow\">Pipeline</label><div class=\"sk-toggleable__content\"><pre>Pipeline(steps=[(&#x27;columntransformer&#x27;,\n",
              "                 ColumnTransformer(remainder=&#x27;passthrough&#x27;,\n",
              "                                   transformers=[(&#x27;pipeline&#x27;,\n",
              "                                                  Pipeline(steps=[(&#x27;simpleimputer&#x27;,\n",
              "                                                                   SimpleImputer()),\n",
              "                                                                  (&#x27;standardscaler&#x27;,\n",
              "                                                                   StandardScaler())]),\n",
              "                                                  &lt;sklearn.compose._column_transformer.make_column_selector object at 0x7f3b4d8bd910&gt;)])),\n",
              "                (&#x27;randomforestclassifier&#x27;,\n",
              "                 RandomForestClassifier(random_state=42))])</pre></div></div></div><div class=\"sk-serial\"><div class=\"sk-item sk-dashed-wrapped\"><div class=\"sk-label-container\"><div class=\"sk-label sk-toggleable\"><input class=\"sk-toggleable__control sk-hidden--visually\" id=\"334528df-2501-4f07-b0a4-8c1133d6a7f4\" type=\"checkbox\" ><label for=\"334528df-2501-4f07-b0a4-8c1133d6a7f4\" class=\"sk-toggleable__label sk-toggleable__label-arrow\">columntransformer: ColumnTransformer</label><div class=\"sk-toggleable__content\"><pre>ColumnTransformer(remainder=&#x27;passthrough&#x27;,\n",
              "                  transformers=[(&#x27;pipeline&#x27;,\n",
              "                                 Pipeline(steps=[(&#x27;simpleimputer&#x27;,\n",
              "                                                  SimpleImputer()),\n",
              "                                                 (&#x27;standardscaler&#x27;,\n",
              "                                                  StandardScaler())]),\n",
              "                                 &lt;sklearn.compose._column_transformer.make_column_selector object at 0x7f3b4d8bd910&gt;)])</pre></div></div></div><div class=\"sk-parallel\"><div class=\"sk-parallel-item\"><div class=\"sk-item\"><div class=\"sk-label-container\"><div class=\"sk-label sk-toggleable\"><input class=\"sk-toggleable__control sk-hidden--visually\" id=\"c73ef7ac-b82b-4f5f-b7bd-1e9ee65f850e\" type=\"checkbox\" ><label for=\"c73ef7ac-b82b-4f5f-b7bd-1e9ee65f850e\" class=\"sk-toggleable__label sk-toggleable__label-arrow\">pipeline</label><div class=\"sk-toggleable__content\"><pre>&lt;sklearn.compose._column_transformer.make_column_selector object at 0x7f3b4d8bd910&gt;</pre></div></div></div><div class=\"sk-serial\"><div class=\"sk-item\"><div class=\"sk-serial\"><div class=\"sk-item\"><div class=\"sk-estimator sk-toggleable\"><input class=\"sk-toggleable__control sk-hidden--visually\" id=\"c14f3659-538c-473e-a435-8f4f7b0bef68\" type=\"checkbox\" ><label for=\"c14f3659-538c-473e-a435-8f4f7b0bef68\" class=\"sk-toggleable__label sk-toggleable__label-arrow\">SimpleImputer</label><div class=\"sk-toggleable__content\"><pre>SimpleImputer()</pre></div></div></div><div class=\"sk-item\"><div class=\"sk-estimator sk-toggleable\"><input class=\"sk-toggleable__control sk-hidden--visually\" id=\"998d7c7b-db4f-49b2-a710-518c6242bf65\" type=\"checkbox\" ><label for=\"998d7c7b-db4f-49b2-a710-518c6242bf65\" class=\"sk-toggleable__label sk-toggleable__label-arrow\">StandardScaler</label><div class=\"sk-toggleable__content\"><pre>StandardScaler()</pre></div></div></div></div></div></div></div></div><div class=\"sk-parallel-item\"><div class=\"sk-item\"><div class=\"sk-label-container\"><div class=\"sk-label sk-toggleable\"><input class=\"sk-toggleable__control sk-hidden--visually\" id=\"ecc59c58-d28f-48de-822f-10dd8e1b1f77\" type=\"checkbox\" ><label for=\"ecc59c58-d28f-48de-822f-10dd8e1b1f77\" class=\"sk-toggleable__label sk-toggleable__label-arrow\">remainder</label><div class=\"sk-toggleable__content\"><pre>[]</pre></div></div></div><div class=\"sk-serial\"><div class=\"sk-item\"><div class=\"sk-estimator sk-toggleable\"><input class=\"sk-toggleable__control sk-hidden--visually\" id=\"da12c7b6-97e7-47cf-98aa-6154ca4467f9\" type=\"checkbox\" ><label for=\"da12c7b6-97e7-47cf-98aa-6154ca4467f9\" class=\"sk-toggleable__label sk-toggleable__label-arrow\">passthrough</label><div class=\"sk-toggleable__content\"><pre>passthrough</pre></div></div></div></div></div></div></div></div><div class=\"sk-item\"><div class=\"sk-estimator sk-toggleable\"><input class=\"sk-toggleable__control sk-hidden--visually\" id=\"484c14c5-44c5-447e-9d9a-662badc7f3c5\" type=\"checkbox\" ><label for=\"484c14c5-44c5-447e-9d9a-662badc7f3c5\" class=\"sk-toggleable__label sk-toggleable__label-arrow\">RandomForestClassifier</label><div class=\"sk-toggleable__content\"><pre>RandomForestClassifier(random_state=42)</pre></div></div></div></div></div></div></div>"
            ],
            "text/plain": [
              "Pipeline(steps=[('columntransformer',\n",
              "                 ColumnTransformer(remainder='passthrough',\n",
              "                                   transformers=[('pipeline',\n",
              "                                                  Pipeline(steps=[('simpleimputer',\n",
              "                                                                   SimpleImputer()),\n",
              "                                                                  ('standardscaler',\n",
              "                                                                   StandardScaler())]),\n",
              "                                                  <sklearn.compose._column_transformer.make_column_selector object at 0x7f3b4d8bd910>)])),\n",
              "                ('randomforestclassifier',\n",
              "                 RandomForestClassifier(random_state=42))])"
            ]
          },
          "execution_count": 32,
          "metadata": {},
          "output_type": "execute_result"
        }
      ],
      "source": [
        "# Random Forest with default parameters\n",
        "rf = RandomForestClassifier(random_state = 42)\n",
        "\n",
        "# Create pipeling\n",
        "rf_pipe = make_pipeline(column_transformer, rf)\n",
        "\n",
        "# Fit model\n",
        "rf_pipe.fit(X_train, y_train)"
      ]
    },
    {
      "cell_type": "code",
      "execution_count": null,
      "metadata": {
        "colab": {
          "base_uri": "https://localhost:8080/"
        },
        "id": "GMB9pLevscdh",
        "outputId": "1d00396d-c773-4443-fd98-e1a3751513d0"
      },
      "outputs": [
        {
          "name": "stdout",
          "output_type": "stream",
          "text": [
            "Random Forest Training accuracy: 1.0\n",
            "Random Testing accuracy: 0.7413793103448276\n"
          ]
        }
      ],
      "source": [
        "rf_train_preds = rf_predict=rf_pipe.predict(X_train)\n",
        "rf_test_preds = rf_predict=rf_pipe.predict(X_test)\n",
        "\n",
        "print('Random Forest Training accuracy:', accuracy_score(y_train, rf_train_preds))\n",
        "print('Random Testing accuracy:', accuracy_score(y_test, rf_test_preds))"
      ]
    },
    {
      "cell_type": "code",
      "execution_count": null,
      "metadata": {
        "id": "Mf0kUs5Bhs3v"
      },
      "outputs": [],
      "source": [
        "# Define the hyperparameters to find best.\n",
        "rf_params = {'randomforestclassifier__max_depth' : range(1, 2, 3),\n",
        "             'randomforestclassifier__n_estimators' : [194, 195, 196],\n",
        "             'randomforestclassifier__min_samples_split' : [2,3,4]}"
      ]
    },
    {
      "cell_type": "code",
      "execution_count": null,
      "metadata": {
        "colab": {
          "base_uri": "https://localhost:8080/",
          "height": 228
        },
        "id": "gL6RG0alhwsr",
        "outputId": "d17d26d8-8b0d-4191-9ddf-cf5d05b5db64"
      },
      "outputs": [
        {
          "data": {
            "text/html": [
              "<style>#sk-8d64a766-50d1-4e80-987f-0f5d29308901 {color: black;background-color: white;}#sk-8d64a766-50d1-4e80-987f-0f5d29308901 pre{padding: 0;}#sk-8d64a766-50d1-4e80-987f-0f5d29308901 div.sk-toggleable {background-color: white;}#sk-8d64a766-50d1-4e80-987f-0f5d29308901 label.sk-toggleable__label {cursor: pointer;display: block;width: 100%;margin-bottom: 0;padding: 0.3em;box-sizing: border-box;text-align: center;}#sk-8d64a766-50d1-4e80-987f-0f5d29308901 label.sk-toggleable__label-arrow:before {content: \"▸\";float: left;margin-right: 0.25em;color: #696969;}#sk-8d64a766-50d1-4e80-987f-0f5d29308901 label.sk-toggleable__label-arrow:hover:before {color: black;}#sk-8d64a766-50d1-4e80-987f-0f5d29308901 div.sk-estimator:hover label.sk-toggleable__label-arrow:before {color: black;}#sk-8d64a766-50d1-4e80-987f-0f5d29308901 div.sk-toggleable__content {max-height: 0;max-width: 0;overflow: hidden;text-align: left;background-color: #f0f8ff;}#sk-8d64a766-50d1-4e80-987f-0f5d29308901 div.sk-toggleable__content pre {margin: 0.2em;color: black;border-radius: 0.25em;background-color: #f0f8ff;}#sk-8d64a766-50d1-4e80-987f-0f5d29308901 input.sk-toggleable__control:checked~div.sk-toggleable__content {max-height: 200px;max-width: 100%;overflow: auto;}#sk-8d64a766-50d1-4e80-987f-0f5d29308901 input.sk-toggleable__control:checked~label.sk-toggleable__label-arrow:before {content: \"▾\";}#sk-8d64a766-50d1-4e80-987f-0f5d29308901 div.sk-estimator input.sk-toggleable__control:checked~label.sk-toggleable__label {background-color: #d4ebff;}#sk-8d64a766-50d1-4e80-987f-0f5d29308901 div.sk-label input.sk-toggleable__control:checked~label.sk-toggleable__label {background-color: #d4ebff;}#sk-8d64a766-50d1-4e80-987f-0f5d29308901 input.sk-hidden--visually {border: 0;clip: rect(1px 1px 1px 1px);clip: rect(1px, 1px, 1px, 1px);height: 1px;margin: -1px;overflow: hidden;padding: 0;position: absolute;width: 1px;}#sk-8d64a766-50d1-4e80-987f-0f5d29308901 div.sk-estimator {font-family: monospace;background-color: #f0f8ff;border: 1px dotted black;border-radius: 0.25em;box-sizing: border-box;margin-bottom: 0.5em;}#sk-8d64a766-50d1-4e80-987f-0f5d29308901 div.sk-estimator:hover {background-color: #d4ebff;}#sk-8d64a766-50d1-4e80-987f-0f5d29308901 div.sk-parallel-item::after {content: \"\";width: 100%;border-bottom: 1px solid gray;flex-grow: 1;}#sk-8d64a766-50d1-4e80-987f-0f5d29308901 div.sk-label:hover label.sk-toggleable__label {background-color: #d4ebff;}#sk-8d64a766-50d1-4e80-987f-0f5d29308901 div.sk-serial::before {content: \"\";position: absolute;border-left: 1px solid gray;box-sizing: border-box;top: 2em;bottom: 0;left: 50%;}#sk-8d64a766-50d1-4e80-987f-0f5d29308901 div.sk-serial {display: flex;flex-direction: column;align-items: center;background-color: white;padding-right: 0.2em;padding-left: 0.2em;}#sk-8d64a766-50d1-4e80-987f-0f5d29308901 div.sk-item {z-index: 1;}#sk-8d64a766-50d1-4e80-987f-0f5d29308901 div.sk-parallel {display: flex;align-items: stretch;justify-content: center;background-color: white;}#sk-8d64a766-50d1-4e80-987f-0f5d29308901 div.sk-parallel::before {content: \"\";position: absolute;border-left: 1px solid gray;box-sizing: border-box;top: 2em;bottom: 0;left: 50%;}#sk-8d64a766-50d1-4e80-987f-0f5d29308901 div.sk-parallel-item {display: flex;flex-direction: column;position: relative;background-color: white;}#sk-8d64a766-50d1-4e80-987f-0f5d29308901 div.sk-parallel-item:first-child::after {align-self: flex-end;width: 50%;}#sk-8d64a766-50d1-4e80-987f-0f5d29308901 div.sk-parallel-item:last-child::after {align-self: flex-start;width: 50%;}#sk-8d64a766-50d1-4e80-987f-0f5d29308901 div.sk-parallel-item:only-child::after {width: 0;}#sk-8d64a766-50d1-4e80-987f-0f5d29308901 div.sk-dashed-wrapped {border: 1px dashed gray;margin: 0 0.4em 0.5em 0.4em;box-sizing: border-box;padding-bottom: 0.4em;background-color: white;position: relative;}#sk-8d64a766-50d1-4e80-987f-0f5d29308901 div.sk-label label {font-family: monospace;font-weight: bold;background-color: white;display: inline-block;line-height: 1.2em;}#sk-8d64a766-50d1-4e80-987f-0f5d29308901 div.sk-label-container {position: relative;z-index: 2;text-align: center;}#sk-8d64a766-50d1-4e80-987f-0f5d29308901 div.sk-container {/* jupyter's `normalize.less` sets `[hidden] { display: none; }` but bootstrap.min.css set `[hidden] { display: none !important; }` so we also need the `!important` here to be able to override the default hidden behavior on the sphinx rendered scikit-learn.org. See: https://github.com/scikit-learn/scikit-learn/issues/21755 */display: inline-block !important;position: relative;}#sk-8d64a766-50d1-4e80-987f-0f5d29308901 div.sk-text-repr-fallback {display: none;}</style><div id=\"sk-8d64a766-50d1-4e80-987f-0f5d29308901\" class=\"sk-top-container\"><div class=\"sk-text-repr-fallback\"><pre>GridSearchCV(estimator=Pipeline(steps=[(&#x27;columntransformer&#x27;,\n",
              "                                        ColumnTransformer(remainder=&#x27;passthrough&#x27;,\n",
              "                                                          transformers=[(&#x27;pipeline&#x27;,\n",
              "                                                                         Pipeline(steps=[(&#x27;simpleimputer&#x27;,\n",
              "                                                                                          SimpleImputer()),\n",
              "                                                                                         (&#x27;standardscaler&#x27;,\n",
              "                                                                                          StandardScaler())]),\n",
              "                                                                         &lt;sklearn.compose._column_transformer.make_column_selector object at 0x7f3b4d8bd910&gt;)])),\n",
              "                                       (&#x27;randomforestclassifier&#x27;,\n",
              "                                        RandomForestClassifier(random_state=42))]),\n",
              "             param_grid={&#x27;randomforestclassifier__max_depth&#x27;: range(1, 2, 3),\n",
              "                         &#x27;randomforestclassifier__min_samples_split&#x27;: [2, 3, 4],\n",
              "                         &#x27;randomforestclassifier__n_estimators&#x27;: [194, 195,\n",
              "                                                                  196]})</pre><b>Please rerun this cell to show the HTML repr or trust the notebook.</b></div><div class=\"sk-container\" hidden><div class=\"sk-item sk-dashed-wrapped\"><div class=\"sk-label-container\"><div class=\"sk-label sk-toggleable\"><input class=\"sk-toggleable__control sk-hidden--visually\" id=\"0c6ce725-046a-4648-8260-e302129d697d\" type=\"checkbox\" ><label for=\"0c6ce725-046a-4648-8260-e302129d697d\" class=\"sk-toggleable__label sk-toggleable__label-arrow\">GridSearchCV</label><div class=\"sk-toggleable__content\"><pre>GridSearchCV(estimator=Pipeline(steps=[(&#x27;columntransformer&#x27;,\n",
              "                                        ColumnTransformer(remainder=&#x27;passthrough&#x27;,\n",
              "                                                          transformers=[(&#x27;pipeline&#x27;,\n",
              "                                                                         Pipeline(steps=[(&#x27;simpleimputer&#x27;,\n",
              "                                                                                          SimpleImputer()),\n",
              "                                                                                         (&#x27;standardscaler&#x27;,\n",
              "                                                                                          StandardScaler())]),\n",
              "                                                                         &lt;sklearn.compose._column_transformer.make_column_selector object at 0x7f3b4d8bd910&gt;)])),\n",
              "                                       (&#x27;randomforestclassifier&#x27;,\n",
              "                                        RandomForestClassifier(random_state=42))]),\n",
              "             param_grid={&#x27;randomforestclassifier__max_depth&#x27;: range(1, 2, 3),\n",
              "                         &#x27;randomforestclassifier__min_samples_split&#x27;: [2, 3, 4],\n",
              "                         &#x27;randomforestclassifier__n_estimators&#x27;: [194, 195,\n",
              "                                                                  196]})</pre></div></div></div><div class=\"sk-parallel\"><div class=\"sk-parallel-item\"><div class=\"sk-item\"><div class=\"sk-serial\"><div class=\"sk-item\"><div class=\"sk-serial\"><div class=\"sk-item sk-dashed-wrapped\"><div class=\"sk-label-container\"><div class=\"sk-label sk-toggleable\"><input class=\"sk-toggleable__control sk-hidden--visually\" id=\"2d3d46f9-b33c-4ca7-a6b8-33654369d270\" type=\"checkbox\" ><label for=\"2d3d46f9-b33c-4ca7-a6b8-33654369d270\" class=\"sk-toggleable__label sk-toggleable__label-arrow\">columntransformer: ColumnTransformer</label><div class=\"sk-toggleable__content\"><pre>ColumnTransformer(remainder=&#x27;passthrough&#x27;,\n",
              "                  transformers=[(&#x27;pipeline&#x27;,\n",
              "                                 Pipeline(steps=[(&#x27;simpleimputer&#x27;,\n",
              "                                                  SimpleImputer()),\n",
              "                                                 (&#x27;standardscaler&#x27;,\n",
              "                                                  StandardScaler())]),\n",
              "                                 &lt;sklearn.compose._column_transformer.make_column_selector object at 0x7f3b4d8bd910&gt;)])</pre></div></div></div><div class=\"sk-parallel\"><div class=\"sk-parallel-item\"><div class=\"sk-item\"><div class=\"sk-label-container\"><div class=\"sk-label sk-toggleable\"><input class=\"sk-toggleable__control sk-hidden--visually\" id=\"b75319c1-e3c5-46cd-a5f3-3112082feeab\" type=\"checkbox\" ><label for=\"b75319c1-e3c5-46cd-a5f3-3112082feeab\" class=\"sk-toggleable__label sk-toggleable__label-arrow\">pipeline</label><div class=\"sk-toggleable__content\"><pre>&lt;sklearn.compose._column_transformer.make_column_selector object at 0x7f3b4d8bd910&gt;</pre></div></div></div><div class=\"sk-serial\"><div class=\"sk-item\"><div class=\"sk-serial\"><div class=\"sk-item\"><div class=\"sk-estimator sk-toggleable\"><input class=\"sk-toggleable__control sk-hidden--visually\" id=\"47ba5147-1f93-4118-a839-b6f8dbc8908f\" type=\"checkbox\" ><label for=\"47ba5147-1f93-4118-a839-b6f8dbc8908f\" class=\"sk-toggleable__label sk-toggleable__label-arrow\">SimpleImputer</label><div class=\"sk-toggleable__content\"><pre>SimpleImputer()</pre></div></div></div><div class=\"sk-item\"><div class=\"sk-estimator sk-toggleable\"><input class=\"sk-toggleable__control sk-hidden--visually\" id=\"8dc92bc6-7c1b-4111-b0a2-5f07156e36d2\" type=\"checkbox\" ><label for=\"8dc92bc6-7c1b-4111-b0a2-5f07156e36d2\" class=\"sk-toggleable__label sk-toggleable__label-arrow\">StandardScaler</label><div class=\"sk-toggleable__content\"><pre>StandardScaler()</pre></div></div></div></div></div></div></div></div><div class=\"sk-parallel-item\"><div class=\"sk-item\"><div class=\"sk-label-container\"><div class=\"sk-label sk-toggleable\"><input class=\"sk-toggleable__control sk-hidden--visually\" id=\"dc658c92-ac8b-405f-8824-f69d864489b5\" type=\"checkbox\" ><label for=\"dc658c92-ac8b-405f-8824-f69d864489b5\" class=\"sk-toggleable__label sk-toggleable__label-arrow\">remainder</label><div class=\"sk-toggleable__content\"><pre>[]</pre></div></div></div><div class=\"sk-serial\"><div class=\"sk-item\"><div class=\"sk-estimator sk-toggleable\"><input class=\"sk-toggleable__control sk-hidden--visually\" id=\"76ce8503-5965-4ef2-a807-9fbe0cc818b3\" type=\"checkbox\" ><label for=\"76ce8503-5965-4ef2-a807-9fbe0cc818b3\" class=\"sk-toggleable__label sk-toggleable__label-arrow\">passthrough</label><div class=\"sk-toggleable__content\"><pre>passthrough</pre></div></div></div></div></div></div></div></div><div class=\"sk-item\"><div class=\"sk-estimator sk-toggleable\"><input class=\"sk-toggleable__control sk-hidden--visually\" id=\"e33de8f2-4482-4e61-8390-b4b172bbf3a2\" type=\"checkbox\" ><label for=\"e33de8f2-4482-4e61-8390-b4b172bbf3a2\" class=\"sk-toggleable__label sk-toggleable__label-arrow\">RandomForestClassifier</label><div class=\"sk-toggleable__content\"><pre>RandomForestClassifier(random_state=42)</pre></div></div></div></div></div></div></div></div></div></div></div></div>"
            ],
            "text/plain": [
              "GridSearchCV(estimator=Pipeline(steps=[('columntransformer',\n",
              "                                        ColumnTransformer(remainder='passthrough',\n",
              "                                                          transformers=[('pipeline',\n",
              "                                                                         Pipeline(steps=[('simpleimputer',\n",
              "                                                                                          SimpleImputer()),\n",
              "                                                                                         ('standardscaler',\n",
              "                                                                                          StandardScaler())]),\n",
              "                                                                         <sklearn.compose._column_transformer.make_column_selector object at 0x7f3b4d8bd910>)])),\n",
              "                                       ('randomforestclassifier',\n",
              "                                        RandomForestClassifier(random_state=42))]),\n",
              "             param_grid={'randomforestclassifier__max_depth': range(1, 2, 3),\n",
              "                         'randomforestclassifier__min_samples_split': [2, 3, 4],\n",
              "                         'randomforestclassifier__n_estimators': [194, 195,\n",
              "                                                                  196]})"
            ]
          },
          "execution_count": 35,
          "metadata": {},
          "output_type": "execute_result"
        }
      ],
      "source": [
        "# Use GridSearch to find best parameters\n",
        "rf_grid = GridSearchCV(rf_pipe, rf_params)\n",
        "rf_grid.fit(X_train, y_train)"
      ]
    },
    {
      "cell_type": "code",
      "execution_count": null,
      "metadata": {
        "colab": {
          "base_uri": "https://localhost:8080/"
        },
        "id": "bofe7frKhz2n",
        "outputId": "afcee984-0e79-4dd4-ed6f-853f189cd6ac"
      },
      "outputs": [
        {
          "data": {
            "text/plain": [
              "{'randomforestclassifier__max_depth': 1,\n",
              " 'randomforestclassifier__min_samples_split': 2,\n",
              " 'randomforestclassifier__n_estimators': 194}"
            ]
          },
          "execution_count": 36,
          "metadata": {},
          "output_type": "execute_result"
        }
      ],
      "source": [
        "# View best parameters\n",
        "rf_grid.best_params_"
      ]
    },
    {
      "cell_type": "code",
      "execution_count": null,
      "metadata": {
        "id": "VyjLGpETZpVN"
      },
      "outputs": [],
      "source": [
        "# Create variable with the best parameters\n",
        "best_rf = rf_grid.best_estimator_"
      ]
    },
    {
      "cell_type": "code",
      "execution_count": null,
      "metadata": {
        "colab": {
          "base_uri": "https://localhost:8080/"
        },
        "id": "R7pD1rOQh3fU",
        "outputId": "7d1d17af-aef1-46bb-cd8e-e00ba8621035"
      },
      "outputs": [
        {
          "name": "stdout",
          "output_type": "stream",
          "text": [
            "Random Forest Best Model Training Metrics\n",
            "              precision    recall  f1-score   support\n",
            "\n",
            "           0       0.68      1.00      0.81       227\n",
            "           1       0.92      0.09      0.17       119\n",
            "\n",
            "    accuracy                           0.68       346\n",
            "   macro avg       0.80      0.54      0.49       346\n",
            "weighted avg       0.76      0.68      0.59       346\n",
            "\n",
            "\n",
            "Random Forest Best Model Testing Metrics\n",
            "              precision    recall  f1-score   support\n",
            "\n",
            "           0       0.65      0.99      0.79        75\n",
            "           1       0.67      0.05      0.09        41\n",
            "\n",
            "    accuracy                           0.66       116\n",
            "   macro avg       0.66      0.52      0.44       116\n",
            "weighted avg       0.66      0.66      0.54       116\n",
            "\n"
          ]
        }
      ],
      "source": [
        "# Run a classification report on both train and test datasets for the best model. \n",
        "# How is your model doing?  Did the performance improve? How is the overfitting?\n",
        "rf_train_preds = best_rf.predict(X_train)\n",
        "rf_test_preds = best_rf.predict(X_test)\n",
        "\n",
        "print('Random Forest Best Model Training Metrics')\n",
        "print(classification_report(y_train, rf_train_preds))\n",
        "print('\\nRandom Forest Best Model Testing Metrics')\n",
        "print(classification_report(y_test, rf_test_preds))"
      ]
    },
    {
      "cell_type": "markdown",
      "metadata": {
        "id": "zUf8c_83aoax"
      },
      "source": [
        "## SUMMARY OF SCORES"
      ]
    },
    {
      "cell_type": "markdown",
      "metadata": {
        "id": "1zxGzWm6fL6J"
      },
      "source": [
        "---\n",
        "\n",
        "The code below reprints the scores of Logistic Regression, KNN and Random Forest.\n",
        "It would appear from the results that the best model for predicting CHD with the data we have is the Logistic Regression model, however I feel that I would actually prefer to have MORE data to model, or possibly more diverse columns of information as I am not happy with the results against the test sets.\n",
        "\n",
        "---"
      ]
    },
    {
      "cell_type": "code",
      "execution_count": null,
      "metadata": {
        "colab": {
          "base_uri": "https://localhost:8080/"
        },
        "id": "Wn_u6VHcanvs",
        "outputId": "080935f7-38ca-439c-afbd-2514c41b3993"
      },
      "outputs": [
        {
          "name": "stdout",
          "output_type": "stream",
          "text": [
            "Logistic Regression Best Model Training Metrics\n",
            "              precision    recall  f1-score   support\n",
            "\n",
            "           0       0.78      0.85      0.81       227\n",
            "           1       0.65      0.53      0.58       119\n",
            "\n",
            "    accuracy                           0.74       346\n",
            "   macro avg       0.71      0.69      0.70       346\n",
            "weighted avg       0.73      0.74      0.73       346\n",
            "\n",
            "\n",
            " Logistion Regression Best Model Testing Metrics\n",
            "              precision    recall  f1-score   support\n",
            "\n",
            "           0       0.78      0.81      0.80        75\n",
            "           1       0.63      0.59      0.61        41\n",
            "\n",
            "    accuracy                           0.73       116\n",
            "   macro avg       0.71      0.70      0.70       116\n",
            "weighted avg       0.73      0.73      0.73       116\n",
            "\n",
            "\n",
            "-----------------------------------------------------\n",
            "\n",
            "KNN Best Model Training Metrics\n",
            "              precision    recall  f1-score   support\n",
            "\n",
            "           0       0.75      0.92      0.82       227\n",
            "           1       0.73      0.40      0.52       119\n",
            "\n",
            "    accuracy                           0.74       346\n",
            "   macro avg       0.74      0.66      0.67       346\n",
            "weighted avg       0.74      0.74      0.72       346\n",
            "\n",
            "\n",
            "KNN Best Model Testing Metrics\n",
            "              precision    recall  f1-score   support\n",
            "\n",
            "           0       0.70      0.93      0.80        75\n",
            "           1       0.69      0.27      0.39        41\n",
            "\n",
            "    accuracy                           0.70       116\n",
            "   macro avg       0.69      0.60      0.59       116\n",
            "weighted avg       0.70      0.70      0.65       116\n",
            "\n",
            "\n",
            "------------------------------------------------------\n",
            "\n",
            "Random Forest Best Model Training Metrics\n",
            "              precision    recall  f1-score   support\n",
            "\n",
            "           0       0.68      1.00      0.81       227\n",
            "           1       0.92      0.09      0.17       119\n",
            "\n",
            "    accuracy                           0.68       346\n",
            "   macro avg       0.80      0.54      0.49       346\n",
            "weighted avg       0.76      0.68      0.59       346\n",
            "\n",
            "\n",
            "Random Forest Best Model Testing Metrics\n",
            "              precision    recall  f1-score   support\n",
            "\n",
            "           0       0.65      0.99      0.79        75\n",
            "           1       0.67      0.05      0.09        41\n",
            "\n",
            "    accuracy                           0.66       116\n",
            "   macro avg       0.66      0.52      0.44       116\n",
            "weighted avg       0.66      0.66      0.54       116\n",
            "\n"
          ]
        }
      ],
      "source": [
        "print('Logistic Regression Best Model Training Metrics')\n",
        "print(classification_report(y_train, lr_train_preds))\n",
        "print('\\n Logistion Regression Best Model Testing Metrics')\n",
        "print(classification_report(y_test, lr_test_preds))\n",
        "print('\\n-----------------------------------------------------\\n')\n",
        "print('KNN Best Model Training Metrics')\n",
        "print(classification_report(y_train, knn_train_preds))\n",
        "print('\\nKNN Best Model Testing Metrics')\n",
        "print(classification_report(y_test, knn_test_preds))\n",
        "print('\\n------------------------------------------------------\\n')\n",
        "print('Random Forest Best Model Training Metrics')\n",
        "print(classification_report(y_train, rf_train_preds))\n",
        "print('\\nRandom Forest Best Model Testing Metrics')\n",
        "print(classification_report(y_test, rf_test_preds))"
      ]
    },
    {
      "cell_type": "markdown",
      "metadata": {
        "id": "MB8r8SuejLOR"
      },
      "source": [
        "## Visualizaing via Clustering"
      ]
    },
    {
      "cell_type": "code",
      "execution_count": null,
      "metadata": {
        "id": "LNcxUlkKe2vW"
      },
      "outputs": [],
      "source": [
        "def plot_k_values(data, ks):\n",
        "  \"\"\"plot the silhouette score and inertia \n",
        "  of a KMeans model for various k values\"\"\"\n",
        "\n",
        "  sils = []\n",
        "  inertias = []\n",
        "\n",
        "  for k in ks:\n",
        "    km = KMeans(n_clusters=k)\n",
        "    km.fit(data)\n",
        "    sils.append(silhouette_score(data, km.labels_))\n",
        "    inertias.append(km.inertia_)\n",
        "      \n",
        "    # plot inertia and silhouette score\n",
        "  fig, ax1 = plt.subplots(figsize=(9,7))\n",
        "  ax1.set_xlabel('number of clusters')\n",
        "  ax1.set_ylabel('Inertia', color = 'blue')\n",
        "  ax1.plot(ks, inertias, color = 'blue',label='inertia',marker ='o')\n",
        "\n",
        "  ax2 = ax1.twinx()\n",
        "  \n",
        "  ax2.set_ylabel('Silhouette Score', color = 'red')\n",
        "  ax2.plot(ks, sils, color = 'red',label='silhouette score',marker='+')\n",
        "  ax1.legend(loc=0)  \n",
        "  ax2.legend(loc='upper left')\n",
        "  plt.grid()\n",
        "  plt.show()"
      ]
    },
    {
      "cell_type": "code",
      "execution_count": null,
      "metadata": {
        "colab": {
          "base_uri": "https://localhost:8080/",
          "height": 442
        },
        "id": "y6KlT5lFe4m_",
        "outputId": "7d90d937-244b-47b0-ec99-fb937d3507ed"
      },
      "outputs": [
        {
          "data": {
            "image/png": "[encoded data removed]",
            "text/plain": [
              "<Figure size 648x504 with 2 Axes>"
            ]
          },
          "metadata": {},
          "output_type": "display_data"
        }
      ],
      "source": [
        "plot_k_values(scaled_df,range(3,11))"
      ]
    },
    {
      "cell_type": "code",
      "execution_count": null,
      "metadata": {
        "colab": {
          "base_uri": "https://localhost:8080/"
        },
        "id": "EW5TAppcfcP2",
        "outputId": "3540d9bf-9a22-462b-fc9a-bbd5fc74763f"
      },
      "outputs": [
        {
          "data": {
            "text/plain": [
              "0.15970212955862026"
            ]
          },
          "execution_count": 42,
          "metadata": {},
          "output_type": "execute_result"
        }
      ],
      "source": [
        "# Fit kmeans model with 2 clusters and display the silhouette score\n",
        "kmeans = KMeans(n_clusters = 4)\n",
        "kmeans.fit(scaled_df)\n",
        "silhouette_score(scaled_df, kmeans.labels_)"
      ]
    },
    {
      "cell_type": "code",
      "execution_count": null,
      "metadata": {
        "id": "m-7BPKOHf2Hk"
      },
      "outputs": [],
      "source": [
        "df[\"cluster\"]=kmeans.labels_"
      ]
    },
    {
      "cell_type": "code",
      "execution_count": null,
      "metadata": {
        "colab": {
          "base_uri": "https://localhost:8080/",
          "height": 175
        },
        "id": "Yd3zTF-9eC6m",
        "outputId": "af35892e-e9c2-4fc3-9749-e3db48e9c8c8"
      },
      "outputs": [
        {
          "data": {
            "text/html": [
              "\n",
              "  <div id=\"df-c80d1951-e32b-41a3-a2c7-b585406e3be7\">\n",
              "    <div class=\"colab-df-container\">\n",
              "      <div>\n",
              "<style scoped>\n",
              "    .dataframe tbody tr th:only-of-type {\n",
              "        vertical-align: middle;\n",
              "    }\n",
              "\n",
              "    .dataframe tbody tr th {\n",
              "        vertical-align: top;\n",
              "    }\n",
              "\n",
              "    .dataframe thead th {\n",
              "        text-align: right;\n",
              "    }\n",
              "</style>\n",
              "<table border=\"1\" class=\"dataframe\">\n",
              "  <thead>\n",
              "    <tr style=\"text-align: right;\">\n",
              "      <th></th>\n",
              "      <th>cluster</th>\n",
              "      <th>sbp</th>\n",
              "      <th>tobacco</th>\n",
              "      <th>ldl</th>\n",
              "      <th>adiposity</th>\n",
              "      <th>famhist</th>\n",
              "      <th>typea</th>\n",
              "      <th>obesity</th>\n",
              "      <th>alcohol</th>\n",
              "      <th>age</th>\n",
              "      <th>chd</th>\n",
              "    </tr>\n",
              "  </thead>\n",
              "  <tbody>\n",
              "    <tr>\n",
              "      <th>0</th>\n",
              "      <td>0</td>\n",
              "      <td>136.0</td>\n",
              "      <td>2.750</td>\n",
              "      <td>4.860</td>\n",
              "      <td>29.580</td>\n",
              "      <td>0.0</td>\n",
              "      <td>52.0</td>\n",
              "      <td>27.590</td>\n",
              "      <td>8.23</td>\n",
              "      <td>49.0</td>\n",
              "      <td>0.0</td>\n",
              "    </tr>\n",
              "    <tr>\n",
              "      <th>1</th>\n",
              "      <td>1</td>\n",
              "      <td>140.0</td>\n",
              "      <td>5.565</td>\n",
              "      <td>4.265</td>\n",
              "      <td>27.730</td>\n",
              "      <td>1.0</td>\n",
              "      <td>56.0</td>\n",
              "      <td>26.085</td>\n",
              "      <td>66.46</td>\n",
              "      <td>48.0</td>\n",
              "      <td>0.0</td>\n",
              "    </tr>\n",
              "    <tr>\n",
              "      <th>2</th>\n",
              "      <td>2</td>\n",
              "      <td>128.0</td>\n",
              "      <td>0.100</td>\n",
              "      <td>3.280</td>\n",
              "      <td>16.670</td>\n",
              "      <td>0.0</td>\n",
              "      <td>54.0</td>\n",
              "      <td>22.450</td>\n",
              "      <td>2.49</td>\n",
              "      <td>26.0</td>\n",
              "      <td>0.0</td>\n",
              "    </tr>\n",
              "    <tr>\n",
              "      <th>3</th>\n",
              "      <td>3</td>\n",
              "      <td>140.0</td>\n",
              "      <td>4.130</td>\n",
              "      <td>5.455</td>\n",
              "      <td>29.285</td>\n",
              "      <td>1.0</td>\n",
              "      <td>54.0</td>\n",
              "      <td>27.105</td>\n",
              "      <td>6.17</td>\n",
              "      <td>54.0</td>\n",
              "      <td>1.0</td>\n",
              "    </tr>\n",
              "  </tbody>\n",
              "</table>\n",
              "</div>\n",
              "      <button class=\"colab-df-convert\" onclick=\"convertToInteractive('df-c80d1951-e32b-41a3-a2c7-b585406e3be7')\"\n",
              "              title=\"Convert this dataframe to an interactive table.\"\n",
              "              style=\"display:none;\">\n",
              "        \n",
              "  <svg xmlns=\"http://www.w3.org/2000/svg\" height=\"24px\"viewBox=\"0 0 24 24\"\n",
              "       width=\"24px\">\n",
              "    <path d=\"M0 0h24v24H0V0z\" fill=\"none\"/>\n",
              "    <path d=\"M18.56 5.44l.94 2.06.94-2.06 2.06-.94-2.06-.94-.94-2.06-.94 2.06-2.06.94zm-11 1L8.5 8.5l.94-2.06 2.06-.94-2.06-.94L8.5 2.5l-.94 2.06-2.06.94zm10 10l.94 2.06.94-2.06 2.06-.94-2.06-.94-.94-2.06-.94 2.06-2.06.94z\"/><path d=\"M17.41 7.96l-1.37-1.37c-.4-.4-.92-.59-1.43-.59-.52 0-1.04.2-1.43.59L10.3 9.45l-7.72 7.72c-.78.78-.78 2.05 0 2.83L4 21.41c.39.39.9.59 1.41.59.51 0 1.02-.2 1.41-.59l7.78-7.78 2.81-2.81c.8-.78.8-2.07 0-2.86zM5.41 20L4 18.59l7.72-7.72 1.47 1.35L5.41 20z\"/>\n",
              "  </svg>\n",
              "      </button>\n",
              "      \n",
              "  <style>\n",
              "    .colab-df-container {\n",
              "      display:flex;\n",
              "      flex-wrap:wrap;\n",
              "      gap: 12px;\n",
              "    }\n",
              "\n",
              "    .colab-df-convert {\n",
              "      background-color: #E8F0FE;\n",
              "      border: none;\n",
              "      border-radius: 50%;\n",
              "      cursor: pointer;\n",
              "      display: none;\n",
              "      fill: #1967D2;\n",
              "      height: 32px;\n",
              "      padding: 0 0 0 0;\n",
              "      width: 32px;\n",
              "    }\n",
              "\n",
              "    .colab-df-convert:hover {\n",
              "      background-color: #E2EBFA;\n",
              "      box-shadow: 0px 1px 2px rgba(60, 64, 67, 0.3), 0px 1px 3px 1px rgba(60, 64, 67, 0.15);\n",
              "      fill: #174EA6;\n",
              "    }\n",
              "\n",
              "    [theme=dark] .colab-df-convert {\n",
              "      background-color: #3B4455;\n",
              "      fill: #D2E3FC;\n",
              "    }\n",
              "\n",
              "    [theme=dark] .colab-df-convert:hover {\n",
              "      background-color: #434B5C;\n",
              "      box-shadow: 0px 1px 3px 1px rgba(0, 0, 0, 0.15);\n",
              "      filter: drop-shadow(0px 1px 2px rgba(0, 0, 0, 0.3));\n",
              "      fill: #FFFFFF;\n",
              "    }\n",
              "  </style>\n",
              "\n",
              "      <script>\n",
              "        const buttonEl =\n",
              "          document.querySelector('#df-c80d1951-e32b-41a3-a2c7-b585406e3be7 button.colab-df-convert');\n",
              "        buttonEl.style.display =\n",
              "          google.colab.kernel.accessAllowed ? 'block' : 'none';\n",
              "\n",
              "        async function convertToInteractive(key) {\n",
              "          const element = document.querySelector('#df-c80d1951-e32b-41a3-a2c7-b585406e3be7');\n",
              "          const dataTable =\n",
              "            await google.colab.kernel.invokeFunction('convertToInteractive',\n",
              "                                                     [key], {});\n",
              "          if (!dataTable) return;\n",
              "\n",
              "          const docLinkHtml = 'Like what you see? Visit the ' +\n",
              "            '<a target=\"_blank\" href=https://colab.research.google.com/notebooks/data_table.ipynb>data table notebook</a>'\n",
              "            + ' to learn more about interactive tables.';\n",
              "          element.innerHTML = '';\n",
              "          dataTable['output_type'] = 'display_data';\n",
              "          await google.colab.output.renderOutput(dataTable, element);\n",
              "          const docLink = document.createElement('div');\n",
              "          docLink.innerHTML = docLinkHtml;\n",
              "          element.appendChild(docLink);\n",
              "        }\n",
              "      </script>\n",
              "    </div>\n",
              "  </div>\n",
              "  "
            ],
            "text/plain": [
              "   cluster    sbp  tobacco    ldl  adiposity  famhist  typea  obesity  \\\n",
              "0        0  136.0    2.750  4.860     29.580      0.0   52.0   27.590   \n",
              "1        1  140.0    5.565  4.265     27.730      1.0   56.0   26.085   \n",
              "2        2  128.0    0.100  3.280     16.670      0.0   54.0   22.450   \n",
              "3        3  140.0    4.130  5.455     29.285      1.0   54.0   27.105   \n",
              "\n",
              "   alcohol   age  chd  \n",
              "0     8.23  49.0  0.0  \n",
              "1    66.46  48.0  0.0  \n",
              "2     2.49  26.0  0.0  \n",
              "3     6.17  54.0  1.0  "
            ]
          },
          "execution_count": 44,
          "metadata": {},
          "output_type": "execute_result"
        }
      ],
      "source": [
        "# Group the dataframe by cluster and aggregate by mean values\n",
        "# Add as_index=False so that the clusters are a column, not the index\n",
        "cluster_groups = df.groupby('cluster', as_index=False).median()\n",
        "cluster_groups"
      ]
    },
    {
      "cell_type": "code",
      "execution_count": null,
      "metadata": {
        "colab": {
          "base_uri": "https://localhost:8080/",
          "height": 1000
        },
        "id": "9lnaH6qseD4i",
        "outputId": "1174c3ba-a822-458c-8870-dd82b00db3b2"
      },
      "outputs": [
        {
          "name": "stderr",
          "output_type": "stream",
          "text": [
            "/usr/local/lib/python3.7/dist-packages/seaborn/_decorators.py:43: FutureWarning: Pass the following variables as keyword args: x, y. From version 0.12, the only valid positional argument will be `data`, and passing other arguments without an explicit keyword will result in an error or misinterpretation.\n",
            "  FutureWarning\n",
            "/usr/local/lib/python3.7/dist-packages/seaborn/_decorators.py:43: FutureWarning: Pass the following variables as keyword args: x, y. From version 0.12, the only valid positional argument will be `data`, and passing other arguments without an explicit keyword will result in an error or misinterpretation.\n",
            "  FutureWarning\n",
            "/usr/local/lib/python3.7/dist-packages/seaborn/_decorators.py:43: FutureWarning: Pass the following variables as keyword args: x, y. From version 0.12, the only valid positional argument will be `data`, and passing other arguments without an explicit keyword will result in an error or misinterpretation.\n",
            "  FutureWarning\n",
            "/usr/local/lib/python3.7/dist-packages/seaborn/_decorators.py:43: FutureWarning: Pass the following variables as keyword args: x, y. From version 0.12, the only valid positional argument will be `data`, and passing other arguments without an explicit keyword will result in an error or misinterpretation.\n",
            "  FutureWarning\n",
            "/usr/local/lib/python3.7/dist-packages/seaborn/_decorators.py:43: FutureWarning: Pass the following variables as keyword args: x, y. From version 0.12, the only valid positional argument will be `data`, and passing other arguments without an explicit keyword will result in an error or misinterpretation.\n",
            "  FutureWarning\n",
            "/usr/local/lib/python3.7/dist-packages/seaborn/_decorators.py:43: FutureWarning: Pass the following variables as keyword args: x, y. From version 0.12, the only valid positional argument will be `data`, and passing other arguments without an explicit keyword will result in an error or misinterpretation.\n",
            "  FutureWarning\n",
            "/usr/local/lib/python3.7/dist-packages/seaborn/_decorators.py:43: FutureWarning: Pass the following variables as keyword args: x, y. From version 0.12, the only valid positional argument will be `data`, and passing other arguments without an explicit keyword will result in an error or misinterpretation.\n",
            "  FutureWarning\n",
            "/usr/local/lib/python3.7/dist-packages/seaborn/_decorators.py:43: FutureWarning: Pass the following variables as keyword args: x, y. From version 0.12, the only valid positional argument will be `data`, and passing other arguments without an explicit keyword will result in an error or misinterpretation.\n",
            "  FutureWarning\n",
            "/usr/local/lib/python3.7/dist-packages/seaborn/_decorators.py:43: FutureWarning: Pass the following variables as keyword args: x, y. From version 0.12, the only valid positional argument will be `data`, and passing other arguments without an explicit keyword will result in an error or misinterpretation.\n",
            "  FutureWarning\n",
            "/usr/local/lib/python3.7/dist-packages/seaborn/_decorators.py:43: FutureWarning: Pass the following variables as keyword args: x, y. From version 0.12, the only valid positional argument will be `data`, and passing other arguments without an explicit keyword will result in an error or misinterpretation.\n",
            "  FutureWarning\n"
          ]
        },
        {
          "data": {
            "image/png": "[encoded data removed]",
            "text/plain": [
              "<Figure size 1440x720 with 10 Axes>"
            ]
          },
          "metadata": {},
          "output_type": "display_data"
        }
      ],
      "source": [
        "# Visualize medians \n",
        "fig, axes = plt.subplots(2,5, figsize = (20, 10))\n",
        "# fig is an array of dimensions 3,4.  axes.ravel() will flatten it to 12,1\n",
        "axes = axes.ravel()\n",
        "# Loop over columns and plot each in a separate figure, skip 'cluster' column\n",
        "for i, col in enumerate(cluster_groups.columns[1:]):\n",
        "  #axes[i].bar(cluster_groups['cluster'], cluster_groups[col])\n",
        "  sns.barplot(cluster_groups['cluster'], cluster_groups[col], hue=cluster_groups['cluster'], ax=axes[i])\n",
        "  #sns.scatterplot(data=df, x=col, y='price', hue='cluster', ax=axes[i])\n",
        "  axes[i].set_title(f'Median {col}')\n",
        "plt.tight_layout()"
      ]
    }
  ],
  "metadata": {
    "accelerator": "GPU",
    "colab": {
      "collapsed_sections": [
        "E2e-Tw2t03Q5"
      ],
      "name": "Final Project - Predict Heart Disease.ipynb",
      "provenance": [],
      "include_colab_link": true
    },
    "kernelspec": {
      "display_name": "Python 3",
      "name": "python3"
    },
    "language_info": {
      "name": "python"
    }
  },
  "nbformat": 4,
  "nbformat_minor": 0
}